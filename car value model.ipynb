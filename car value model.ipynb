{
 "cells": [
  {
   "cell_type": "markdown",
   "metadata": {},
   "source": [
    "El servicio de venta de autos usados Rusty Bargain está desarrollando una aplicación para atraer nuevos clientes. Gracias a esa app, puedes averiguar rápidamente el valor de mercado de tu coche. Tienes acceso al historial: especificaciones técnicas, versiones de equipamiento y precios. Tienes que crear un modelo que determine el valor de mercado.\n",
    "A Rusty Bargain le interesa:\n",
    "- la calidad de la predicción;\n",
    "- la velocidad de la predicción;\n",
    "- el tiempo requerido para el entrenamiento"
   ]
  },
  {
   "cell_type": "markdown",
   "metadata": {},
   "source": [
    "## Preparación de datos"
   ]
  },
  {
   "cell_type": "markdown",
   "metadata": {},
   "source": [
    "### Inicialización"
   ]
  },
  {
   "cell_type": "code",
   "execution_count": 1,
   "metadata": {},
   "outputs": [],
   "source": [
    "# cargar librerías\n",
    "\n",
    "import numpy as np\n",
    "import pandas as pd\n",
    "from sklearn.neighbors import NearestNeighbors\n",
    "from sklearn.preprocessing import MaxAbsScaler\n",
    "from sklearn.metrics import mean_squared_error as mse\n",
    "from sklearn.metrics import r2_score\n",
    "import seaborn as sns\n",
    "import math\n",
    "from sklearn.metrics import f1_score\n",
    "import matplotlib.pyplot as plt\n",
    "import sklearn.linear_model\n",
    "import sklearn.metrics\n",
    "import sklearn.neighbors\n",
    "import sklearn.preprocessing\n",
    "from sklearn.linear_model import LogisticRegression, LinearRegression, SGDRegressor\n",
    "from sklearn.ensemble import RandomForestClassifier, AdaBoostClassifier, GradientBoostingRegressor, BaggingClassifier, RandomForestRegressor\n",
    "from sklearn.neighbors import KNeighborsClassifier, KNeighborsRegressor\n",
    "from sklearn.pipeline import Pipeline\n",
    "from sklearn.preprocessing import OneHotEncoder, OrdinalEncoder, StandardScaler\n",
    "from sklearn.impute import SimpleImputer, KNNImputer\n",
    "from sklearn.base import BaseEstimator, TransformerMixin\n",
    "from sklearn.compose import ColumnTransformer\n",
    "from sklearn.model_selection import train_test_split, cross_val_score, RandomizedSearchCV, GridSearchCV, KFold\n",
    "from IPython.display import display\n",
    "from sklearn.preprocessing import StandardScaler\n",
    "from sklearn.tree import DecisionTreeRegressor\n",
    "from xgboost import XGBClassifier, XGBRegressor\n",
    "from catboost import CatBoostRegressor\n",
    "from lightgbm import LGBMRegressor \n",
    "import lightgbm as lgb \n"
   ]
  },
  {
   "cell_type": "code",
   "execution_count": 2,
   "metadata": {},
   "outputs": [],
   "source": [
    "# cargar datos\n",
    "\n",
    "df = pd.read_csv('/datasets/car_data.csv')"
   ]
  },
  {
   "cell_type": "code",
   "execution_count": 3,
   "metadata": {},
   "outputs": [],
   "source": [
    "data_df = df.copy()"
   ]
  },
  {
   "cell_type": "code",
   "execution_count": 4,
   "metadata": {},
   "outputs": [
    {
     "data": {
      "text/html": [
       "<div>\n",
       "<style scoped>\n",
       "    .dataframe tbody tr th:only-of-type {\n",
       "        vertical-align: middle;\n",
       "    }\n",
       "\n",
       "    .dataframe tbody tr th {\n",
       "        vertical-align: top;\n",
       "    }\n",
       "\n",
       "    .dataframe thead th {\n",
       "        text-align: right;\n",
       "    }\n",
       "</style>\n",
       "<table border=\"1\" class=\"dataframe\">\n",
       "  <thead>\n",
       "    <tr style=\"text-align: right;\">\n",
       "      <th></th>\n",
       "      <th>DateCrawled</th>\n",
       "      <th>Price</th>\n",
       "      <th>VehicleType</th>\n",
       "      <th>RegistrationYear</th>\n",
       "      <th>Gearbox</th>\n",
       "      <th>Power</th>\n",
       "      <th>Model</th>\n",
       "      <th>Mileage</th>\n",
       "      <th>RegistrationMonth</th>\n",
       "      <th>FuelType</th>\n",
       "      <th>Brand</th>\n",
       "      <th>NotRepaired</th>\n",
       "      <th>DateCreated</th>\n",
       "      <th>NumberOfPictures</th>\n",
       "      <th>PostalCode</th>\n",
       "      <th>LastSeen</th>\n",
       "    </tr>\n",
       "  </thead>\n",
       "  <tbody>\n",
       "    <tr>\n",
       "      <th>0</th>\n",
       "      <td>24/03/2016 11:52</td>\n",
       "      <td>480</td>\n",
       "      <td>NaN</td>\n",
       "      <td>1993</td>\n",
       "      <td>manual</td>\n",
       "      <td>0</td>\n",
       "      <td>golf</td>\n",
       "      <td>150000</td>\n",
       "      <td>0</td>\n",
       "      <td>petrol</td>\n",
       "      <td>volkswagen</td>\n",
       "      <td>NaN</td>\n",
       "      <td>24/03/2016 00:00</td>\n",
       "      <td>0</td>\n",
       "      <td>70435</td>\n",
       "      <td>07/04/2016 03:16</td>\n",
       "    </tr>\n",
       "    <tr>\n",
       "      <th>1</th>\n",
       "      <td>24/03/2016 10:58</td>\n",
       "      <td>18300</td>\n",
       "      <td>coupe</td>\n",
       "      <td>2011</td>\n",
       "      <td>manual</td>\n",
       "      <td>190</td>\n",
       "      <td>NaN</td>\n",
       "      <td>125000</td>\n",
       "      <td>5</td>\n",
       "      <td>gasoline</td>\n",
       "      <td>audi</td>\n",
       "      <td>yes</td>\n",
       "      <td>24/03/2016 00:00</td>\n",
       "      <td>0</td>\n",
       "      <td>66954</td>\n",
       "      <td>07/04/2016 01:46</td>\n",
       "    </tr>\n",
       "    <tr>\n",
       "      <th>2</th>\n",
       "      <td>14/03/2016 12:52</td>\n",
       "      <td>9800</td>\n",
       "      <td>suv</td>\n",
       "      <td>2004</td>\n",
       "      <td>auto</td>\n",
       "      <td>163</td>\n",
       "      <td>grand</td>\n",
       "      <td>125000</td>\n",
       "      <td>8</td>\n",
       "      <td>gasoline</td>\n",
       "      <td>jeep</td>\n",
       "      <td>NaN</td>\n",
       "      <td>14/03/2016 00:00</td>\n",
       "      <td>0</td>\n",
       "      <td>90480</td>\n",
       "      <td>05/04/2016 12:47</td>\n",
       "    </tr>\n",
       "    <tr>\n",
       "      <th>3</th>\n",
       "      <td>17/03/2016 16:54</td>\n",
       "      <td>1500</td>\n",
       "      <td>small</td>\n",
       "      <td>2001</td>\n",
       "      <td>manual</td>\n",
       "      <td>75</td>\n",
       "      <td>golf</td>\n",
       "      <td>150000</td>\n",
       "      <td>6</td>\n",
       "      <td>petrol</td>\n",
       "      <td>volkswagen</td>\n",
       "      <td>no</td>\n",
       "      <td>17/03/2016 00:00</td>\n",
       "      <td>0</td>\n",
       "      <td>91074</td>\n",
       "      <td>17/03/2016 17:40</td>\n",
       "    </tr>\n",
       "    <tr>\n",
       "      <th>4</th>\n",
       "      <td>31/03/2016 17:25</td>\n",
       "      <td>3600</td>\n",
       "      <td>small</td>\n",
       "      <td>2008</td>\n",
       "      <td>manual</td>\n",
       "      <td>69</td>\n",
       "      <td>fabia</td>\n",
       "      <td>90000</td>\n",
       "      <td>7</td>\n",
       "      <td>gasoline</td>\n",
       "      <td>skoda</td>\n",
       "      <td>no</td>\n",
       "      <td>31/03/2016 00:00</td>\n",
       "      <td>0</td>\n",
       "      <td>60437</td>\n",
       "      <td>06/04/2016 10:17</td>\n",
       "    </tr>\n",
       "  </tbody>\n",
       "</table>\n",
       "</div>"
      ],
      "text/plain": [
       "        DateCrawled  Price VehicleType  RegistrationYear Gearbox  Power  \\\n",
       "0  24/03/2016 11:52    480         NaN              1993  manual      0   \n",
       "1  24/03/2016 10:58  18300       coupe              2011  manual    190   \n",
       "2  14/03/2016 12:52   9800         suv              2004    auto    163   \n",
       "3  17/03/2016 16:54   1500       small              2001  manual     75   \n",
       "4  31/03/2016 17:25   3600       small              2008  manual     69   \n",
       "\n",
       "   Model  Mileage  RegistrationMonth  FuelType       Brand NotRepaired  \\\n",
       "0   golf   150000                  0    petrol  volkswagen         NaN   \n",
       "1    NaN   125000                  5  gasoline        audi         yes   \n",
       "2  grand   125000                  8  gasoline        jeep         NaN   \n",
       "3   golf   150000                  6    petrol  volkswagen          no   \n",
       "4  fabia    90000                  7  gasoline       skoda          no   \n",
       "\n",
       "        DateCreated  NumberOfPictures  PostalCode          LastSeen  \n",
       "0  24/03/2016 00:00                 0       70435  07/04/2016 03:16  \n",
       "1  24/03/2016 00:00                 0       66954  07/04/2016 01:46  \n",
       "2  14/03/2016 00:00                 0       90480  05/04/2016 12:47  \n",
       "3  17/03/2016 00:00                 0       91074  17/03/2016 17:40  \n",
       "4  31/03/2016 00:00                 0       60437  06/04/2016 10:17  "
      ]
     },
     "execution_count": 4,
     "metadata": {},
     "output_type": "execute_result"
    }
   ],
   "source": [
    "data_df.head()"
   ]
  },
  {
   "cell_type": "code",
   "execution_count": 5,
   "metadata": {},
   "outputs": [
    {
     "name": "stdout",
     "output_type": "stream",
     "text": [
      "<class 'pandas.core.frame.DataFrame'>\n",
      "RangeIndex: 354369 entries, 0 to 354368\n",
      "Data columns (total 16 columns):\n",
      " #   Column             Non-Null Count   Dtype \n",
      "---  ------             --------------   ----- \n",
      " 0   DateCrawled        354369 non-null  object\n",
      " 1   Price              354369 non-null  int64 \n",
      " 2   VehicleType        316879 non-null  object\n",
      " 3   RegistrationYear   354369 non-null  int64 \n",
      " 4   Gearbox            334536 non-null  object\n",
      " 5   Power              354369 non-null  int64 \n",
      " 6   Model              334664 non-null  object\n",
      " 7   Mileage            354369 non-null  int64 \n",
      " 8   RegistrationMonth  354369 non-null  int64 \n",
      " 9   FuelType           321474 non-null  object\n",
      " 10  Brand              354369 non-null  object\n",
      " 11  NotRepaired        283215 non-null  object\n",
      " 12  DateCreated        354369 non-null  object\n",
      " 13  NumberOfPictures   354369 non-null  int64 \n",
      " 14  PostalCode         354369 non-null  int64 \n",
      " 15  LastSeen           354369 non-null  object\n",
      "dtypes: int64(7), object(9)\n",
      "memory usage: 43.3+ MB\n"
     ]
    }
   ],
   "source": [
    "data_df.info()"
   ]
  },
  {
   "cell_type": "markdown",
   "metadata": {},
   "source": [
    "Se encuentran datos faltantes en model, vehicletype, fueltype, notrepaired, gearbox"
   ]
  },
  {
   "cell_type": "markdown",
   "metadata": {},
   "source": [
    "Veré si hay duplicados para eliminarlos."
   ]
  },
  {
   "cell_type": "code",
   "execution_count": 6,
   "metadata": {},
   "outputs": [
    {
     "name": "stdout",
     "output_type": "stream",
     "text": [
      "262\n"
     ]
    }
   ],
   "source": [
    "print(data_df.duplicated().sum())"
   ]
  },
  {
   "cell_type": "code",
   "execution_count": 7,
   "metadata": {},
   "outputs": [],
   "source": [
    "data_df.drop_duplicates(inplace= True)"
   ]
  },
  {
   "cell_type": "code",
   "execution_count": 8,
   "metadata": {
    "scrolled": true
   },
   "outputs": [
    {
     "name": "stdout",
     "output_type": "stream",
     "text": [
      "        Price  VehicleType  RegistrationYear Gearbox  Power        Model  \\\n",
      "0         480          NaN              1993  manual      0         golf   \n",
      "1       18300        coupe              2011  manual    190          NaN   \n",
      "2        9800          suv              2004    auto    163        grand   \n",
      "3        1500        small              2001  manual     75         golf   \n",
      "4        3600        small              2008  manual     69        fabia   \n",
      "...       ...          ...               ...     ...    ...          ...   \n",
      "354364      0          NaN              2005  manual      0         colt   \n",
      "354365   2200          NaN              2005     NaN      0          NaN   \n",
      "354366   1199  convertible              2000    auto    101       fortwo   \n",
      "354367   9200          bus              1996  manual    102  transporter   \n",
      "354368   3400        wagon              2002  manual    100         golf   \n",
      "\n",
      "        Mileage  RegistrationMonth  FuelType           Brand NotRepaired  \\\n",
      "0        150000                  0    petrol      volkswagen         NaN   \n",
      "1        125000                  5  gasoline            audi         yes   \n",
      "2        125000                  8  gasoline            jeep         NaN   \n",
      "3        150000                  6    petrol      volkswagen          no   \n",
      "4         90000                  7  gasoline           skoda          no   \n",
      "...         ...                ...       ...             ...         ...   \n",
      "354364   150000                  7    petrol      mitsubishi         yes   \n",
      "354365    20000                  1       NaN  sonstige_autos         NaN   \n",
      "354366   125000                  3    petrol           smart          no   \n",
      "354367   150000                  3  gasoline      volkswagen          no   \n",
      "354368   150000                  6  gasoline      volkswagen         NaN   \n",
      "\n",
      "        PostalCode  \n",
      "0            70435  \n",
      "1            66954  \n",
      "2            90480  \n",
      "3            91074  \n",
      "4            60437  \n",
      "...            ...  \n",
      "354364        2694  \n",
      "354365       39576  \n",
      "354366       26135  \n",
      "354367       87439  \n",
      "354368       40764  \n",
      "\n",
      "[354107 rows x 12 columns]\n"
     ]
    }
   ],
   "source": [
    "# luego eliminar las columnas que no me sirvan para entrenar el modelo de clasificación\n",
    "\n",
    "\n",
    "data_df.drop(['DateCrawled', 'NumberOfPictures', 'DateCreated', 'LastSeen'], axis=1, inplace=True)\n",
    "print(data_df)"
   ]
  },
  {
   "cell_type": "markdown",
   "metadata": {},
   "source": [
    "Haciendo featuring engineering tomé en cuenta que la fecha de subida de la información sirve como referencia de los datos pero realmente no da información al modelo, así que decidí eliminarla, el mes de registro tampoco lo consideré muy reelevante \n",
    "al ver los valores de la columna de el número de fotos vi que todos los valores eran 0 así que elegí eliminarla también.\n",
    "\n"
   ]
  },
  {
   "cell_type": "code",
   "execution_count": 9,
   "metadata": {},
   "outputs": [
    {
     "data": {
      "text/html": [
       "<div>\n",
       "<style scoped>\n",
       "    .dataframe tbody tr th:only-of-type {\n",
       "        vertical-align: middle;\n",
       "    }\n",
       "\n",
       "    .dataframe tbody tr th {\n",
       "        vertical-align: top;\n",
       "    }\n",
       "\n",
       "    .dataframe thead th {\n",
       "        text-align: right;\n",
       "    }\n",
       "</style>\n",
       "<table border=\"1\" class=\"dataframe\">\n",
       "  <thead>\n",
       "    <tr style=\"text-align: right;\">\n",
       "      <th></th>\n",
       "      <th>Price</th>\n",
       "      <th>RegistrationYear</th>\n",
       "      <th>Power</th>\n",
       "      <th>Mileage</th>\n",
       "      <th>RegistrationMonth</th>\n",
       "      <th>PostalCode</th>\n",
       "    </tr>\n",
       "  </thead>\n",
       "  <tbody>\n",
       "    <tr>\n",
       "      <th>count</th>\n",
       "      <td>354107.000000</td>\n",
       "      <td>354107.000000</td>\n",
       "      <td>354107.000000</td>\n",
       "      <td>354107.000000</td>\n",
       "      <td>354107.000000</td>\n",
       "      <td>354107.000000</td>\n",
       "    </tr>\n",
       "    <tr>\n",
       "      <th>mean</th>\n",
       "      <td>4416.433287</td>\n",
       "      <td>2004.235355</td>\n",
       "      <td>110.089651</td>\n",
       "      <td>128211.811684</td>\n",
       "      <td>5.714182</td>\n",
       "      <td>50507.145030</td>\n",
       "    </tr>\n",
       "    <tr>\n",
       "      <th>std</th>\n",
       "      <td>4514.338584</td>\n",
       "      <td>90.261168</td>\n",
       "      <td>189.914972</td>\n",
       "      <td>37906.590101</td>\n",
       "      <td>3.726682</td>\n",
       "      <td>25784.212094</td>\n",
       "    </tr>\n",
       "    <tr>\n",
       "      <th>min</th>\n",
       "      <td>0.000000</td>\n",
       "      <td>1000.000000</td>\n",
       "      <td>0.000000</td>\n",
       "      <td>5000.000000</td>\n",
       "      <td>0.000000</td>\n",
       "      <td>1067.000000</td>\n",
       "    </tr>\n",
       "    <tr>\n",
       "      <th>25%</th>\n",
       "      <td>1050.000000</td>\n",
       "      <td>1999.000000</td>\n",
       "      <td>69.000000</td>\n",
       "      <td>125000.000000</td>\n",
       "      <td>3.000000</td>\n",
       "      <td>30165.000000</td>\n",
       "    </tr>\n",
       "    <tr>\n",
       "      <th>50%</th>\n",
       "      <td>2700.000000</td>\n",
       "      <td>2003.000000</td>\n",
       "      <td>105.000000</td>\n",
       "      <td>150000.000000</td>\n",
       "      <td>6.000000</td>\n",
       "      <td>49406.000000</td>\n",
       "    </tr>\n",
       "    <tr>\n",
       "      <th>75%</th>\n",
       "      <td>6400.000000</td>\n",
       "      <td>2008.000000</td>\n",
       "      <td>143.000000</td>\n",
       "      <td>150000.000000</td>\n",
       "      <td>9.000000</td>\n",
       "      <td>71083.000000</td>\n",
       "    </tr>\n",
       "    <tr>\n",
       "      <th>max</th>\n",
       "      <td>20000.000000</td>\n",
       "      <td>9999.000000</td>\n",
       "      <td>20000.000000</td>\n",
       "      <td>150000.000000</td>\n",
       "      <td>12.000000</td>\n",
       "      <td>99998.000000</td>\n",
       "    </tr>\n",
       "  </tbody>\n",
       "</table>\n",
       "</div>"
      ],
      "text/plain": [
       "               Price  RegistrationYear          Power        Mileage  \\\n",
       "count  354107.000000     354107.000000  354107.000000  354107.000000   \n",
       "mean     4416.433287       2004.235355     110.089651  128211.811684   \n",
       "std      4514.338584         90.261168     189.914972   37906.590101   \n",
       "min         0.000000       1000.000000       0.000000    5000.000000   \n",
       "25%      1050.000000       1999.000000      69.000000  125000.000000   \n",
       "50%      2700.000000       2003.000000     105.000000  150000.000000   \n",
       "75%      6400.000000       2008.000000     143.000000  150000.000000   \n",
       "max     20000.000000       9999.000000   20000.000000  150000.000000   \n",
       "\n",
       "       RegistrationMonth     PostalCode  \n",
       "count      354107.000000  354107.000000  \n",
       "mean            5.714182   50507.145030  \n",
       "std             3.726682   25784.212094  \n",
       "min             0.000000    1067.000000  \n",
       "25%             3.000000   30165.000000  \n",
       "50%             6.000000   49406.000000  \n",
       "75%             9.000000   71083.000000  \n",
       "max            12.000000   99998.000000  "
      ]
     },
     "execution_count": 9,
     "metadata": {},
     "output_type": "execute_result"
    }
   ],
   "source": [
    "# Descripción de los datos\n",
    "\n",
    "data_df.describe()"
   ]
  },
  {
   "cell_type": "code",
   "execution_count": 10,
   "metadata": {},
   "outputs": [
    {
     "data": {
      "text/plain": [
       "Price                    0\n",
       "VehicleType          37484\n",
       "RegistrationYear         0\n",
       "Gearbox              19830\n",
       "Power                    0\n",
       "Model                19701\n",
       "Mileage                  0\n",
       "RegistrationMonth        0\n",
       "FuelType             32889\n",
       "Brand                    0\n",
       "NotRepaired          71145\n",
       "PostalCode               0\n",
       "dtype: int64"
      ]
     },
     "execution_count": 10,
     "metadata": {},
     "output_type": "execute_result"
    }
   ],
   "source": [
    "# Este formato muestra mejor los valores ausentes.\n",
    "data_df.isnull().sum()"
   ]
  },
  {
   "cell_type": "code",
   "execution_count": 11,
   "metadata": {},
   "outputs": [
    {
     "data": {
      "text/plain": [
       "<AxesSubplot:xlabel='Price', ylabel='Count'>"
      ]
     },
     "execution_count": 11,
     "metadata": {},
     "output_type": "execute_result"
    },
    {
     "data": {
      "image/png": "[encoded data removed]",
      "text/plain": [
       "<Figure size 640x480 with 1 Axes>"
      ]
     },
     "metadata": {},
     "output_type": "display_data"
    }
   ],
   "source": [
    "# Visualicemos en donde se encuentra la mayoría de los precios\n",
    "\n",
    "sns.histplot(data_df['Price'], bins=10)"
   ]
  },
  {
   "cell_type": "code",
   "execution_count": 12,
   "metadata": {},
   "outputs": [],
   "source": [
    "# Crear un imputer\n",
    "knn_imputer = KNNImputer(n_neighbors=2)\n",
    "\n",
    "# Definir columnas numéricas\n",
    "numerical_cols_df = data_df.select_dtypes(include=['number'])\n",
    "numerical_cols = numerical_cols_df.columns.tolist()\n",
    "\n",
    "# Definir las columnas categóricas\n",
    "cat_cols_df = data_df.select_dtypes(include=['object'])\n",
    "cat_cols = cat_cols_df.columns.tolist()"
   ]
  },
  {
   "cell_type": "code",
   "execution_count": 13,
   "metadata": {},
   "outputs": [],
   "source": [
    "# Definir la funcion para imputar los nuevos datos\n",
    "def num_knn_impute(data, cols, imputer):\n",
    "    data = data[cols]\n",
    "    data_imputed = pd.DataFrame(imputer.fit_transform(data))\n",
    "    data_imputed.columns = data.columns\n",
    "    return data_imputed\n",
    "\n",
    "# Usar la función para imputar valores numéricos knn\n",
    "num_test_data_imputed = num_knn_impute(data_df, numerical_cols, knn_imputer)\n"
   ]
  },
  {
   "cell_type": "code",
   "execution_count": 14,
   "metadata": {},
   "outputs": [
    {
     "data": {
      "text/html": [
       "<div>\n",
       "<style scoped>\n",
       "    .dataframe tbody tr th:only-of-type {\n",
       "        vertical-align: middle;\n",
       "    }\n",
       "\n",
       "    .dataframe tbody tr th {\n",
       "        vertical-align: top;\n",
       "    }\n",
       "\n",
       "    .dataframe thead th {\n",
       "        text-align: right;\n",
       "    }\n",
       "</style>\n",
       "<table border=\"1\" class=\"dataframe\">\n",
       "  <thead>\n",
       "    <tr style=\"text-align: right;\">\n",
       "      <th></th>\n",
       "      <th>Price</th>\n",
       "      <th>RegistrationYear</th>\n",
       "      <th>Power</th>\n",
       "      <th>Mileage</th>\n",
       "      <th>RegistrationMonth</th>\n",
       "      <th>PostalCode</th>\n",
       "    </tr>\n",
       "  </thead>\n",
       "  <tbody>\n",
       "  </tbody>\n",
       "</table>\n",
       "</div>"
      ],
      "text/plain": [
       "Empty DataFrame\n",
       "Columns: [Price, RegistrationYear, Power, Mileage, RegistrationMonth, PostalCode]\n",
       "Index: []"
      ]
     },
     "execution_count": 14,
     "metadata": {},
     "output_type": "execute_result"
    }
   ],
   "source": [
    "# Obtener las columnas numéricas del dataframe\n",
    "num_cols_df = data_df[numerical_cols].reset_index(drop=True)\n",
    "# Seleccionar las filas con valores ausentes e imprimir head\n",
    "missing_data_df = num_cols_df[num_cols_df.isna().any(axis=1)]\n",
    "missing_data_df.head()"
   ]
  },
  {
   "cell_type": "code",
   "execution_count": 15,
   "metadata": {},
   "outputs": [
    {
     "data": {
      "text/html": [
       "<div>\n",
       "<style scoped>\n",
       "    .dataframe tbody tr th:only-of-type {\n",
       "        vertical-align: middle;\n",
       "    }\n",
       "\n",
       "    .dataframe tbody tr th {\n",
       "        vertical-align: top;\n",
       "    }\n",
       "\n",
       "    .dataframe thead th {\n",
       "        text-align: right;\n",
       "    }\n",
       "</style>\n",
       "<table border=\"1\" class=\"dataframe\">\n",
       "  <thead>\n",
       "    <tr style=\"text-align: right;\">\n",
       "      <th></th>\n",
       "      <th>Price</th>\n",
       "      <th>RegistrationYear</th>\n",
       "      <th>Power</th>\n",
       "      <th>Mileage</th>\n",
       "      <th>RegistrationMonth</th>\n",
       "      <th>PostalCode</th>\n",
       "    </tr>\n",
       "  </thead>\n",
       "  <tbody>\n",
       "  </tbody>\n",
       "</table>\n",
       "</div>"
      ],
      "text/plain": [
       "Empty DataFrame\n",
       "Columns: [Price, RegistrationYear, Power, Mileage, RegistrationMonth, PostalCode]\n",
       "Index: []"
      ]
     },
     "execution_count": 15,
     "metadata": {},
     "output_type": "execute_result"
    }
   ],
   "source": [
    "# Veamos el registro después de la imputación\n",
    "samples = missing_data_df.index.to_list()\n",
    "num_test_data_imputed.loc[samples].head()"
   ]
  },
  {
   "cell_type": "code",
   "execution_count": 16,
   "metadata": {},
   "outputs": [],
   "source": [
    "# Crear imputador imputer\n",
    "simple_imputer = SimpleImputer(strategy='most_frequent')\n",
    "\n",
    "# Definir la funcion para imputar características categóricas con simple imputer\n",
    "def cat_simple_imputer(data, cols, imputer):\n",
    "    data = data[cols]\n",
    "    data_imputed = pd.DataFrame(imputer.fit_transform(data))\n",
    "    data_imputed.columns = data.columns\n",
    "    return data_imputed\n",
    "\n",
    "# Ejecutar la función para imputar los valores categóricos ausentes\n",
    "cat_test_data_imputed = cat_simple_imputer(data_df, cat_cols, simple_imputer)"
   ]
  },
  {
   "cell_type": "code",
   "execution_count": 17,
   "metadata": {},
   "outputs": [
    {
     "data": {
      "text/html": [
       "<div>\n",
       "<style scoped>\n",
       "    .dataframe tbody tr th:only-of-type {\n",
       "        vertical-align: middle;\n",
       "    }\n",
       "\n",
       "    .dataframe tbody tr th {\n",
       "        vertical-align: top;\n",
       "    }\n",
       "\n",
       "    .dataframe thead th {\n",
       "        text-align: right;\n",
       "    }\n",
       "</style>\n",
       "<table border=\"1\" class=\"dataframe\">\n",
       "  <thead>\n",
       "    <tr style=\"text-align: right;\">\n",
       "      <th></th>\n",
       "      <th>VehicleType</th>\n",
       "      <th>Gearbox</th>\n",
       "      <th>Model</th>\n",
       "      <th>FuelType</th>\n",
       "      <th>Brand</th>\n",
       "      <th>NotRepaired</th>\n",
       "    </tr>\n",
       "  </thead>\n",
       "  <tbody>\n",
       "  </tbody>\n",
       "</table>\n",
       "</div>"
      ],
      "text/plain": [
       "Empty DataFrame\n",
       "Columns: [VehicleType, Gearbox, Model, FuelType, Brand, NotRepaired]\n",
       "Index: []"
      ]
     },
     "execution_count": 17,
     "metadata": {},
     "output_type": "execute_result"
    }
   ],
   "source": [
    "# Obtener las columnas numéricas del df\n",
    "cat_cols_df = data_df[cat_cols].reset_index(drop=True)\n",
    "# Seleccionar filas con valores ausentes e imprimir head\n",
    "missing_cat_data_df = cat_cols_df[num_cols_df.isna().any(axis=1)]\n",
    "missing_cat_data_df.head()"
   ]
  },
  {
   "cell_type": "code",
   "execution_count": 18,
   "metadata": {},
   "outputs": [
    {
     "data": {
      "text/html": [
       "<div>\n",
       "<style scoped>\n",
       "    .dataframe tbody tr th:only-of-type {\n",
       "        vertical-align: middle;\n",
       "    }\n",
       "\n",
       "    .dataframe tbody tr th {\n",
       "        vertical-align: top;\n",
       "    }\n",
       "\n",
       "    .dataframe thead th {\n",
       "        text-align: right;\n",
       "    }\n",
       "</style>\n",
       "<table border=\"1\" class=\"dataframe\">\n",
       "  <thead>\n",
       "    <tr style=\"text-align: right;\">\n",
       "      <th></th>\n",
       "      <th>VehicleType</th>\n",
       "      <th>Gearbox</th>\n",
       "      <th>Model</th>\n",
       "      <th>FuelType</th>\n",
       "      <th>Brand</th>\n",
       "      <th>NotRepaired</th>\n",
       "    </tr>\n",
       "  </thead>\n",
       "  <tbody>\n",
       "  </tbody>\n",
       "</table>\n",
       "</div>"
      ],
      "text/plain": [
       "Empty DataFrame\n",
       "Columns: [VehicleType, Gearbox, Model, FuelType, Brand, NotRepaired]\n",
       "Index: []"
      ]
     },
     "execution_count": 18,
     "metadata": {},
     "output_type": "execute_result"
    }
   ],
   "source": [
    "# Mostrar luego de imputar\n",
    "samples = missing_cat_data_df.index.to_list()\n",
    "cat_test_data_imputed.loc[samples].head()"
   ]
  },
  {
   "cell_type": "code",
   "execution_count": 19,
   "metadata": {},
   "outputs": [
    {
     "data": {
      "text/html": [
       "<div>\n",
       "<style scoped>\n",
       "    .dataframe tbody tr th:only-of-type {\n",
       "        vertical-align: middle;\n",
       "    }\n",
       "\n",
       "    .dataframe tbody tr th {\n",
       "        vertical-align: top;\n",
       "    }\n",
       "\n",
       "    .dataframe thead th {\n",
       "        text-align: right;\n",
       "    }\n",
       "</style>\n",
       "<table border=\"1\" class=\"dataframe\">\n",
       "  <thead>\n",
       "    <tr style=\"text-align: right;\">\n",
       "      <th></th>\n",
       "      <th>Price</th>\n",
       "      <th>RegistrationYear</th>\n",
       "      <th>Power</th>\n",
       "      <th>Mileage</th>\n",
       "      <th>RegistrationMonth</th>\n",
       "      <th>PostalCode</th>\n",
       "      <th>VehicleType</th>\n",
       "      <th>Gearbox</th>\n",
       "      <th>Model</th>\n",
       "      <th>FuelType</th>\n",
       "      <th>Brand</th>\n",
       "      <th>NotRepaired</th>\n",
       "    </tr>\n",
       "  </thead>\n",
       "  <tbody>\n",
       "    <tr>\n",
       "      <th>0</th>\n",
       "      <td>480.0</td>\n",
       "      <td>1993.0</td>\n",
       "      <td>0.0</td>\n",
       "      <td>150000.0</td>\n",
       "      <td>0.0</td>\n",
       "      <td>70435.0</td>\n",
       "      <td>sedan</td>\n",
       "      <td>manual</td>\n",
       "      <td>golf</td>\n",
       "      <td>petrol</td>\n",
       "      <td>volkswagen</td>\n",
       "      <td>no</td>\n",
       "    </tr>\n",
       "    <tr>\n",
       "      <th>1</th>\n",
       "      <td>18300.0</td>\n",
       "      <td>2011.0</td>\n",
       "      <td>190.0</td>\n",
       "      <td>125000.0</td>\n",
       "      <td>5.0</td>\n",
       "      <td>66954.0</td>\n",
       "      <td>coupe</td>\n",
       "      <td>manual</td>\n",
       "      <td>golf</td>\n",
       "      <td>gasoline</td>\n",
       "      <td>audi</td>\n",
       "      <td>yes</td>\n",
       "    </tr>\n",
       "    <tr>\n",
       "      <th>2</th>\n",
       "      <td>9800.0</td>\n",
       "      <td>2004.0</td>\n",
       "      <td>163.0</td>\n",
       "      <td>125000.0</td>\n",
       "      <td>8.0</td>\n",
       "      <td>90480.0</td>\n",
       "      <td>suv</td>\n",
       "      <td>auto</td>\n",
       "      <td>grand</td>\n",
       "      <td>gasoline</td>\n",
       "      <td>jeep</td>\n",
       "      <td>no</td>\n",
       "    </tr>\n",
       "    <tr>\n",
       "      <th>3</th>\n",
       "      <td>1500.0</td>\n",
       "      <td>2001.0</td>\n",
       "      <td>75.0</td>\n",
       "      <td>150000.0</td>\n",
       "      <td>6.0</td>\n",
       "      <td>91074.0</td>\n",
       "      <td>small</td>\n",
       "      <td>manual</td>\n",
       "      <td>golf</td>\n",
       "      <td>petrol</td>\n",
       "      <td>volkswagen</td>\n",
       "      <td>no</td>\n",
       "    </tr>\n",
       "    <tr>\n",
       "      <th>4</th>\n",
       "      <td>3600.0</td>\n",
       "      <td>2008.0</td>\n",
       "      <td>69.0</td>\n",
       "      <td>90000.0</td>\n",
       "      <td>7.0</td>\n",
       "      <td>60437.0</td>\n",
       "      <td>small</td>\n",
       "      <td>manual</td>\n",
       "      <td>fabia</td>\n",
       "      <td>gasoline</td>\n",
       "      <td>skoda</td>\n",
       "      <td>no</td>\n",
       "    </tr>\n",
       "  </tbody>\n",
       "</table>\n",
       "</div>"
      ],
      "text/plain": [
       "     Price  RegistrationYear  Power   Mileage  RegistrationMonth  PostalCode  \\\n",
       "0    480.0            1993.0    0.0  150000.0                0.0     70435.0   \n",
       "1  18300.0            2011.0  190.0  125000.0                5.0     66954.0   \n",
       "2   9800.0            2004.0  163.0  125000.0                8.0     90480.0   \n",
       "3   1500.0            2001.0   75.0  150000.0                6.0     91074.0   \n",
       "4   3600.0            2008.0   69.0   90000.0                7.0     60437.0   \n",
       "\n",
       "  VehicleType Gearbox  Model  FuelType       Brand NotRepaired  \n",
       "0       sedan  manual   golf    petrol  volkswagen          no  \n",
       "1       coupe  manual   golf  gasoline        audi         yes  \n",
       "2         suv    auto  grand  gasoline        jeep          no  \n",
       "3       small  manual   golf    petrol  volkswagen          no  \n",
       "4       small  manual  fabia  gasoline       skoda          no  "
      ]
     },
     "execution_count": 19,
     "metadata": {},
     "output_type": "execute_result"
    }
   ],
   "source": [
    "# Juntar los dataframes\n",
    "train_imputed_df = pd.concat([num_test_data_imputed, cat_test_data_imputed], axis=1)\n",
    "# imprimir head\n",
    "train_imputed_df.head()"
   ]
  },
  {
   "cell_type": "code",
   "execution_count": 20,
   "metadata": {},
   "outputs": [
    {
     "data": {
      "text/plain": [
       "Price                0\n",
       "RegistrationYear     0\n",
       "Power                0\n",
       "Mileage              0\n",
       "RegistrationMonth    0\n",
       "PostalCode           0\n",
       "VehicleType          0\n",
       "Gearbox              0\n",
       "Model                0\n",
       "FuelType             0\n",
       "Brand                0\n",
       "NotRepaired          0\n",
       "dtype: int64"
      ]
     },
     "execution_count": 20,
     "metadata": {},
     "output_type": "execute_result"
    }
   ],
   "source": [
    "#checar valores ausentes luego de imputar\n",
    "\n",
    "train_imputed_df.isnull().sum()"
   ]
  },
  {
   "cell_type": "code",
   "execution_count": 21,
   "metadata": {},
   "outputs": [
    {
     "data": {
      "text/plain": [
       "VehicleType      8\n",
       "Gearbox          2\n",
       "Model          250\n",
       "FuelType         7\n",
       "Brand           40\n",
       "NotRepaired      2\n",
       "dtype: int64"
      ]
     },
     "execution_count": 21,
     "metadata": {},
     "output_type": "execute_result"
    }
   ],
   "source": [
    "# Valores únicos de cada categoría para retirar las columnas con menos correlación y así evitar que muera el kernel \n",
    "\n",
    "cat_test_data_imputed.nunique()"
   ]
  },
  {
   "cell_type": "markdown",
   "metadata": {},
   "source": [
    "## Entrenamiento del modelo "
   ]
  },
  {
   "cell_type": "code",
   "execution_count": 22,
   "metadata": {},
   "outputs": [
    {
     "data": {
      "text/html": [
       "<div>\n",
       "<style scoped>\n",
       "    .dataframe tbody tr th:only-of-type {\n",
       "        vertical-align: middle;\n",
       "    }\n",
       "\n",
       "    .dataframe tbody tr th {\n",
       "        vertical-align: top;\n",
       "    }\n",
       "\n",
       "    .dataframe thead th {\n",
       "        text-align: right;\n",
       "    }\n",
       "</style>\n",
       "<table border=\"1\" class=\"dataframe\">\n",
       "  <thead>\n",
       "    <tr style=\"text-align: right;\">\n",
       "      <th></th>\n",
       "      <th>Price</th>\n",
       "      <th>RegistrationYear</th>\n",
       "      <th>Power</th>\n",
       "      <th>Mileage</th>\n",
       "      <th>RegistrationMonth</th>\n",
       "      <th>PostalCode</th>\n",
       "      <th>VehicleType</th>\n",
       "      <th>Gearbox</th>\n",
       "      <th>Model</th>\n",
       "      <th>FuelType</th>\n",
       "      <th>Brand</th>\n",
       "      <th>NotRepaired</th>\n",
       "    </tr>\n",
       "  </thead>\n",
       "  <tbody>\n",
       "    <tr>\n",
       "      <th>0</th>\n",
       "      <td>480.0</td>\n",
       "      <td>1993.0</td>\n",
       "      <td>0.0</td>\n",
       "      <td>150000.0</td>\n",
       "      <td>0.0</td>\n",
       "      <td>70435.0</td>\n",
       "      <td>sedan</td>\n",
       "      <td>manual</td>\n",
       "      <td>golf</td>\n",
       "      <td>petrol</td>\n",
       "      <td>volkswagen</td>\n",
       "      <td>no</td>\n",
       "    </tr>\n",
       "    <tr>\n",
       "      <th>1</th>\n",
       "      <td>18300.0</td>\n",
       "      <td>2011.0</td>\n",
       "      <td>190.0</td>\n",
       "      <td>125000.0</td>\n",
       "      <td>5.0</td>\n",
       "      <td>66954.0</td>\n",
       "      <td>coupe</td>\n",
       "      <td>manual</td>\n",
       "      <td>golf</td>\n",
       "      <td>gasoline</td>\n",
       "      <td>audi</td>\n",
       "      <td>yes</td>\n",
       "    </tr>\n",
       "    <tr>\n",
       "      <th>2</th>\n",
       "      <td>9800.0</td>\n",
       "      <td>2004.0</td>\n",
       "      <td>163.0</td>\n",
       "      <td>125000.0</td>\n",
       "      <td>8.0</td>\n",
       "      <td>90480.0</td>\n",
       "      <td>suv</td>\n",
       "      <td>auto</td>\n",
       "      <td>grand</td>\n",
       "      <td>gasoline</td>\n",
       "      <td>jeep</td>\n",
       "      <td>no</td>\n",
       "    </tr>\n",
       "    <tr>\n",
       "      <th>3</th>\n",
       "      <td>1500.0</td>\n",
       "      <td>2001.0</td>\n",
       "      <td>75.0</td>\n",
       "      <td>150000.0</td>\n",
       "      <td>6.0</td>\n",
       "      <td>91074.0</td>\n",
       "      <td>small</td>\n",
       "      <td>manual</td>\n",
       "      <td>golf</td>\n",
       "      <td>petrol</td>\n",
       "      <td>volkswagen</td>\n",
       "      <td>no</td>\n",
       "    </tr>\n",
       "    <tr>\n",
       "      <th>4</th>\n",
       "      <td>3600.0</td>\n",
       "      <td>2008.0</td>\n",
       "      <td>69.0</td>\n",
       "      <td>90000.0</td>\n",
       "      <td>7.0</td>\n",
       "      <td>60437.0</td>\n",
       "      <td>small</td>\n",
       "      <td>manual</td>\n",
       "      <td>fabia</td>\n",
       "      <td>gasoline</td>\n",
       "      <td>skoda</td>\n",
       "      <td>no</td>\n",
       "    </tr>\n",
       "  </tbody>\n",
       "</table>\n",
       "</div>"
      ],
      "text/plain": [
       "     Price  RegistrationYear  Power   Mileage  RegistrationMonth  PostalCode  \\\n",
       "0    480.0            1993.0    0.0  150000.0                0.0     70435.0   \n",
       "1  18300.0            2011.0  190.0  125000.0                5.0     66954.0   \n",
       "2   9800.0            2004.0  163.0  125000.0                8.0     90480.0   \n",
       "3   1500.0            2001.0   75.0  150000.0                6.0     91074.0   \n",
       "4   3600.0            2008.0   69.0   90000.0                7.0     60437.0   \n",
       "\n",
       "  VehicleType Gearbox  Model  FuelType       Brand NotRepaired  \n",
       "0       sedan  manual   golf    petrol  volkswagen          no  \n",
       "1       coupe  manual   golf  gasoline        audi         yes  \n",
       "2         suv    auto  grand  gasoline        jeep          no  \n",
       "3       small  manual   golf    petrol  volkswagen          no  \n",
       "4       small  manual  fabia  gasoline       skoda          no  "
      ]
     },
     "execution_count": 22,
     "metadata": {},
     "output_type": "execute_result"
    }
   ],
   "source": [
    "# Veamos los valores\n",
    "\n",
    "train_imputed_df.head()\n"
   ]
  },
  {
   "cell_type": "code",
   "execution_count": 23,
   "metadata": {},
   "outputs": [
    {
     "data": {
      "text/html": [
       "<div>\n",
       "<style scoped>\n",
       "    .dataframe tbody tr th:only-of-type {\n",
       "        vertical-align: middle;\n",
       "    }\n",
       "\n",
       "    .dataframe tbody tr th {\n",
       "        vertical-align: top;\n",
       "    }\n",
       "\n",
       "    .dataframe thead th {\n",
       "        text-align: right;\n",
       "    }\n",
       "</style>\n",
       "<table border=\"1\" class=\"dataframe\">\n",
       "  <thead>\n",
       "    <tr style=\"text-align: right;\">\n",
       "      <th></th>\n",
       "      <th>Price</th>\n",
       "      <th>RegistrationYear</th>\n",
       "      <th>Power</th>\n",
       "      <th>Mileage</th>\n",
       "      <th>RegistrationMonth</th>\n",
       "      <th>PostalCode</th>\n",
       "    </tr>\n",
       "  </thead>\n",
       "  <tbody>\n",
       "    <tr>\n",
       "      <th>Price</th>\n",
       "      <td>1.000000</td>\n",
       "      <td>0.026907</td>\n",
       "      <td>0.158831</td>\n",
       "      <td>-0.333144</td>\n",
       "      <td>0.110605</td>\n",
       "      <td>0.076034</td>\n",
       "    </tr>\n",
       "    <tr>\n",
       "      <th>Power</th>\n",
       "      <td>0.158831</td>\n",
       "      <td>-0.000828</td>\n",
       "      <td>1.000000</td>\n",
       "      <td>0.023993</td>\n",
       "      <td>0.043370</td>\n",
       "      <td>0.021657</td>\n",
       "    </tr>\n",
       "    <tr>\n",
       "      <th>RegistrationMonth</th>\n",
       "      <td>0.110605</td>\n",
       "      <td>-0.011624</td>\n",
       "      <td>0.043370</td>\n",
       "      <td>0.009627</td>\n",
       "      <td>1.000000</td>\n",
       "      <td>0.014063</td>\n",
       "    </tr>\n",
       "    <tr>\n",
       "      <th>PostalCode</th>\n",
       "      <td>0.076034</td>\n",
       "      <td>-0.003458</td>\n",
       "      <td>0.021657</td>\n",
       "      <td>-0.007675</td>\n",
       "      <td>0.014063</td>\n",
       "      <td>1.000000</td>\n",
       "    </tr>\n",
       "    <tr>\n",
       "      <th>RegistrationYear</th>\n",
       "      <td>0.026907</td>\n",
       "      <td>1.000000</td>\n",
       "      <td>-0.000828</td>\n",
       "      <td>-0.053450</td>\n",
       "      <td>-0.011624</td>\n",
       "      <td>-0.003458</td>\n",
       "    </tr>\n",
       "    <tr>\n",
       "      <th>Mileage</th>\n",
       "      <td>-0.333144</td>\n",
       "      <td>-0.053450</td>\n",
       "      <td>0.023993</td>\n",
       "      <td>1.000000</td>\n",
       "      <td>0.009627</td>\n",
       "      <td>-0.007675</td>\n",
       "    </tr>\n",
       "  </tbody>\n",
       "</table>\n",
       "</div>"
      ],
      "text/plain": [
       "                      Price  RegistrationYear     Power   Mileage  \\\n",
       "Price              1.000000          0.026907  0.158831 -0.333144   \n",
       "Power              0.158831         -0.000828  1.000000  0.023993   \n",
       "RegistrationMonth  0.110605         -0.011624  0.043370  0.009627   \n",
       "PostalCode         0.076034         -0.003458  0.021657 -0.007675   \n",
       "RegistrationYear   0.026907          1.000000 -0.000828 -0.053450   \n",
       "Mileage           -0.333144         -0.053450  0.023993  1.000000   \n",
       "\n",
       "                   RegistrationMonth  PostalCode  \n",
       "Price                       0.110605    0.076034  \n",
       "Power                       0.043370    0.021657  \n",
       "RegistrationMonth           1.000000    0.014063  \n",
       "PostalCode                  0.014063    1.000000  \n",
       "RegistrationYear           -0.011624   -0.003458  \n",
       "Mileage                     0.009627   -0.007675  "
      ]
     },
     "execution_count": 23,
     "metadata": {},
     "output_type": "execute_result"
    }
   ],
   "source": [
    "train_imputed_df.corr().sort_values(by='Price',ascending=False)\n"
   ]
  },
  {
   "cell_type": "code",
   "execution_count": 24,
   "metadata": {},
   "outputs": [
    {
     "data": {
      "image/png": "[encoded data removed]",
      "text/plain": [
       "<Figure size 1000x800 with 2 Axes>"
      ]
     },
     "metadata": {},
     "output_type": "display_data"
    }
   ],
   "source": [
    "# Veamos las correlaciones más importantes conforme al precio\n",
    "\n",
    "\n",
    "fig, ax = plt.subplots(figsize=(10, 8)) \n",
    "\n",
    "corr_matrix = train_imputed_df.corr().sort_values(by='Price', ascending=False)\n",
    "\n",
    "sns.heatmap(corr_matrix, cmap='coolwarm', annot=True, vmax=0.25, vmin=-0.25)\n",
    "plt.show()"
   ]
  },
  {
   "cell_type": "markdown",
   "metadata": {},
   "source": [
    "No era lo que esperaba, sin embargo las columnas que más correlacionados están con el precio son potencia, mes de regristro, código postal, año de registro y todas las demás como la marca o el modelo no tienen ninguna correlación relevante."
   ]
  },
  {
   "cell_type": "code",
   "execution_count": 25,
   "metadata": {},
   "outputs": [
    {
     "name": "stdout",
     "output_type": "stream",
     "text": [
      "0.33     1500.0\n",
      "0.66     4600.0\n",
      "1.00    20000.0\n",
      "Name: Price, dtype: float64\n"
     ]
    }
   ],
   "source": [
    "# Calcular los percentiles 33, 66 y 100 para la estratificación\n",
    "\n",
    "percentiles = [0.33, 0.66, 1]\n",
    "percentile_values = train_imputed_df['Price'].quantile(percentiles)\n",
    "\n",
    "print(percentile_values) "
   ]
  },
  {
   "cell_type": "code",
   "execution_count": 26,
   "metadata": {},
   "outputs": [
    {
     "data": {
      "text/html": [
       "<div>\n",
       "<style scoped>\n",
       "    .dataframe tbody tr th:only-of-type {\n",
       "        vertical-align: middle;\n",
       "    }\n",
       "\n",
       "    .dataframe tbody tr th {\n",
       "        vertical-align: top;\n",
       "    }\n",
       "\n",
       "    .dataframe thead th {\n",
       "        text-align: right;\n",
       "    }\n",
       "</style>\n",
       "<table border=\"1\" class=\"dataframe\">\n",
       "  <thead>\n",
       "    <tr style=\"text-align: right;\">\n",
       "      <th></th>\n",
       "      <th>Price</th>\n",
       "      <th>RegistrationYear</th>\n",
       "      <th>Power</th>\n",
       "      <th>Mileage</th>\n",
       "      <th>RegistrationMonth</th>\n",
       "      <th>PostalCode</th>\n",
       "      <th>VehicleType</th>\n",
       "      <th>Gearbox</th>\n",
       "      <th>Model</th>\n",
       "      <th>FuelType</th>\n",
       "      <th>Brand</th>\n",
       "      <th>NotRepaired</th>\n",
       "    </tr>\n",
       "  </thead>\n",
       "  <tbody>\n",
       "    <tr>\n",
       "      <th>0</th>\n",
       "      <td>480.0</td>\n",
       "      <td>1993.0</td>\n",
       "      <td>0.0</td>\n",
       "      <td>150000.0</td>\n",
       "      <td>0.0</td>\n",
       "      <td>70435.0</td>\n",
       "      <td>sedan</td>\n",
       "      <td>1</td>\n",
       "      <td>golf</td>\n",
       "      <td>petrol</td>\n",
       "      <td>volkswagen</td>\n",
       "      <td>0</td>\n",
       "    </tr>\n",
       "    <tr>\n",
       "      <th>1</th>\n",
       "      <td>18300.0</td>\n",
       "      <td>2011.0</td>\n",
       "      <td>190.0</td>\n",
       "      <td>125000.0</td>\n",
       "      <td>5.0</td>\n",
       "      <td>66954.0</td>\n",
       "      <td>coupe</td>\n",
       "      <td>1</td>\n",
       "      <td>golf</td>\n",
       "      <td>gasoline</td>\n",
       "      <td>audi</td>\n",
       "      <td>1</td>\n",
       "    </tr>\n",
       "    <tr>\n",
       "      <th>2</th>\n",
       "      <td>9800.0</td>\n",
       "      <td>2004.0</td>\n",
       "      <td>163.0</td>\n",
       "      <td>125000.0</td>\n",
       "      <td>8.0</td>\n",
       "      <td>90480.0</td>\n",
       "      <td>suv</td>\n",
       "      <td>0</td>\n",
       "      <td>grand</td>\n",
       "      <td>gasoline</td>\n",
       "      <td>jeep</td>\n",
       "      <td>0</td>\n",
       "    </tr>\n",
       "    <tr>\n",
       "      <th>3</th>\n",
       "      <td>1500.0</td>\n",
       "      <td>2001.0</td>\n",
       "      <td>75.0</td>\n",
       "      <td>150000.0</td>\n",
       "      <td>6.0</td>\n",
       "      <td>91074.0</td>\n",
       "      <td>small</td>\n",
       "      <td>1</td>\n",
       "      <td>golf</td>\n",
       "      <td>petrol</td>\n",
       "      <td>volkswagen</td>\n",
       "      <td>0</td>\n",
       "    </tr>\n",
       "    <tr>\n",
       "      <th>4</th>\n",
       "      <td>3600.0</td>\n",
       "      <td>2008.0</td>\n",
       "      <td>69.0</td>\n",
       "      <td>90000.0</td>\n",
       "      <td>7.0</td>\n",
       "      <td>60437.0</td>\n",
       "      <td>small</td>\n",
       "      <td>1</td>\n",
       "      <td>fabia</td>\n",
       "      <td>gasoline</td>\n",
       "      <td>skoda</td>\n",
       "      <td>0</td>\n",
       "    </tr>\n",
       "  </tbody>\n",
       "</table>\n",
       "</div>"
      ],
      "text/plain": [
       "     Price  RegistrationYear  Power   Mileage  RegistrationMonth  PostalCode  \\\n",
       "0    480.0            1993.0    0.0  150000.0                0.0     70435.0   \n",
       "1  18300.0            2011.0  190.0  125000.0                5.0     66954.0   \n",
       "2   9800.0            2004.0  163.0  125000.0                8.0     90480.0   \n",
       "3   1500.0            2001.0   75.0  150000.0                6.0     91074.0   \n",
       "4   3600.0            2008.0   69.0   90000.0                7.0     60437.0   \n",
       "\n",
       "  VehicleType  Gearbox  Model  FuelType       Brand  NotRepaired  \n",
       "0       sedan        1   golf    petrol  volkswagen            0  \n",
       "1       coupe        1   golf  gasoline        audi            1  \n",
       "2         suv        0  grand  gasoline        jeep            0  \n",
       "3       small        1   golf    petrol  volkswagen            0  \n",
       "4       small        1  fabia  gasoline       skoda            0  "
      ]
     },
     "execution_count": 26,
     "metadata": {},
     "output_type": "execute_result"
    }
   ],
   "source": [
    "# Convertiré las columnas con opciones binarias en 0 y 1\n",
    "\n",
    "binary_cols = ['Gearbox', 'NotRepaired']\n",
    "\n",
    "# Definir valores\n",
    "mapping = {'Yes': 1,\n",
    "           'No': 0,\n",
    "           'yes': 1,\n",
    "           'no': 0,\n",
    "           'manual': 1,\n",
    "           'auto': 0,\n",
    "           }\n",
    "\n",
    "# Definir funcion para cambiar valores\n",
    "def binarise_values(data, cols, map):\n",
    "    for col in cols:\n",
    "        data[col] = data[col].map(map)\n",
    "    return data\n",
    "\n",
    "# Llamar a la función\n",
    "data_ohe = binarise_values(train_imputed_df, binary_cols, mapping)\n",
    "\n",
    "data_ohe.head()"
   ]
  },
  {
   "cell_type": "code",
   "execution_count": 27,
   "metadata": {},
   "outputs": [
    {
     "data": {
      "text/html": [
       "<div>\n",
       "<style scoped>\n",
       "    .dataframe tbody tr th:only-of-type {\n",
       "        vertical-align: middle;\n",
       "    }\n",
       "\n",
       "    .dataframe tbody tr th {\n",
       "        vertical-align: top;\n",
       "    }\n",
       "\n",
       "    .dataframe thead th {\n",
       "        text-align: right;\n",
       "    }\n",
       "</style>\n",
       "<table border=\"1\" class=\"dataframe\">\n",
       "  <thead>\n",
       "    <tr style=\"text-align: right;\">\n",
       "      <th></th>\n",
       "      <th>Price</th>\n",
       "      <th>RegistrationYear</th>\n",
       "      <th>Power</th>\n",
       "      <th>Mileage</th>\n",
       "      <th>RegistrationMonth</th>\n",
       "      <th>PostalCode</th>\n",
       "      <th>VehicleType</th>\n",
       "      <th>Brand</th>\n",
       "    </tr>\n",
       "  </thead>\n",
       "  <tbody>\n",
       "    <tr>\n",
       "      <th>0</th>\n",
       "      <td>480.0</td>\n",
       "      <td>1993.0</td>\n",
       "      <td>0.0</td>\n",
       "      <td>150000.0</td>\n",
       "      <td>0.0</td>\n",
       "      <td>70435.0</td>\n",
       "      <td>sedan</td>\n",
       "      <td>volkswagen</td>\n",
       "    </tr>\n",
       "    <tr>\n",
       "      <th>1</th>\n",
       "      <td>18300.0</td>\n",
       "      <td>2011.0</td>\n",
       "      <td>190.0</td>\n",
       "      <td>125000.0</td>\n",
       "      <td>5.0</td>\n",
       "      <td>66954.0</td>\n",
       "      <td>coupe</td>\n",
       "      <td>audi</td>\n",
       "    </tr>\n",
       "    <tr>\n",
       "      <th>2</th>\n",
       "      <td>9800.0</td>\n",
       "      <td>2004.0</td>\n",
       "      <td>163.0</td>\n",
       "      <td>125000.0</td>\n",
       "      <td>8.0</td>\n",
       "      <td>90480.0</td>\n",
       "      <td>suv</td>\n",
       "      <td>jeep</td>\n",
       "    </tr>\n",
       "    <tr>\n",
       "      <th>3</th>\n",
       "      <td>1500.0</td>\n",
       "      <td>2001.0</td>\n",
       "      <td>75.0</td>\n",
       "      <td>150000.0</td>\n",
       "      <td>6.0</td>\n",
       "      <td>91074.0</td>\n",
       "      <td>small</td>\n",
       "      <td>volkswagen</td>\n",
       "    </tr>\n",
       "    <tr>\n",
       "      <th>4</th>\n",
       "      <td>3600.0</td>\n",
       "      <td>2008.0</td>\n",
       "      <td>69.0</td>\n",
       "      <td>90000.0</td>\n",
       "      <td>7.0</td>\n",
       "      <td>60437.0</td>\n",
       "      <td>small</td>\n",
       "      <td>skoda</td>\n",
       "    </tr>\n",
       "  </tbody>\n",
       "</table>\n",
       "</div>"
      ],
      "text/plain": [
       "     Price  RegistrationYear  Power   Mileage  RegistrationMonth  PostalCode  \\\n",
       "0    480.0            1993.0    0.0  150000.0                0.0     70435.0   \n",
       "1  18300.0            2011.0  190.0  125000.0                5.0     66954.0   \n",
       "2   9800.0            2004.0  163.0  125000.0                8.0     90480.0   \n",
       "3   1500.0            2001.0   75.0  150000.0                6.0     91074.0   \n",
       "4   3600.0            2008.0   69.0   90000.0                7.0     60437.0   \n",
       "\n",
       "  VehicleType       Brand  \n",
       "0       sedan  volkswagen  \n",
       "1       coupe        audi  \n",
       "2         suv        jeep  \n",
       "3       small  volkswagen  \n",
       "4       small       skoda  "
      ]
     },
     "execution_count": 27,
     "metadata": {},
     "output_type": "execute_result"
    }
   ],
   "source": [
    "# Crear una nueva columna para las categorías basadas en los percentiles\n",
    "\n",
    "def categorize(price):\n",
    "    if price <= percentile_values[0.33]:\n",
    "        return 'low'\n",
    "    elif price <= percentile_values[0.66]:\n",
    "        return 'medium'\n",
    "    else:\n",
    "        return 'high'\n",
    "# Elimino estas columnas para que el kernel no muera   \n",
    "data_ohe = data_ohe.drop(columns=['NotRepaired', 'Gearbox', 'FuelType', 'Model'])\n",
    "\n",
    "# Así queda la información\n",
    "data_ohe.head()"
   ]
  },
  {
   "cell_type": "code",
   "execution_count": 28,
   "metadata": {},
   "outputs": [],
   "source": [
    "# Ahora codificamos la información para usar los datos en los modelos\n",
    "\n",
    "data_ohe = pd.get_dummies(data_ohe, drop_first=True)\n",
    "\n",
    "\n",
    "    \n",
    "data_ohe['category'] = data_ohe['Price'].apply(categorize)"
   ]
  },
  {
   "cell_type": "code",
   "execution_count": 29,
   "metadata": {},
   "outputs": [],
   "source": [
    "# Realizar el split estratificado\n",
    "\n",
    "# features\n",
    "x = data_ohe.drop(columns=['Price', 'category'])\n",
    "# target\n",
    "y = data_ohe['Price']\n",
    "\n",
    "stratify_col = data_ohe['category']\n",
    "\n",
    "\n",
    "x_train, x_test, y_train, y_test = train_test_split(x, y, test_size=0.2, stratify=stratify_col, random_state=42)\n",
    "\n"
   ]
  },
  {
   "cell_type": "code",
   "execution_count": 30,
   "metadata": {},
   "outputs": [],
   "source": [
    "# Estandarizamos los datos\n",
    "  \n",
    "# StandardScaler para escalar los datos de entrenamiento y prueba \n",
    "scaler = StandardScaler() \n",
    "# Entreno con los datos de entrenamiento\n",
    "scaler.fit(x_train) \n",
    "# Transformo ambos conjuntos \n",
    "x_train = scaler.transform(x_train) \n",
    "x_test = scaler.transform(x_test) "
   ]
  },
  {
   "cell_type": "code",
   "execution_count": 31,
   "metadata": {},
   "outputs": [
    {
     "data": {
      "text/plain": [
       "low       121680\n",
       "high      120172\n",
       "medium    112255\n",
       "Name: category, dtype: int64"
      ]
     },
     "execution_count": 31,
     "metadata": {},
     "output_type": "execute_result"
    }
   ],
   "source": [
    "# Veamos el balance de las categorías\n",
    "\n",
    "data_ohe['category'].value_counts()"
   ]
  },
  {
   "cell_type": "code",
   "execution_count": 32,
   "metadata": {},
   "outputs": [
    {
     "name": "stdout",
     "output_type": "stream",
     "text": [
      "[[-9.84367335e-02  2.55281036e-04  5.74855728e-01 ... -4.02413281e-02\n",
      "   1.89834534e+00 -9.59266879e-02]\n",
      " [-7.73722880e-02 -1.87540022e-01  5.74855728e-01 ... -4.02413281e-02\n",
      "   1.89834534e+00 -9.59266879e-02]\n",
      " [-1.08968956e-01  3.06093346e-01  5.74855728e-01 ... -4.02413281e-02\n",
      "  -5.26774544e-01 -9.59266879e-02]\n",
      " ...\n",
      " [ 4.90143847e-02 -3.00217204e-01 -2.06151358e+00 ... -4.02413281e-02\n",
      "  -5.26774544e-01 -9.59266879e-02]\n",
      " [-1.41789516e-02  3.22190086e-01  5.74855728e-01 ... -4.02413281e-02\n",
      "  -5.26774544e-01 -9.59266879e-02]\n",
      " [-1.19501179e-01 -1.71443282e-01 -8.42365992e-02 ... -4.02413281e-02\n",
      "  -5.26774544e-01 -9.59266879e-02]]\n"
     ]
    }
   ],
   "source": [
    "# Cómo queda la información\n",
    "\n",
    "print(x_train)"
   ]
  },
  {
   "cell_type": "markdown",
   "metadata": {},
   "source": [
    "Utilizaré la métrica RECM para evaluar los modelos.\n",
    "\n",
    "Usaré regresión lineal para una prueba de cordura, bosque aleatorio, LightGBM con ajuste de hiperparámetros, CatBoost y XGBoost con ajuste de hiperparámetros (opcional).\n",
    "\n",
    "Usé el comando especial para encontrar el tiempo de ejecución del código de celda en Jupyter Notebook. Cambié solo algunos parámetros del modelo."
   ]
  },
  {
   "cell_type": "code",
   "execution_count": 33,
   "metadata": {
    "scrolled": true
   },
   "outputs": [
    {
     "name": "stdout",
     "output_type": "stream",
     "text": [
      "RECM test =  3677.06446661357\n",
      "CPU times: user 1.13 ms, sys: 151 µs, total: 1.29 ms\n",
      "Wall time: 325 µs\n"
     ]
    }
   ],
   "source": [
    "# Prueba de cordura\n",
    "\n",
    "model = LinearRegression()\n",
    "model.fit(x_train, y_train)\n",
    "val_t_predictions = model.predict(x_test)\n",
    "mse_t = mse(y_test, val_t_predictions)\n",
    "%time print(\"RECM test = \", mse_t ** 0.5 )"
   ]
  },
  {
   "cell_type": "code",
   "execution_count": 34,
   "metadata": {},
   "outputs": [
    {
     "name": "stdout",
     "output_type": "stream",
     "text": [
      "CPU times: user 265 ms, sys: 0 ns, total: 265 ms\n",
      "Wall time: 221 ms\n",
      "RECM test =  1903.8591297098587\n"
     ]
    }
   ],
   "source": [
    "# XGBRegressor\n",
    "\n",
    "# Usé estos hiperparámetros pero los quité porque resulta más error con ellos\n",
    "# learning_rate=0.1, max_depth=6, n_estimators=100, min_child_weight=1, subsample=0.8, colsample_bytree=0.8, gamma=0,\n",
    "# reg_alpha=0, reg_lambda=1,  objective='reg:squarederror'\n",
    "\n",
    "model = XGBRegressor()\n",
    "\n",
    "# Entrenar el modelo con el conjunto de entrenamiento. \n",
    "\n",
    "model.fit(x_train, y_train)\n",
    "\n",
    "# Hacer predicciones con los datos de prueba junto con su tiempo de ejecución. \n",
    "\n",
    "%time val_t_predictions = model.predict(x_test)\n",
    "mse_t = mse(y_test, val_t_predictions)\n",
    "print(\"RECM test = \", mse_t ** 0.5 )"
   ]
  },
  {
   "cell_type": "code",
   "execution_count": 35,
   "metadata": {},
   "outputs": [
    {
     "name": "stdout",
     "output_type": "stream",
     "text": [
      "Fitting 3 folds for each of 12 candidates, totalling 36 fits\n",
      "[CV] END .......................max_depth=7, n_estimators=30; total time=  11.1s\n",
      "[CV] END .......................max_depth=7, n_estimators=30; total time=   9.9s\n",
      "[CV] END .......................max_depth=7, n_estimators=30; total time=   9.8s\n",
      "[CV] END .......................max_depth=7, n_estimators=40; total time=  13.1s\n",
      "[CV] END .......................max_depth=7, n_estimators=40; total time=  13.1s\n",
      "[CV] END .......................max_depth=7, n_estimators=40; total time=  13.2s\n",
      "[CV] END .......................max_depth=7, n_estimators=50; total time=  16.4s\n",
      "[CV] END .......................max_depth=7, n_estimators=50; total time=  16.4s\n",
      "[CV] END .......................max_depth=7, n_estimators=50; total time=  16.4s\n",
      "[CV] END .......................max_depth=8, n_estimators=30; total time=  11.0s\n",
      "[CV] END .......................max_depth=8, n_estimators=30; total time=  10.9s\n",
      "[CV] END .......................max_depth=8, n_estimators=30; total time=  11.0s\n",
      "[CV] END .......................max_depth=8, n_estimators=40; total time=  14.5s\n",
      "[CV] END .......................max_depth=8, n_estimators=40; total time=  15.1s\n",
      "[CV] END .......................max_depth=8, n_estimators=40; total time=  14.7s\n",
      "[CV] END .......................max_depth=8, n_estimators=50; total time=  18.1s\n",
      "[CV] END .......................max_depth=8, n_estimators=50; total time=  18.2s\n",
      "[CV] END .......................max_depth=8, n_estimators=50; total time=  18.2s\n",
      "[CV] END .......................max_depth=9, n_estimators=30; total time=  11.9s\n",
      "[CV] END .......................max_depth=9, n_estimators=30; total time=  11.9s\n",
      "[CV] END .......................max_depth=9, n_estimators=30; total time=  11.9s\n",
      "[CV] END .......................max_depth=9, n_estimators=40; total time=  16.3s\n",
      "[CV] END .......................max_depth=9, n_estimators=40; total time=  16.7s\n",
      "[CV] END .......................max_depth=9, n_estimators=40; total time=  16.1s\n",
      "[CV] END .......................max_depth=9, n_estimators=50; total time=  19.9s\n",
      "[CV] END .......................max_depth=9, n_estimators=50; total time=  19.8s\n",
      "[CV] END .......................max_depth=9, n_estimators=50; total time=  19.7s\n",
      "[CV] END ......................max_depth=10, n_estimators=30; total time=  12.9s\n",
      "[CV] END ......................max_depth=10, n_estimators=30; total time=  12.9s\n",
      "[CV] END ......................max_depth=10, n_estimators=30; total time=  12.9s\n",
      "[CV] END ......................max_depth=10, n_estimators=40; total time=  17.1s\n",
      "[CV] END ......................max_depth=10, n_estimators=40; total time=  17.2s\n",
      "[CV] END ......................max_depth=10, n_estimators=40; total time=  17.0s\n",
      "[CV] END ......................max_depth=10, n_estimators=50; total time=  22.1s\n",
      "[CV] END ......................max_depth=10, n_estimators=50; total time=  21.6s\n",
      "[CV] END ......................max_depth=10, n_estimators=50; total time=  21.4s\n",
      "Mejores parámetros: {'max_depth': 10, 'n_estimators': 50}\n",
      "CPU times: user 223 ms, sys: 20 µs, total: 223 ms\n",
      "Wall time: 223 ms\n",
      "RMSE en el conjunto de prueba: 2085.1598531919853\n"
     ]
    }
   ],
   "source": [
    "\n",
    "rf = RandomForestRegressor(random_state=54321)\n",
    "\n",
    "# Definir la cuadrícula de parámetros\n",
    "param_grid = {\n",
    "    'n_estimators': range(30, 51, 10),\n",
    "    'max_depth': range(7, 11)\n",
    "}\n",
    "\n",
    "# Configurar GridSearchCV\n",
    "grid_search = GridSearchCV(estimator=rf, param_grid=param_grid, cv=3, n_jobs=-1, verbose=2, scoring='neg_mean_squared_error')\n",
    "\n",
    "# Entrenar el modelo con GridSearchCV\n",
    "grid_search.fit(x_train, y_train)\n",
    "\n",
    "# Obtener los mejores parámetros\n",
    "print(\"Mejores parámetros:\", grid_search.best_params_)\n",
    "\n",
    "# Predecir en el conjunto de prueba y tiempo de ejecución\n",
    "%time y_pred = grid_search.best_estimator_.predict(x_test)\n",
    "\n",
    "# Evaluar el modelo\n",
    "mse_t = mse(y_test, y_pred)\n",
    "rmse = mse_t ** 0.5\n",
    "print(\"RMSE en el conjunto de prueba:\", rmse)"
   ]
  },
  {
   "cell_type": "code",
   "execution_count": 36,
   "metadata": {},
   "outputs": [
    {
     "name": "stdout",
     "output_type": "stream",
     "text": [
      "CPU times: user 398 ms, sys: 13 µs, total: 398 ms\n",
      "Wall time: 393 ms\n",
      "RECM test =  1955.7964686371718\n"
     ]
    }
   ],
   "source": [
    "# LightGBM\n",
    "\n",
    "# Creé una instancia de LightGBM Regressor con recm. \n",
    "model = LGBMRegressor(learning_rate=0.1,\n",
    "    num_leaves=31,\n",
    "    max_depth=-1,\n",
    "    n_estimators=100,\n",
    "    min_child_samples=20,\n",
    "    subsample=0.8,\n",
    "    colsample_bytree=0.8,\n",
    "    reg_alpha=0.0,\n",
    "    reg_lambda=0.0,\n",
    "    metric='rmse') \n",
    "  \n",
    "# Entrenar el modelo con el conjunto de entrenamiento. \n",
    "model.fit(x_train, y_train) \n",
    "  \n",
    "# Hacer predicciones con los datos de prueba junto con su tiempo de ejecución. \n",
    "%time Y_test = model.predict(x_test) \n",
    "\n",
    "mse_t = mse(y_test, Y_test)\n",
    "print(\"RECM test = \", mse_t ** 0.5 )"
   ]
  },
  {
   "cell_type": "code",
   "execution_count": 37,
   "metadata": {},
   "outputs": [
    {
     "name": "stdout",
     "output_type": "stream",
     "text": [
      "CPU times: user 24.8 ms, sys: 3.93 ms, total: 28.8 ms\n",
      "Wall time: 28.8 ms\n",
      "RECM test =  1924.8405578990166\n"
     ]
    }
   ],
   "source": [
    "# CatBoostRegressor\n",
    "\n",
    "model = CatBoostRegressor(\n",
    "    learning_rate=0.1,\n",
    "    depth=6,\n",
    "    iterations=500,\n",
    "    l2_leaf_reg=3,\n",
    "    border_count=254,\n",
    "    subsample=0.8,\n",
    "    rsm=0.8,\n",
    "    loss_function='RMSE',\n",
    "    verbose=0)\n",
    "\n",
    "# Entrenar el modelo con el conjunto de entrenamiento. \n",
    "\n",
    "model.fit(x_train, y_train)\n",
    "\n",
    "# Hacer predicciones con los datos de prueba junto con su tiempo de ejecución. \n",
    "\n",
    "%time val_t_predictions = model.predict(x_test)\n",
    "mse_t = mse(y_test, val_t_predictions)\n",
    "print(\"RECM test = \", mse_t ** 0.5 )"
   ]
  },
  {
   "cell_type": "markdown",
   "metadata": {},
   "source": [
    "## Análisis del modelo"
   ]
  },
  {
   "cell_type": "markdown",
   "metadata": {},
   "source": [
    "Para determinar cuál de los cuatro modelos es el mejor para predecir el precio de coches usados, debes considerar principalmente las métricas de rendimiento, en este caso, el RMSE (Root Mean Squared Error o Error Cuadrático Medio) en el conjunto de prueba. El RMSE es una medida de precisión, donde un valor más bajo indica un mejor rendimiento del modelo. Además, puedes considerar los tiempos de CPU y tiempo de pared (Wall time), aunque generalmente la precisión del modelo es el factor más importante.\n",
    "\n",
    "Aquí tienes un resumen de los resultados:\n",
    "\n",
    "XGBRegressor\n",
    "\n",
    "CPU times: 446 ms\n",
    "Wall time: 412 ms\n",
    "RMSE test: 1903.86\n",
    "RandomForestRegressor\n",
    "\n",
    "Mejores parámetros: {'max_depth': 10, 'n_estimators': 50}\n",
    "CPU times: 406 ms\n",
    "Wall time: 409 ms\n",
    "RMSE test: 2085.16\n",
    "LGBMRegressor\n",
    "\n",
    "CPU times: 741 ms\n",
    "Wall time: 789 ms\n",
    "RMSE test: 1955.80\n",
    "CatBoostRegressor\n",
    "\n",
    "CPU times: 54.4 ms\n",
    "Wall time: 54.5 ms\n",
    "RMSE test: 1924.84\n",
    "Análisis\n",
    "RMSE: La métrica principal a considerar es el RMSE, ya que mide la precisión del modelo. Aquí, el modelo con el menor RMSE es el XGBRegressor (1903.86), seguido por el CatBoostRegressor (1924.84), LGBMRegressor (1955.80), y finalmente el RandomForestRegressor (2085.16).\n",
    "\n",
    "Tiempos de CPU y Wall Time: Aunque no es la métrica principal, puede ser útil considerar los tiempos de ejecución, especialmente si planeas implementar el modelo en un entorno donde el tiempo de predicción es crítico. El CatBoostRegressor tiene el tiempo de ejecución más bajo, tanto en CPU como en Wall time.\n",
    "\n",
    "Conclusión\n",
    "El mejor modelo en términos de precisión es el XGBRegressor con el RMSE más bajo (1903.86). Sin embargo, si los tiempos de ejecución son una consideración importante y puedes aceptar un ligero aumento en el RMSE, el CatBoostRegressor es una opción muy eficiente y rápida, con un RMSE de 1924.84 y tiempos de ejecución muy bajos.\n",
    "\n",
    "En resumen:\n",
    "\n",
    "Mejor modelo basado en RMSE: XGBRegressor\n",
    "Mejor modelo basado en tiempo de ejecución y buena precisión: CatBoostRegressor"
   ]
  },
  {
   "cell_type": "code",
   "execution_count": null,
   "metadata": {},
   "outputs": [],
   "source": []
  }
 ],
 "metadata": {
  "ExecuteTimeLog": [
   {
    "duration": 321,
    "start_time": "2024-07-12T19:58:51.325Z"
   },
   {
    "duration": 20,
    "start_time": "2024-07-12T19:58:54.338Z"
   },
   {
    "duration": 5289,
    "start_time": "2024-07-12T19:59:04.264Z"
   },
   {
    "duration": 805,
    "start_time": "2024-07-12T19:59:09.556Z"
   },
   {
    "duration": 23,
    "start_time": "2024-07-12T19:59:10.364Z"
   },
   {
    "duration": 141,
    "start_time": "2024-07-12T19:59:30.953Z"
   },
   {
    "duration": 6156,
    "start_time": "2024-07-12T21:51:58.075Z"
   },
   {
    "duration": 1224,
    "start_time": "2024-07-12T21:52:04.236Z"
   },
   {
    "duration": 22,
    "start_time": "2024-07-12T21:52:05.463Z"
   },
   {
    "duration": 169,
    "start_time": "2024-07-12T21:52:05.488Z"
   },
   {
    "duration": 110,
    "start_time": "2024-07-12T22:11:01.397Z"
   },
   {
    "duration": 104,
    "start_time": "2024-07-12T22:11:41.582Z"
   },
   {
    "duration": 401,
    "start_time": "2024-07-12T22:12:43.219Z"
   },
   {
    "duration": 435,
    "start_time": "2024-07-12T22:23:24.424Z"
   },
   {
    "duration": 102,
    "start_time": "2024-07-12T22:23:53.285Z"
   },
   {
    "duration": 440,
    "start_time": "2024-07-12T22:27:28.440Z"
   },
   {
    "duration": 589,
    "start_time": "2024-07-12T22:41:27.821Z"
   },
   {
    "duration": 50,
    "start_time": "2024-07-12T22:41:32.753Z"
   },
   {
    "duration": 22,
    "start_time": "2024-07-12T22:41:46.810Z"
   },
   {
    "duration": 122,
    "start_time": "2024-07-12T22:46:25.592Z"
   },
   {
    "duration": 118,
    "start_time": "2024-07-12T22:46:46.856Z"
   },
   {
    "duration": 90,
    "start_time": "2024-07-12T22:47:09.324Z"
   },
   {
    "duration": 14,
    "start_time": "2024-07-12T22:48:45.565Z"
   },
   {
    "duration": 19,
    "start_time": "2024-07-12T22:53:23.159Z"
   },
   {
    "duration": 18,
    "start_time": "2024-07-12T22:53:28.151Z"
   },
   {
    "duration": 82,
    "start_time": "2024-07-12T22:56:41.993Z"
   },
   {
    "duration": 18,
    "start_time": "2024-07-12T22:57:40.974Z"
   },
   {
    "duration": 20,
    "start_time": "2024-07-12T22:58:46.367Z"
   },
   {
    "duration": 41,
    "start_time": "2024-07-12T23:01:10.869Z"
   },
   {
    "duration": 581,
    "start_time": "2024-07-12T23:02:49.735Z"
   },
   {
    "duration": 17,
    "start_time": "2024-07-12T23:02:53.167Z"
   },
   {
    "duration": 25,
    "start_time": "2024-07-12T23:03:26.044Z"
   },
   {
    "duration": 37,
    "start_time": "2024-07-12T23:05:02.755Z"
   },
   {
    "duration": 101,
    "start_time": "2024-07-12T23:05:39.037Z"
   },
   {
    "duration": 549,
    "start_time": "2024-07-12T23:05:43.977Z"
   },
   {
    "duration": 627,
    "start_time": "2024-07-12T23:05:46.494Z"
   },
   {
    "duration": 38,
    "start_time": "2024-07-12T23:07:58.620Z"
   },
   {
    "duration": 17,
    "start_time": "2024-07-12T23:08:05.784Z"
   },
   {
    "duration": 38,
    "start_time": "2024-07-12T23:08:35.466Z"
   },
   {
    "duration": 26,
    "start_time": "2024-07-12T23:09:47.372Z"
   },
   {
    "duration": 65,
    "start_time": "2024-07-12T23:09:53.027Z"
   },
   {
    "duration": 38,
    "start_time": "2024-07-12T23:10:01.524Z"
   },
   {
    "duration": 32,
    "start_time": "2024-07-12T23:11:32.987Z"
   },
   {
    "duration": 308,
    "start_time": "2024-07-12T23:53:40.215Z"
   },
   {
    "duration": 5312,
    "start_time": "2024-07-12T23:53:49.067Z"
   },
   {
    "duration": 775,
    "start_time": "2024-07-12T23:53:54.383Z"
   },
   {
    "duration": 23,
    "start_time": "2024-07-12T23:53:55.160Z"
   },
   {
    "duration": 160,
    "start_time": "2024-07-12T23:53:55.187Z"
   },
   {
    "duration": 408,
    "start_time": "2024-07-12T23:53:55.350Z"
   },
   {
    "duration": 461,
    "start_time": "2024-07-12T23:53:55.761Z"
   },
   {
    "duration": 57,
    "start_time": "2024-07-12T23:53:56.224Z"
   },
   {
    "duration": 109,
    "start_time": "2024-07-12T23:53:56.287Z"
   },
   {
    "duration": 133,
    "start_time": "2024-07-12T23:53:56.399Z"
   },
   {
    "duration": 150,
    "start_time": "2024-07-12T23:53:56.540Z"
   },
   {
    "duration": 39,
    "start_time": "2024-07-12T23:53:56.693Z"
   },
   {
    "duration": 17,
    "start_time": "2024-07-12T23:53:56.735Z"
   },
   {
    "duration": 625,
    "start_time": "2024-07-12T23:53:56.755Z"
   },
   {
    "duration": 0,
    "start_time": "2024-07-12T23:53:57.383Z"
   },
   {
    "duration": 0,
    "start_time": "2024-07-12T23:53:57.385Z"
   },
   {
    "duration": 0,
    "start_time": "2024-07-12T23:53:57.387Z"
   },
   {
    "duration": 0,
    "start_time": "2024-07-12T23:53:57.389Z"
   },
   {
    "duration": 0,
    "start_time": "2024-07-12T23:53:57.391Z"
   },
   {
    "duration": 0,
    "start_time": "2024-07-12T23:53:57.392Z"
   },
   {
    "duration": 124,
    "start_time": "2024-07-12T23:57:34.264Z"
   },
   {
    "duration": 29,
    "start_time": "2024-07-12T23:57:47.444Z"
   },
   {
    "duration": 1571,
    "start_time": "2024-07-12T23:57:57.384Z"
   },
   {
    "duration": 726,
    "start_time": "2024-07-12T23:57:58.959Z"
   },
   {
    "duration": 21,
    "start_time": "2024-07-12T23:57:59.688Z"
   },
   {
    "duration": 164,
    "start_time": "2024-07-12T23:57:59.713Z"
   },
   {
    "duration": 409,
    "start_time": "2024-07-12T23:57:59.881Z"
   },
   {
    "duration": 464,
    "start_time": "2024-07-12T23:58:00.293Z"
   },
   {
    "duration": 49,
    "start_time": "2024-07-12T23:58:00.759Z"
   },
   {
    "duration": 106,
    "start_time": "2024-07-12T23:58:00.811Z"
   },
   {
    "duration": 125,
    "start_time": "2024-07-12T23:58:00.930Z"
   },
   {
    "duration": 136,
    "start_time": "2024-07-12T23:58:01.059Z"
   },
   {
    "duration": 41,
    "start_time": "2024-07-12T23:58:01.198Z"
   },
   {
    "duration": 19,
    "start_time": "2024-07-12T23:58:01.243Z"
   },
   {
    "duration": 172,
    "start_time": "2024-07-12T23:58:01.265Z"
   },
   {
    "duration": 18,
    "start_time": "2024-07-12T23:58:01.443Z"
   },
   {
    "duration": 37,
    "start_time": "2024-07-12T23:58:01.464Z"
   },
   {
    "duration": 589,
    "start_time": "2024-07-12T23:58:01.530Z"
   },
   {
    "duration": 63,
    "start_time": "2024-07-12T23:58:02.122Z"
   },
   {
    "duration": 62,
    "start_time": "2024-07-12T23:58:02.188Z"
   },
   {
    "duration": 36,
    "start_time": "2024-07-12T23:58:02.253Z"
   },
   {
    "duration": 13,
    "start_time": "2024-07-13T00:37:53.782Z"
   },
   {
    "duration": 309,
    "start_time": "2024-07-13T00:38:09.965Z"
   },
   {
    "duration": 5264,
    "start_time": "2024-07-13T00:38:18.815Z"
   },
   {
    "duration": 753,
    "start_time": "2024-07-13T00:38:24.083Z"
   },
   {
    "duration": 28,
    "start_time": "2024-07-13T00:38:24.840Z"
   },
   {
    "duration": 164,
    "start_time": "2024-07-13T00:38:24.874Z"
   },
   {
    "duration": 402,
    "start_time": "2024-07-13T00:38:25.040Z"
   },
   {
    "duration": 446,
    "start_time": "2024-07-13T00:38:25.445Z"
   },
   {
    "duration": 53,
    "start_time": "2024-07-13T00:38:25.894Z"
   },
   {
    "duration": 120,
    "start_time": "2024-07-13T00:38:25.950Z"
   },
   {
    "duration": 126,
    "start_time": "2024-07-13T00:38:26.072Z"
   },
   {
    "duration": 137,
    "start_time": "2024-07-13T00:38:26.202Z"
   },
   {
    "duration": 61,
    "start_time": "2024-07-13T00:38:26.341Z"
   },
   {
    "duration": 17,
    "start_time": "2024-07-13T00:38:26.422Z"
   },
   {
    "duration": 414,
    "start_time": "2024-07-13T00:38:56.071Z"
   },
   {
    "duration": 39,
    "start_time": "2024-07-13T00:39:01.893Z"
   },
   {
    "duration": 5,
    "start_time": "2024-07-13T00:39:23.299Z"
   },
   {
    "duration": 8,
    "start_time": "2024-07-13T00:39:31.211Z"
   },
   {
    "duration": 29,
    "start_time": "2024-07-13T00:41:20.105Z"
   },
   {
    "duration": 9,
    "start_time": "2024-07-13T00:55:31.138Z"
   },
   {
    "duration": 1444,
    "start_time": "2024-07-13T00:55:53.227Z"
   },
   {
    "duration": 10,
    "start_time": "2024-07-13T00:56:54.062Z"
   },
   {
    "duration": 53,
    "start_time": "2024-07-13T00:58:41.453Z"
   },
   {
    "duration": 91,
    "start_time": "2024-07-13T00:59:02.177Z"
   },
   {
    "duration": 98,
    "start_time": "2024-07-13T00:59:10.744Z"
   },
   {
    "duration": 22,
    "start_time": "2024-07-13T01:00:30.803Z"
   },
   {
    "duration": 48,
    "start_time": "2024-07-13T01:00:42.649Z"
   },
   {
    "duration": 24,
    "start_time": "2024-07-13T01:01:34.909Z"
   },
   {
    "duration": 40,
    "start_time": "2024-07-13T01:01:56.417Z"
   },
   {
    "duration": 10,
    "start_time": "2024-07-13T01:02:31.546Z"
   },
   {
    "duration": 26,
    "start_time": "2024-07-13T01:14:39.343Z"
   },
   {
    "duration": 31,
    "start_time": "2024-07-13T01:16:06.629Z"
   },
   {
    "duration": 27,
    "start_time": "2024-07-13T01:16:25.817Z"
   },
   {
    "duration": 27,
    "start_time": "2024-07-13T01:16:39.950Z"
   },
   {
    "duration": 1686,
    "start_time": "2024-07-13T01:24:06.821Z"
   },
   {
    "duration": 791,
    "start_time": "2024-07-13T01:24:08.511Z"
   },
   {
    "duration": 31,
    "start_time": "2024-07-13T01:24:09.305Z"
   },
   {
    "duration": 153,
    "start_time": "2024-07-13T01:24:09.341Z"
   },
   {
    "duration": 452,
    "start_time": "2024-07-13T01:24:09.496Z"
   },
   {
    "duration": 467,
    "start_time": "2024-07-13T01:24:09.950Z"
   },
   {
    "duration": 49,
    "start_time": "2024-07-13T01:24:10.419Z"
   },
   {
    "duration": 105,
    "start_time": "2024-07-13T01:24:10.471Z"
   },
   {
    "duration": 130,
    "start_time": "2024-07-13T01:24:10.579Z"
   },
   {
    "duration": 138,
    "start_time": "2024-07-13T01:24:10.726Z"
   },
   {
    "duration": 56,
    "start_time": "2024-07-13T01:24:10.867Z"
   },
   {
    "duration": 9,
    "start_time": "2024-07-13T01:24:10.926Z"
   },
   {
    "duration": 14,
    "start_time": "2024-07-13T01:24:10.938Z"
   },
   {
    "duration": 26,
    "start_time": "2024-07-13T01:24:10.955Z"
   },
   {
    "duration": 43,
    "start_time": "2024-07-13T01:24:10.985Z"
   },
   {
    "duration": 127,
    "start_time": "2024-07-13T01:24:11.031Z"
   },
   {
    "duration": 1283,
    "start_time": "2024-07-13T01:24:11.161Z"
   },
   {
    "duration": 0,
    "start_time": "2024-07-13T01:24:12.447Z"
   },
   {
    "duration": 0,
    "start_time": "2024-07-13T01:24:12.449Z"
   },
   {
    "duration": 0,
    "start_time": "2024-07-13T01:24:12.452Z"
   },
   {
    "duration": 0,
    "start_time": "2024-07-13T01:24:12.455Z"
   },
   {
    "duration": 0,
    "start_time": "2024-07-13T01:24:12.457Z"
   },
   {
    "duration": 0,
    "start_time": "2024-07-13T01:24:12.458Z"
   },
   {
    "duration": 17,
    "start_time": "2024-07-13T01:27:44.545Z"
   },
   {
    "duration": 27,
    "start_time": "2024-07-13T01:27:46.572Z"
   },
   {
    "duration": 26,
    "start_time": "2024-07-13T01:27:47.172Z"
   },
   {
    "duration": 27,
    "start_time": "2024-07-13T01:27:47.740Z"
   },
   {
    "duration": 25,
    "start_time": "2024-07-13T01:27:49.005Z"
   },
   {
    "duration": 309,
    "start_time": "2024-07-13T01:33:02.636Z"
   },
   {
    "duration": 1618,
    "start_time": "2024-07-13T01:33:12.089Z"
   },
   {
    "duration": 805,
    "start_time": "2024-07-13T01:33:13.711Z"
   },
   {
    "duration": 31,
    "start_time": "2024-07-13T01:33:14.523Z"
   },
   {
    "duration": 254,
    "start_time": "2024-07-13T01:33:14.561Z"
   },
   {
    "duration": 522,
    "start_time": "2024-07-13T01:33:14.823Z"
   },
   {
    "duration": 466,
    "start_time": "2024-07-13T01:33:15.349Z"
   },
   {
    "duration": 53,
    "start_time": "2024-07-13T01:33:15.818Z"
   },
   {
    "duration": 116,
    "start_time": "2024-07-13T01:33:15.874Z"
   },
   {
    "duration": 157,
    "start_time": "2024-07-13T01:33:15.994Z"
   },
   {
    "duration": 147,
    "start_time": "2024-07-13T01:33:16.158Z"
   },
   {
    "duration": 50,
    "start_time": "2024-07-13T01:33:16.310Z"
   },
   {
    "duration": 16,
    "start_time": "2024-07-13T01:33:16.365Z"
   },
   {
    "duration": 15,
    "start_time": "2024-07-13T01:33:16.385Z"
   },
   {
    "duration": 29,
    "start_time": "2024-07-13T01:33:16.426Z"
   },
   {
    "duration": 24,
    "start_time": "2024-07-13T01:33:16.458Z"
   },
   {
    "duration": 165,
    "start_time": "2024-07-13T01:33:16.485Z"
   },
   {
    "duration": 25,
    "start_time": "2024-07-13T01:33:16.655Z"
   },
   {
    "duration": 43,
    "start_time": "2024-07-13T01:33:16.683Z"
   },
   {
    "duration": 33,
    "start_time": "2024-07-13T01:33:16.730Z"
   },
   {
    "duration": 60,
    "start_time": "2024-07-13T01:33:16.766Z"
   },
   {
    "duration": 27,
    "start_time": "2024-07-13T01:33:16.830Z"
   },
   {
    "duration": 124,
    "start_time": "2024-07-13T01:33:16.860Z"
   },
   {
    "duration": 216,
    "start_time": "2024-07-13T01:33:46.560Z"
   },
   {
    "duration": 1602,
    "start_time": "2024-07-13T01:34:25.728Z"
   },
   {
    "duration": 764,
    "start_time": "2024-07-13T01:34:27.334Z"
   },
   {
    "duration": 32,
    "start_time": "2024-07-13T01:34:28.100Z"
   },
   {
    "duration": 151,
    "start_time": "2024-07-13T01:34:28.136Z"
   },
   {
    "duration": 410,
    "start_time": "2024-07-13T01:34:28.290Z"
   },
   {
    "duration": 443,
    "start_time": "2024-07-13T01:34:28.703Z"
   },
   {
    "duration": 48,
    "start_time": "2024-07-13T01:34:29.148Z"
   },
   {
    "duration": 104,
    "start_time": "2024-07-13T01:34:29.199Z"
   },
   {
    "duration": 130,
    "start_time": "2024-07-13T01:34:29.306Z"
   },
   {
    "duration": 149,
    "start_time": "2024-07-13T01:34:29.442Z"
   },
   {
    "duration": 53,
    "start_time": "2024-07-13T01:34:29.595Z"
   },
   {
    "duration": 10,
    "start_time": "2024-07-13T01:34:29.651Z"
   },
   {
    "duration": 12,
    "start_time": "2024-07-13T01:34:29.664Z"
   },
   {
    "duration": 59,
    "start_time": "2024-07-13T01:34:29.679Z"
   },
   {
    "duration": 11,
    "start_time": "2024-07-13T01:34:29.741Z"
   },
   {
    "duration": 129,
    "start_time": "2024-07-13T01:34:29.755Z"
   },
   {
    "duration": 16,
    "start_time": "2024-07-13T01:34:29.887Z"
   },
   {
    "duration": 38,
    "start_time": "2024-07-13T01:34:29.906Z"
   },
   {
    "duration": 26,
    "start_time": "2024-07-13T01:34:29.947Z"
   },
   {
    "duration": 55,
    "start_time": "2024-07-13T01:34:29.976Z"
   },
   {
    "duration": 30,
    "start_time": "2024-07-13T01:34:30.034Z"
   },
   {
    "duration": 123,
    "start_time": "2024-07-13T01:34:30.067Z"
   },
   {
    "duration": 218,
    "start_time": "2024-07-13T01:34:30.193Z"
   },
   {
    "duration": 312,
    "start_time": "2024-07-13T01:37:46.753Z"
   },
   {
    "duration": 1632,
    "start_time": "2024-07-13T01:37:54.034Z"
   },
   {
    "duration": 787,
    "start_time": "2024-07-13T01:37:55.669Z"
   },
   {
    "duration": 23,
    "start_time": "2024-07-13T01:37:56.462Z"
   },
   {
    "duration": 159,
    "start_time": "2024-07-13T01:37:56.489Z"
   },
   {
    "duration": 419,
    "start_time": "2024-07-13T01:37:56.650Z"
   },
   {
    "duration": 456,
    "start_time": "2024-07-13T01:37:57.072Z"
   },
   {
    "duration": 48,
    "start_time": "2024-07-13T01:37:57.531Z"
   },
   {
    "duration": 103,
    "start_time": "2024-07-13T01:37:57.582Z"
   },
   {
    "duration": 134,
    "start_time": "2024-07-13T01:37:57.688Z"
   },
   {
    "duration": 128,
    "start_time": "2024-07-13T01:37:57.828Z"
   },
   {
    "duration": 38,
    "start_time": "2024-07-13T01:37:57.959Z"
   },
   {
    "duration": 26,
    "start_time": "2024-07-13T01:37:57.999Z"
   },
   {
    "duration": 11,
    "start_time": "2024-07-13T01:37:58.027Z"
   },
   {
    "duration": 24,
    "start_time": "2024-07-13T01:37:58.042Z"
   },
   {
    "duration": 11,
    "start_time": "2024-07-13T01:37:58.069Z"
   },
   {
    "duration": 107,
    "start_time": "2024-07-13T01:37:58.123Z"
   },
   {
    "duration": 17,
    "start_time": "2024-07-13T01:37:58.233Z"
   },
   {
    "duration": 29,
    "start_time": "2024-07-13T01:37:58.253Z"
   },
   {
    "duration": 58,
    "start_time": "2024-07-13T01:37:58.286Z"
   },
   {
    "duration": 29,
    "start_time": "2024-07-13T01:37:58.348Z"
   },
   {
    "duration": 50,
    "start_time": "2024-07-13T01:37:58.381Z"
   },
   {
    "duration": 109,
    "start_time": "2024-07-13T01:37:58.434Z"
   },
   {
    "duration": 210,
    "start_time": "2024-07-13T01:37:58.546Z"
   },
   {
    "duration": 3,
    "start_time": "2024-07-13T01:38:17.694Z"
   },
   {
    "duration": 36,
    "start_time": "2024-07-13T01:38:38.527Z"
   },
   {
    "duration": 8,
    "start_time": "2024-07-13T01:38:47.376Z"
   },
   {
    "duration": 1589,
    "start_time": "2024-07-13T01:39:27.196Z"
   },
   {
    "duration": 774,
    "start_time": "2024-07-13T01:39:28.788Z"
   },
   {
    "duration": 23,
    "start_time": "2024-07-13T01:39:29.565Z"
   },
   {
    "duration": 185,
    "start_time": "2024-07-13T01:39:29.592Z"
   },
   {
    "duration": 427,
    "start_time": "2024-07-13T01:39:29.780Z"
   },
   {
    "duration": 440,
    "start_time": "2024-07-13T01:39:30.222Z"
   },
   {
    "duration": 47,
    "start_time": "2024-07-13T01:39:30.664Z"
   },
   {
    "duration": 100,
    "start_time": "2024-07-13T01:39:30.724Z"
   },
   {
    "duration": 135,
    "start_time": "2024-07-13T01:39:30.827Z"
   },
   {
    "duration": 276,
    "start_time": "2024-07-13T01:39:30.968Z"
   },
   {
    "duration": 76,
    "start_time": "2024-07-13T01:39:31.247Z"
   },
   {
    "duration": 11,
    "start_time": "2024-07-13T01:39:31.328Z"
   },
   {
    "duration": 15,
    "start_time": "2024-07-13T01:39:31.343Z"
   },
   {
    "duration": 63,
    "start_time": "2024-07-13T01:39:31.360Z"
   },
   {
    "duration": 10,
    "start_time": "2024-07-13T01:39:31.426Z"
   },
   {
    "duration": 123,
    "start_time": "2024-07-13T01:39:31.440Z"
   },
   {
    "duration": 18,
    "start_time": "2024-07-13T01:39:31.566Z"
   },
   {
    "duration": 47,
    "start_time": "2024-07-13T01:39:31.587Z"
   },
   {
    "duration": 29,
    "start_time": "2024-07-13T01:39:31.638Z"
   },
   {
    "duration": 53,
    "start_time": "2024-07-13T01:39:31.669Z"
   },
   {
    "duration": 29,
    "start_time": "2024-07-13T01:39:31.725Z"
   },
   {
    "duration": 115,
    "start_time": "2024-07-13T01:39:31.757Z"
   },
   {
    "duration": 219,
    "start_time": "2024-07-13T01:39:31.874Z"
   },
   {
    "duration": 47,
    "start_time": "2024-07-13T01:39:32.095Z"
   },
   {
    "duration": 1699,
    "start_time": "2024-07-13T01:45:47.632Z"
   },
   {
    "duration": 900,
    "start_time": "2024-07-13T01:45:49.335Z"
   },
   {
    "duration": 26,
    "start_time": "2024-07-13T01:45:50.240Z"
   },
   {
    "duration": 178,
    "start_time": "2024-07-13T01:45:50.270Z"
   },
   {
    "duration": 455,
    "start_time": "2024-07-13T01:45:50.454Z"
   },
   {
    "duration": 511,
    "start_time": "2024-07-13T01:45:50.912Z"
   },
   {
    "duration": 48,
    "start_time": "2024-07-13T01:45:51.426Z"
   },
   {
    "duration": 112,
    "start_time": "2024-07-13T01:45:51.478Z"
   },
   {
    "duration": 132,
    "start_time": "2024-07-13T01:45:51.592Z"
   },
   {
    "duration": 131,
    "start_time": "2024-07-13T01:45:51.729Z"
   },
   {
    "duration": 65,
    "start_time": "2024-07-13T01:45:51.864Z"
   },
   {
    "duration": 9,
    "start_time": "2024-07-13T01:45:51.932Z"
   },
   {
    "duration": 12,
    "start_time": "2024-07-13T01:45:51.945Z"
   },
   {
    "duration": 60,
    "start_time": "2024-07-13T01:45:51.963Z"
   },
   {
    "duration": 12,
    "start_time": "2024-07-13T01:45:52.026Z"
   },
   {
    "duration": 130,
    "start_time": "2024-07-13T01:45:52.042Z"
   },
   {
    "duration": 18,
    "start_time": "2024-07-13T01:45:52.176Z"
   },
   {
    "duration": 45,
    "start_time": "2024-07-13T01:45:52.197Z"
   },
   {
    "duration": 27,
    "start_time": "2024-07-13T01:45:52.245Z"
   },
   {
    "duration": 54,
    "start_time": "2024-07-13T01:45:52.276Z"
   },
   {
    "duration": 28,
    "start_time": "2024-07-13T01:45:52.333Z"
   },
   {
    "duration": 140,
    "start_time": "2024-07-13T01:45:52.365Z"
   },
   {
    "duration": 767,
    "start_time": "2024-07-13T01:46:08.032Z"
   },
   {
    "duration": 5291,
    "start_time": "2024-07-15T22:04:42.580Z"
   },
   {
    "duration": 803,
    "start_time": "2024-07-15T22:04:47.876Z"
   },
   {
    "duration": 38,
    "start_time": "2024-07-15T22:04:48.682Z"
   },
   {
    "duration": 155,
    "start_time": "2024-07-15T22:04:48.726Z"
   },
   {
    "duration": 430,
    "start_time": "2024-07-15T22:04:48.884Z"
   },
   {
    "duration": 895,
    "start_time": "2024-07-15T22:04:49.317Z"
   },
   {
    "duration": 107,
    "start_time": "2024-07-15T22:04:50.215Z"
   },
   {
    "duration": 205,
    "start_time": "2024-07-15T22:04:50.326Z"
   },
   {
    "duration": 311,
    "start_time": "2024-07-15T22:04:50.534Z"
   },
   {
    "duration": 146,
    "start_time": "2024-07-15T22:04:50.914Z"
   },
   {
    "duration": 49,
    "start_time": "2024-07-15T22:04:51.063Z"
   },
   {
    "duration": 9,
    "start_time": "2024-07-15T22:04:51.115Z"
   },
   {
    "duration": 11,
    "start_time": "2024-07-15T22:04:51.126Z"
   },
   {
    "duration": 26,
    "start_time": "2024-07-15T22:04:51.141Z"
   },
   {
    "duration": 52,
    "start_time": "2024-07-15T22:04:51.170Z"
   },
   {
    "duration": 121,
    "start_time": "2024-07-15T22:04:51.226Z"
   },
   {
    "duration": 17,
    "start_time": "2024-07-15T22:04:51.350Z"
   },
   {
    "duration": 49,
    "start_time": "2024-07-15T22:04:51.370Z"
   },
   {
    "duration": 26,
    "start_time": "2024-07-15T22:04:51.422Z"
   },
   {
    "duration": 27,
    "start_time": "2024-07-15T22:04:51.451Z"
   },
   {
    "duration": 60,
    "start_time": "2024-07-15T22:04:51.480Z"
   },
   {
    "duration": 121,
    "start_time": "2024-07-15T22:04:51.544Z"
   },
   {
    "duration": 825,
    "start_time": "2024-07-15T22:04:51.667Z"
   },
   {
    "duration": 334,
    "start_time": "2024-07-15T22:27:36.298Z"
   },
   {
    "duration": 25,
    "start_time": "2024-07-15T22:27:44.368Z"
   },
   {
    "duration": 5,
    "start_time": "2024-07-15T22:28:28.191Z"
   },
   {
    "duration": 334,
    "start_time": "2024-07-15T22:28:33.778Z"
   },
   {
    "duration": 4,
    "start_time": "2024-07-15T22:28:36.053Z"
   },
   {
    "duration": 331,
    "start_time": "2024-07-15T22:29:33.472Z"
   },
   {
    "duration": 304,
    "start_time": "2024-07-15T22:30:29.401Z"
   },
   {
    "duration": 208,
    "start_time": "2024-07-15T22:32:08.140Z"
   },
   {
    "duration": 255,
    "start_time": "2024-07-15T22:32:34.483Z"
   },
   {
    "duration": 158,
    "start_time": "2024-07-15T22:33:03.734Z"
   },
   {
    "duration": 135,
    "start_time": "2024-07-15T22:33:24.233Z"
   },
   {
    "duration": 1444,
    "start_time": "2024-07-15T22:34:00.670Z"
   },
   {
    "duration": 92,
    "start_time": "2024-07-15T22:34:35.680Z"
   },
   {
    "duration": 71,
    "start_time": "2024-07-15T22:34:45.681Z"
   },
   {
    "duration": 66,
    "start_time": "2024-07-15T22:34:52.010Z"
   },
   {
    "duration": 1704,
    "start_time": "2024-07-15T22:36:06.600Z"
   },
   {
    "duration": 739,
    "start_time": "2024-07-15T22:36:08.309Z"
   },
   {
    "duration": 22,
    "start_time": "2024-07-15T22:36:09.052Z"
   },
   {
    "duration": 162,
    "start_time": "2024-07-15T22:36:09.077Z"
   },
   {
    "duration": 4,
    "start_time": "2024-07-15T22:36:09.244Z"
   },
   {
    "duration": 429,
    "start_time": "2024-07-15T22:36:09.251Z"
   },
   {
    "duration": 453,
    "start_time": "2024-07-15T22:36:09.683Z"
   },
   {
    "duration": 208,
    "start_time": "2024-07-15T22:36:10.139Z"
   },
   {
    "duration": 39,
    "start_time": "2024-07-15T22:36:10.350Z"
   },
   {
    "duration": 82,
    "start_time": "2024-07-15T22:36:10.392Z"
   },
   {
    "duration": 100,
    "start_time": "2024-07-15T22:36:10.477Z"
   },
   {
    "duration": 108,
    "start_time": "2024-07-15T22:36:10.580Z"
   },
   {
    "duration": 4,
    "start_time": "2024-07-15T22:36:10.691Z"
   },
   {
    "duration": 4,
    "start_time": "2024-07-15T22:36:10.717Z"
   },
   {
    "duration": 5,
    "start_time": "2024-07-15T22:36:10.724Z"
   },
   {
    "duration": 4,
    "start_time": "2024-07-15T22:36:10.732Z"
   },
   {
    "duration": 3,
    "start_time": "2024-07-15T22:36:10.740Z"
   },
   {
    "duration": 4,
    "start_time": "2024-07-15T22:36:10.746Z"
   },
   {
    "duration": 6,
    "start_time": "2024-07-15T22:36:10.753Z"
   },
   {
    "duration": 53,
    "start_time": "2024-07-15T22:36:10.761Z"
   },
   {
    "duration": 4,
    "start_time": "2024-07-15T22:36:10.817Z"
   },
   {
    "duration": 4,
    "start_time": "2024-07-15T22:36:10.824Z"
   },
   {
    "duration": 4,
    "start_time": "2024-07-15T22:36:10.831Z"
   },
   {
    "duration": 3,
    "start_time": "2024-07-15T22:36:10.838Z"
   },
   {
    "duration": 4,
    "start_time": "2024-07-15T22:36:10.845Z"
   },
   {
    "duration": 1818,
    "start_time": "2024-07-15T22:37:21.473Z"
   },
   {
    "duration": 4,
    "start_time": "2024-07-15T22:38:10.655Z"
   },
   {
    "duration": 3,
    "start_time": "2024-07-15T22:38:10.947Z"
   },
   {
    "duration": 25,
    "start_time": "2024-07-15T22:43:18.290Z"
   },
   {
    "duration": 27,
    "start_time": "2024-07-15T22:44:01.829Z"
   },
   {
    "duration": 646,
    "start_time": "2024-07-15T23:02:32.145Z"
   },
   {
    "duration": 24,
    "start_time": "2024-07-15T23:06:18.250Z"
   },
   {
    "duration": 8,
    "start_time": "2024-07-15T23:07:03.289Z"
   },
   {
    "duration": 119,
    "start_time": "2024-07-15T23:07:31.035Z"
   },
   {
    "duration": 134,
    "start_time": "2024-07-15T23:44:06.690Z"
   },
   {
    "duration": 296,
    "start_time": "2024-07-15T23:51:07.439Z"
   },
   {
    "duration": 24,
    "start_time": "2024-07-15T23:51:20.835Z"
   },
   {
    "duration": 362,
    "start_time": "2024-07-15T23:52:14.408Z"
   },
   {
    "duration": 262,
    "start_time": "2024-07-15T23:55:09.664Z"
   },
   {
    "duration": 4,
    "start_time": "2024-07-15T23:55:28.529Z"
   },
   {
    "duration": 54,
    "start_time": "2024-07-15T23:55:31.424Z"
   },
   {
    "duration": 16,
    "start_time": "2024-07-15T23:55:46.955Z"
   },
   {
    "duration": 29,
    "start_time": "2024-07-15T23:55:50.866Z"
   },
   {
    "duration": 119,
    "start_time": "2024-07-15T23:55:57.084Z"
   },
   {
    "duration": 26,
    "start_time": "2024-07-16T00:02:21.886Z"
   },
   {
    "duration": 17,
    "start_time": "2024-07-16T00:14:50.324Z"
   },
   {
    "duration": 32,
    "start_time": "2024-07-16T00:14:55.346Z"
   },
   {
    "duration": 34,
    "start_time": "2024-07-16T00:15:17.347Z"
   },
   {
    "duration": 7,
    "start_time": "2024-07-16T00:16:13.683Z"
   },
   {
    "duration": 24,
    "start_time": "2024-07-16T00:19:41.544Z"
   },
   {
    "duration": 5435,
    "start_time": "2024-07-21T19:15:37.543Z"
   },
   {
    "duration": 857,
    "start_time": "2024-07-21T19:15:42.983Z"
   },
   {
    "duration": 22,
    "start_time": "2024-07-21T19:15:43.844Z"
   },
   {
    "duration": 173,
    "start_time": "2024-07-21T19:15:43.869Z"
   },
   {
    "duration": 6,
    "start_time": "2024-07-21T19:15:44.052Z"
   },
   {
    "duration": 5,
    "start_time": "2024-07-21T19:15:44.063Z"
   },
   {
    "duration": 431,
    "start_time": "2024-07-21T19:15:44.076Z"
   },
   {
    "duration": 485,
    "start_time": "2024-07-21T19:15:44.518Z"
   },
   {
    "duration": 293,
    "start_time": "2024-07-21T19:15:45.005Z"
   },
   {
    "duration": 13,
    "start_time": "2024-07-21T19:15:45.301Z"
   },
   {
    "duration": 63,
    "start_time": "2024-07-21T19:15:45.318Z"
   },
   {
    "duration": 68,
    "start_time": "2024-07-21T19:15:45.384Z"
   },
   {
    "duration": 68,
    "start_time": "2024-07-21T19:15:45.455Z"
   },
   {
    "duration": 1734,
    "start_time": "2024-07-21T19:33:31.999Z"
   },
   {
    "duration": 753,
    "start_time": "2024-07-21T19:33:33.737Z"
   },
   {
    "duration": 31,
    "start_time": "2024-07-21T19:33:34.493Z"
   },
   {
    "duration": 159,
    "start_time": "2024-07-21T19:33:34.528Z"
   },
   {
    "duration": 3,
    "start_time": "2024-07-21T19:33:34.690Z"
   },
   {
    "duration": 3,
    "start_time": "2024-07-21T19:33:34.712Z"
   },
   {
    "duration": 419,
    "start_time": "2024-07-21T19:33:34.718Z"
   },
   {
    "duration": 502,
    "start_time": "2024-07-21T19:33:35.140Z"
   },
   {
    "duration": 292,
    "start_time": "2024-07-21T19:33:35.645Z"
   },
   {
    "duration": 3,
    "start_time": "2024-07-21T19:33:35.943Z"
   },
   {
    "duration": 80,
    "start_time": "2024-07-21T19:33:35.950Z"
   },
   {
    "duration": 56,
    "start_time": "2024-07-21T19:33:36.034Z"
   },
   {
    "duration": 5409,
    "start_time": "2024-07-22T18:17:04.226Z"
   },
   {
    "duration": 799,
    "start_time": "2024-07-22T18:17:09.639Z"
   },
   {
    "duration": 22,
    "start_time": "2024-07-22T18:17:10.441Z"
   },
   {
    "duration": 183,
    "start_time": "2024-07-22T18:17:10.467Z"
   },
   {
    "duration": 4,
    "start_time": "2024-07-22T18:17:10.653Z"
   },
   {
    "duration": 3,
    "start_time": "2024-07-22T18:17:10.662Z"
   },
   {
    "duration": 460,
    "start_time": "2024-07-22T18:17:10.669Z"
   },
   {
    "duration": 488,
    "start_time": "2024-07-22T18:17:11.133Z"
   },
   {
    "duration": 305,
    "start_time": "2024-07-22T18:17:11.625Z"
   },
   {
    "duration": 3,
    "start_time": "2024-07-22T18:17:11.935Z"
   },
   {
    "duration": 83,
    "start_time": "2024-07-22T18:17:11.942Z"
   },
   {
    "duration": 56,
    "start_time": "2024-07-22T18:17:12.028Z"
   },
   {
    "duration": 31,
    "start_time": "2024-07-22T18:18:21.559Z"
   },
   {
    "duration": 19,
    "start_time": "2024-07-22T18:18:27.141Z"
   },
   {
    "duration": 147,
    "start_time": "2024-07-22T18:18:43.871Z"
   },
   {
    "duration": 415,
    "start_time": "2024-07-22T18:18:56.432Z"
   },
   {
    "duration": 478,
    "start_time": "2024-07-22T18:19:05.381Z"
   },
   {
    "duration": 1781,
    "start_time": "2024-07-22T18:19:39.922Z"
   },
   {
    "duration": 754,
    "start_time": "2024-07-22T18:19:41.708Z"
   },
   {
    "duration": 42,
    "start_time": "2024-07-22T18:19:42.465Z"
   },
   {
    "duration": 24,
    "start_time": "2024-07-22T18:19:42.511Z"
   },
   {
    "duration": 195,
    "start_time": "2024-07-22T18:19:42.538Z"
   },
   {
    "duration": 4,
    "start_time": "2024-07-22T18:19:42.736Z"
   },
   {
    "duration": 4,
    "start_time": "2024-07-22T18:19:42.744Z"
   },
   {
    "duration": 482,
    "start_time": "2024-07-22T18:19:42.752Z"
   },
   {
    "duration": 520,
    "start_time": "2024-07-22T18:19:43.238Z"
   },
   {
    "duration": 321,
    "start_time": "2024-07-22T18:19:43.764Z"
   },
   {
    "duration": 14,
    "start_time": "2024-07-22T18:19:44.088Z"
   },
   {
    "duration": 72,
    "start_time": "2024-07-22T18:19:44.105Z"
   },
   {
    "duration": 59,
    "start_time": "2024-07-22T18:19:44.204Z"
   },
   {
    "duration": 54,
    "start_time": "2024-07-22T18:24:03.115Z"
   },
   {
    "duration": 110,
    "start_time": "2024-07-22T18:24:18.661Z"
   },
   {
    "duration": 92,
    "start_time": "2024-07-22T18:24:24.992Z"
   },
   {
    "duration": 16,
    "start_time": "2024-07-22T18:28:34.321Z"
   },
   {
    "duration": 16,
    "start_time": "2024-07-22T18:28:56.455Z"
   },
   {
    "duration": 17,
    "start_time": "2024-07-22T18:30:03.326Z"
   },
   {
    "duration": 5333,
    "start_time": "2024-07-22T18:38:12.031Z"
   },
   {
    "duration": 5304,
    "start_time": "2024-07-22T18:39:58.976Z"
   },
   {
    "duration": 507,
    "start_time": "2024-07-22T18:40:27.807Z"
   },
   {
    "duration": 7,
    "start_time": "2024-07-22T18:49:00.407Z"
   },
   {
    "duration": 6,
    "start_time": "2024-07-22T18:49:33.538Z"
   },
   {
    "duration": 28,
    "start_time": "2024-07-22T18:53:12.459Z"
   },
   {
    "duration": 431,
    "start_time": "2024-07-22T18:57:01.324Z"
   },
   {
    "duration": 97,
    "start_time": "2024-07-22T18:58:01.524Z"
   },
   {
    "duration": 17,
    "start_time": "2024-07-22T18:58:18.941Z"
   },
   {
    "duration": 26,
    "start_time": "2024-07-22T18:58:44.398Z"
   },
   {
    "duration": 26,
    "start_time": "2024-07-22T18:59:19.397Z"
   },
   {
    "duration": 107,
    "start_time": "2024-07-22T19:01:51.467Z"
   },
   {
    "duration": 517,
    "start_time": "2024-07-22T19:04:05.759Z"
   },
   {
    "duration": 183,
    "start_time": "2024-07-22T19:05:41.132Z"
   },
   {
    "duration": 468,
    "start_time": "2024-07-22T19:05:53.644Z"
   },
   {
    "duration": 26,
    "start_time": "2024-07-22T19:08:35.303Z"
   },
   {
    "duration": 83,
    "start_time": "2024-07-22T19:08:40.482Z"
   },
   {
    "duration": 22,
    "start_time": "2024-07-22T19:09:30.674Z"
   },
   {
    "duration": 25,
    "start_time": "2024-07-22T19:10:12.111Z"
   },
   {
    "duration": 16,
    "start_time": "2024-07-22T19:10:43.576Z"
   },
   {
    "duration": 34,
    "start_time": "2024-07-22T19:11:56.097Z"
   },
   {
    "duration": 328,
    "start_time": "2024-07-22T19:12:35.402Z"
   },
   {
    "duration": 28,
    "start_time": "2024-07-22T19:12:46.381Z"
   },
   {
    "duration": 38,
    "start_time": "2024-07-22T19:12:52.695Z"
   },
   {
    "duration": 33,
    "start_time": "2024-07-22T19:13:06.468Z"
   },
   {
    "duration": 26,
    "start_time": "2024-07-22T19:13:18.534Z"
   },
   {
    "duration": 88,
    "start_time": "2024-07-22T19:13:43.766Z"
   },
   {
    "duration": 209,
    "start_time": "2024-07-22T19:14:04.571Z"
   },
   {
    "duration": 5203,
    "start_time": "2024-07-22T19:49:40.506Z"
   },
   {
    "duration": 805,
    "start_time": "2024-07-22T19:49:45.713Z"
   },
   {
    "duration": 38,
    "start_time": "2024-07-22T19:49:46.521Z"
   },
   {
    "duration": 24,
    "start_time": "2024-07-22T19:49:46.563Z"
   },
   {
    "duration": 175,
    "start_time": "2024-07-22T19:49:46.592Z"
   },
   {
    "duration": 4,
    "start_time": "2024-07-22T19:49:46.770Z"
   },
   {
    "duration": 3,
    "start_time": "2024-07-22T19:49:46.777Z"
   },
   {
    "duration": 415,
    "start_time": "2024-07-22T19:49:46.783Z"
   },
   {
    "duration": 444,
    "start_time": "2024-07-22T19:49:47.200Z"
   },
   {
    "duration": 55,
    "start_time": "2024-07-22T19:49:47.647Z"
   },
   {
    "duration": 4,
    "start_time": "2024-07-22T19:49:47.705Z"
   },
   {
    "duration": 110,
    "start_time": "2024-07-22T19:49:47.732Z"
   },
   {
    "duration": 99,
    "start_time": "2024-07-22T19:49:47.845Z"
   },
   {
    "duration": 16,
    "start_time": "2024-07-22T19:49:47.950Z"
   },
   {
    "duration": 5446,
    "start_time": "2024-07-22T19:49:47.969Z"
   },
   {
    "duration": 466,
    "start_time": "2024-07-22T19:49:53.417Z"
   },
   {
    "duration": 6,
    "start_time": "2024-07-22T19:49:53.886Z"
   },
   {
    "duration": 114,
    "start_time": "2024-07-22T19:49:53.895Z"
   },
   {
    "duration": 26,
    "start_time": "2024-07-22T19:49:54.012Z"
   },
   {
    "duration": 126,
    "start_time": "2024-07-22T19:49:54.042Z"
   },
   {
    "duration": 535,
    "start_time": "2024-07-22T19:49:54.171Z"
   },
   {
    "duration": 84,
    "start_time": "2024-07-22T19:49:54.709Z"
   },
   {
    "duration": 40,
    "start_time": "2024-07-22T19:49:54.796Z"
   },
   {
    "duration": 28,
    "start_time": "2024-07-22T19:49:54.838Z"
   },
   {
    "duration": 15,
    "start_time": "2024-07-22T19:49:54.869Z"
   },
   {
    "duration": 69,
    "start_time": "2024-07-22T19:49:54.887Z"
   },
   {
    "duration": 339,
    "start_time": "2024-07-22T19:49:54.958Z"
   },
   {
    "duration": 48,
    "start_time": "2024-07-22T19:49:55.300Z"
   },
   {
    "duration": 107,
    "start_time": "2024-07-22T19:49:55.351Z"
   },
   {
    "duration": 24,
    "start_time": "2024-07-22T19:49:55.461Z"
   },
   {
    "duration": 102,
    "start_time": "2024-07-22T19:49:55.488Z"
   },
   {
    "duration": 216,
    "start_time": "2024-07-22T19:49:55.593Z"
   },
   {
    "duration": 5233,
    "start_time": "2024-07-22T20:46:43.931Z"
   },
   {
    "duration": 785,
    "start_time": "2024-07-22T20:46:49.168Z"
   },
   {
    "duration": 30,
    "start_time": "2024-07-22T20:46:49.956Z"
   },
   {
    "duration": 42,
    "start_time": "2024-07-22T20:46:49.990Z"
   },
   {
    "duration": 159,
    "start_time": "2024-07-22T20:46:50.035Z"
   },
   {
    "duration": 4,
    "start_time": "2024-07-22T20:46:50.198Z"
   },
   {
    "duration": 4,
    "start_time": "2024-07-22T20:46:50.205Z"
   },
   {
    "duration": 398,
    "start_time": "2024-07-22T20:46:50.232Z"
   },
   {
    "duration": 455,
    "start_time": "2024-07-22T20:46:50.633Z"
   },
   {
    "duration": 58,
    "start_time": "2024-07-22T20:46:51.095Z"
   },
   {
    "duration": 3,
    "start_time": "2024-07-22T20:46:51.157Z"
   },
   {
    "duration": 133,
    "start_time": "2024-07-22T20:46:51.164Z"
   },
   {
    "duration": 96,
    "start_time": "2024-07-22T20:46:51.300Z"
   },
   {
    "duration": 32,
    "start_time": "2024-07-22T20:46:51.399Z"
   },
   {
    "duration": 5296,
    "start_time": "2024-07-22T20:46:51.434Z"
   },
   {
    "duration": 475,
    "start_time": "2024-07-22T20:46:56.733Z"
   },
   {
    "duration": 6,
    "start_time": "2024-07-22T20:46:57.211Z"
   },
   {
    "duration": 107,
    "start_time": "2024-07-22T20:46:57.232Z"
   },
   {
    "duration": 17,
    "start_time": "2024-07-22T20:46:57.342Z"
   },
   {
    "duration": 125,
    "start_time": "2024-07-22T20:46:57.362Z"
   },
   {
    "duration": 517,
    "start_time": "2024-07-22T20:46:57.490Z"
   },
   {
    "duration": 81,
    "start_time": "2024-07-22T20:46:58.010Z"
   },
   {
    "duration": 41,
    "start_time": "2024-07-22T20:46:58.094Z"
   },
   {
    "duration": 28,
    "start_time": "2024-07-22T20:46:58.138Z"
   },
   {
    "duration": 16,
    "start_time": "2024-07-22T20:46:58.169Z"
   },
   {
    "duration": 64,
    "start_time": "2024-07-22T20:46:58.188Z"
   },
   {
    "duration": 339,
    "start_time": "2024-07-22T20:46:58.255Z"
   },
   {
    "duration": 47,
    "start_time": "2024-07-22T20:46:58.601Z"
   },
   {
    "duration": 33,
    "start_time": "2024-07-22T20:46:58.651Z"
   },
   {
    "duration": 59,
    "start_time": "2024-07-22T20:46:58.686Z"
   },
   {
    "duration": 84,
    "start_time": "2024-07-22T20:46:58.748Z"
   },
   {
    "duration": 214,
    "start_time": "2024-07-22T20:46:58.834Z"
   },
   {
    "duration": 9,
    "start_time": "2024-07-22T21:28:56.257Z"
   },
   {
    "duration": 159,
    "start_time": "2024-07-22T21:32:59.007Z"
   },
   {
    "duration": 10,
    "start_time": "2024-07-22T21:40:07.771Z"
   },
   {
    "duration": 33,
    "start_time": "2024-07-22T21:41:34.341Z"
   },
   {
    "duration": 437,
    "start_time": "2024-07-22T21:46:27.514Z"
   },
   {
    "duration": 122,
    "start_time": "2024-07-22T21:46:36.218Z"
   },
   {
    "duration": 6,
    "start_time": "2024-07-22T21:47:35.909Z"
   },
   {
    "duration": 6989,
    "start_time": "2024-07-22T21:51:02.725Z"
   },
   {
    "duration": 17,
    "start_time": "2024-07-22T21:51:10.579Z"
   },
   {
    "duration": 30,
    "start_time": "2024-07-22T21:53:02.697Z"
   },
   {
    "duration": 1713,
    "start_time": "2024-07-22T22:05:41.365Z"
   },
   {
    "duration": 721,
    "start_time": "2024-07-22T22:05:43.081Z"
   },
   {
    "duration": 43,
    "start_time": "2024-07-22T22:05:43.804Z"
   },
   {
    "duration": 23,
    "start_time": "2024-07-22T22:05:43.851Z"
   },
   {
    "duration": 170,
    "start_time": "2024-07-22T22:05:43.877Z"
   },
   {
    "duration": 4,
    "start_time": "2024-07-22T22:05:44.050Z"
   },
   {
    "duration": 4,
    "start_time": "2024-07-22T22:05:44.057Z"
   },
   {
    "duration": 436,
    "start_time": "2024-07-22T22:05:44.065Z"
   },
   {
    "duration": 454,
    "start_time": "2024-07-22T22:05:44.505Z"
   },
   {
    "duration": 66,
    "start_time": "2024-07-22T22:05:44.965Z"
   },
   {
    "duration": 3,
    "start_time": "2024-07-22T22:05:45.035Z"
   },
   {
    "duration": 116,
    "start_time": "2024-07-22T22:05:45.042Z"
   },
   {
    "duration": 100,
    "start_time": "2024-07-22T22:05:45.161Z"
   },
   {
    "duration": 489,
    "start_time": "2024-07-22T22:05:45.264Z"
   },
   {
    "duration": 434,
    "start_time": "2024-07-22T22:05:45.758Z"
   },
   {
    "duration": 0,
    "start_time": "2024-07-22T22:05:46.196Z"
   },
   {
    "duration": 0,
    "start_time": "2024-07-22T22:05:46.198Z"
   },
   {
    "duration": 0,
    "start_time": "2024-07-22T22:05:46.201Z"
   },
   {
    "duration": 0,
    "start_time": "2024-07-22T22:05:46.202Z"
   },
   {
    "duration": 0,
    "start_time": "2024-07-22T22:05:46.204Z"
   },
   {
    "duration": 0,
    "start_time": "2024-07-22T22:05:46.230Z"
   },
   {
    "duration": 0,
    "start_time": "2024-07-22T22:05:46.232Z"
   },
   {
    "duration": 0,
    "start_time": "2024-07-22T22:05:46.234Z"
   },
   {
    "duration": 0,
    "start_time": "2024-07-22T22:05:46.235Z"
   },
   {
    "duration": 0,
    "start_time": "2024-07-22T22:05:46.237Z"
   },
   {
    "duration": 0,
    "start_time": "2024-07-22T22:05:46.240Z"
   },
   {
    "duration": 0,
    "start_time": "2024-07-22T22:05:46.242Z"
   },
   {
    "duration": 0,
    "start_time": "2024-07-22T22:05:46.245Z"
   },
   {
    "duration": 0,
    "start_time": "2024-07-22T22:05:46.246Z"
   },
   {
    "duration": 0,
    "start_time": "2024-07-22T22:05:46.248Z"
   },
   {
    "duration": 0,
    "start_time": "2024-07-22T22:05:46.250Z"
   },
   {
    "duration": 0,
    "start_time": "2024-07-22T22:05:46.252Z"
   },
   {
    "duration": 0,
    "start_time": "2024-07-22T22:05:46.255Z"
   },
   {
    "duration": 0,
    "start_time": "2024-07-22T22:05:46.257Z"
   },
   {
    "duration": 1638,
    "start_time": "2024-07-22T22:06:54.588Z"
   },
   {
    "duration": 718,
    "start_time": "2024-07-22T22:06:56.230Z"
   },
   {
    "duration": 31,
    "start_time": "2024-07-22T22:06:56.951Z"
   },
   {
    "duration": 22,
    "start_time": "2024-07-22T22:06:56.986Z"
   },
   {
    "duration": 146,
    "start_time": "2024-07-22T22:06:57.032Z"
   },
   {
    "duration": 3,
    "start_time": "2024-07-22T22:06:57.182Z"
   },
   {
    "duration": 4,
    "start_time": "2024-07-22T22:06:57.188Z"
   },
   {
    "duration": 418,
    "start_time": "2024-07-22T22:06:57.196Z"
   },
   {
    "duration": 448,
    "start_time": "2024-07-22T22:06:57.617Z"
   },
   {
    "duration": 62,
    "start_time": "2024-07-22T22:06:58.070Z"
   },
   {
    "duration": 3,
    "start_time": "2024-07-22T22:06:58.135Z"
   },
   {
    "duration": 122,
    "start_time": "2024-07-22T22:06:58.142Z"
   },
   {
    "duration": 99,
    "start_time": "2024-07-22T22:06:58.266Z"
   },
   {
    "duration": 477,
    "start_time": "2024-07-22T22:06:58.368Z"
   },
   {
    "duration": 422,
    "start_time": "2024-07-22T22:06:58.851Z"
   },
   {
    "duration": 0,
    "start_time": "2024-07-22T22:06:59.276Z"
   },
   {
    "duration": 0,
    "start_time": "2024-07-22T22:06:59.278Z"
   },
   {
    "duration": 0,
    "start_time": "2024-07-22T22:06:59.279Z"
   },
   {
    "duration": 0,
    "start_time": "2024-07-22T22:06:59.281Z"
   },
   {
    "duration": 0,
    "start_time": "2024-07-22T22:06:59.282Z"
   },
   {
    "duration": 0,
    "start_time": "2024-07-22T22:06:59.283Z"
   },
   {
    "duration": 0,
    "start_time": "2024-07-22T22:06:59.286Z"
   },
   {
    "duration": 0,
    "start_time": "2024-07-22T22:06:59.290Z"
   },
   {
    "duration": 0,
    "start_time": "2024-07-22T22:06:59.293Z"
   },
   {
    "duration": 0,
    "start_time": "2024-07-22T22:06:59.295Z"
   },
   {
    "duration": 0,
    "start_time": "2024-07-22T22:06:59.331Z"
   },
   {
    "duration": 0,
    "start_time": "2024-07-22T22:06:59.333Z"
   },
   {
    "duration": 0,
    "start_time": "2024-07-22T22:06:59.335Z"
   },
   {
    "duration": 0,
    "start_time": "2024-07-22T22:06:59.336Z"
   },
   {
    "duration": 0,
    "start_time": "2024-07-22T22:06:59.338Z"
   },
   {
    "duration": 0,
    "start_time": "2024-07-22T22:06:59.339Z"
   },
   {
    "duration": 0,
    "start_time": "2024-07-22T22:06:59.342Z"
   },
   {
    "duration": 0,
    "start_time": "2024-07-22T22:06:59.345Z"
   },
   {
    "duration": 35,
    "start_time": "2024-07-22T22:07:12.912Z"
   },
   {
    "duration": 33,
    "start_time": "2024-07-22T22:07:15.051Z"
   },
   {
    "duration": 17,
    "start_time": "2024-07-22T22:07:15.670Z"
   },
   {
    "duration": 36,
    "start_time": "2024-07-22T22:07:17.876Z"
   },
   {
    "duration": 404,
    "start_time": "2024-07-22T22:07:20.384Z"
   },
   {
    "duration": 44,
    "start_time": "2024-07-22T22:07:21.462Z"
   },
   {
    "duration": 37,
    "start_time": "2024-07-22T22:07:22.413Z"
   },
   {
    "duration": 28,
    "start_time": "2024-07-22T22:07:23.874Z"
   },
   {
    "duration": 88,
    "start_time": "2024-07-22T22:07:26.535Z"
   },
   {
    "duration": 256,
    "start_time": "2024-07-22T22:07:28.971Z"
   },
   {
    "duration": 16,
    "start_time": "2024-07-22T22:08:16.245Z"
   },
   {
    "duration": 6830,
    "start_time": "2024-07-22T22:08:18.192Z"
   },
   {
    "duration": 4837,
    "start_time": "2024-07-22T22:08:58.879Z"
   },
   {
    "duration": 5421,
    "start_time": "2024-07-22T22:09:56.224Z"
   },
   {
    "duration": 6911,
    "start_time": "2024-07-22T22:10:41.942Z"
   },
   {
    "duration": 881,
    "start_time": "2024-07-22T22:12:44.415Z"
   },
   {
    "duration": 1690,
    "start_time": "2024-07-22T22:17:00.469Z"
   },
   {
    "duration": 736,
    "start_time": "2024-07-22T22:17:02.162Z"
   },
   {
    "duration": 44,
    "start_time": "2024-07-22T22:17:02.900Z"
   },
   {
    "duration": 23,
    "start_time": "2024-07-22T22:17:02.948Z"
   },
   {
    "duration": 173,
    "start_time": "2024-07-22T22:17:02.975Z"
   },
   {
    "duration": 3,
    "start_time": "2024-07-22T22:17:03.151Z"
   },
   {
    "duration": 3,
    "start_time": "2024-07-22T22:17:03.160Z"
   },
   {
    "duration": 414,
    "start_time": "2024-07-22T22:17:03.167Z"
   },
   {
    "duration": 458,
    "start_time": "2024-07-22T22:17:03.584Z"
   },
   {
    "duration": 55,
    "start_time": "2024-07-22T22:17:04.046Z"
   },
   {
    "duration": 3,
    "start_time": "2024-07-22T22:17:04.104Z"
   },
   {
    "duration": 111,
    "start_time": "2024-07-22T22:17:04.130Z"
   },
   {
    "duration": 95,
    "start_time": "2024-07-22T22:17:04.244Z"
   },
   {
    "duration": 487,
    "start_time": "2024-07-22T22:17:04.345Z"
   },
   {
    "duration": 35,
    "start_time": "2024-07-22T22:17:04.835Z"
   },
   {
    "duration": 32,
    "start_time": "2024-07-22T22:17:04.874Z"
   },
   {
    "duration": 17,
    "start_time": "2024-07-22T22:17:04.931Z"
   },
   {
    "duration": 36,
    "start_time": "2024-07-22T22:17:04.951Z"
   },
   {
    "duration": 431,
    "start_time": "2024-07-22T22:17:04.990Z"
   },
   {
    "duration": 50,
    "start_time": "2024-07-22T22:17:05.423Z"
   },
   {
    "duration": 57,
    "start_time": "2024-07-22T22:17:05.475Z"
   },
   {
    "duration": 28,
    "start_time": "2024-07-22T22:17:05.535Z"
   },
   {
    "duration": 135,
    "start_time": "2024-07-22T22:17:05.567Z"
   },
   {
    "duration": 264,
    "start_time": "2024-07-22T22:17:05.705Z"
   },
   {
    "duration": 15,
    "start_time": "2024-07-22T22:17:05.974Z"
   },
   {
    "duration": 1946,
    "start_time": "2024-07-22T22:17:05.994Z"
   },
   {
    "duration": 0,
    "start_time": "2024-07-22T22:17:07.943Z"
   },
   {
    "duration": 0,
    "start_time": "2024-07-22T22:17:07.945Z"
   },
   {
    "duration": 0,
    "start_time": "2024-07-22T22:17:07.947Z"
   },
   {
    "duration": 0,
    "start_time": "2024-07-22T22:17:07.949Z"
   },
   {
    "duration": 0,
    "start_time": "2024-07-22T22:17:07.951Z"
   },
   {
    "duration": 5615,
    "start_time": "2024-07-22T22:18:25.918Z"
   },
   {
    "duration": 96,
    "start_time": "2024-07-22T22:22:25.566Z"
   },
   {
    "duration": 1730,
    "start_time": "2024-07-22T22:22:38.429Z"
   },
   {
    "duration": 722,
    "start_time": "2024-07-22T22:22:40.163Z"
   },
   {
    "duration": 43,
    "start_time": "2024-07-22T22:22:40.887Z"
   },
   {
    "duration": 23,
    "start_time": "2024-07-22T22:22:40.933Z"
   },
   {
    "duration": 169,
    "start_time": "2024-07-22T22:22:40.961Z"
   },
   {
    "duration": 5,
    "start_time": "2024-07-22T22:22:41.133Z"
   },
   {
    "duration": 4,
    "start_time": "2024-07-22T22:22:41.141Z"
   },
   {
    "duration": 417,
    "start_time": "2024-07-22T22:22:41.147Z"
   },
   {
    "duration": 463,
    "start_time": "2024-07-22T22:22:41.568Z"
   },
   {
    "duration": 58,
    "start_time": "2024-07-22T22:22:42.034Z"
   },
   {
    "duration": 4,
    "start_time": "2024-07-22T22:22:42.096Z"
   },
   {
    "duration": 140,
    "start_time": "2024-07-22T22:22:42.103Z"
   },
   {
    "duration": 119,
    "start_time": "2024-07-22T22:22:42.246Z"
   },
   {
    "duration": 478,
    "start_time": "2024-07-22T22:22:42.371Z"
   },
   {
    "duration": 32,
    "start_time": "2024-07-22T22:22:42.852Z"
   },
   {
    "duration": 60,
    "start_time": "2024-07-22T22:22:42.888Z"
   },
   {
    "duration": 19,
    "start_time": "2024-07-22T22:22:42.951Z"
   },
   {
    "duration": 60,
    "start_time": "2024-07-22T22:22:42.973Z"
   },
   {
    "duration": 409,
    "start_time": "2024-07-22T22:22:43.036Z"
   },
   {
    "duration": 42,
    "start_time": "2024-07-22T22:22:43.448Z"
   },
   {
    "duration": 52,
    "start_time": "2024-07-22T22:22:43.493Z"
   },
   {
    "duration": 29,
    "start_time": "2024-07-22T22:22:43.549Z"
   },
   {
    "duration": 115,
    "start_time": "2024-07-22T22:22:43.581Z"
   },
   {
    "duration": 262,
    "start_time": "2024-07-22T22:22:43.699Z"
   },
   {
    "duration": 15,
    "start_time": "2024-07-22T22:22:43.964Z"
   },
   {
    "duration": 450,
    "start_time": "2024-07-22T22:22:43.982Z"
   },
   {
    "duration": 0,
    "start_time": "2024-07-22T22:22:44.435Z"
   },
   {
    "duration": 0,
    "start_time": "2024-07-22T22:22:44.438Z"
   },
   {
    "duration": 0,
    "start_time": "2024-07-22T22:22:44.441Z"
   },
   {
    "duration": 0,
    "start_time": "2024-07-22T22:22:44.444Z"
   },
   {
    "duration": 0,
    "start_time": "2024-07-22T22:22:44.446Z"
   },
   {
    "duration": 0,
    "start_time": "2024-07-22T22:22:44.448Z"
   },
   {
    "duration": 115,
    "start_time": "2024-07-22T22:23:04.164Z"
   },
   {
    "duration": 6483,
    "start_time": "2024-07-22T22:23:10.758Z"
   },
   {
    "duration": 1669,
    "start_time": "2024-07-22T22:23:46.689Z"
   },
   {
    "duration": 721,
    "start_time": "2024-07-22T22:23:48.362Z"
   },
   {
    "duration": 44,
    "start_time": "2024-07-22T22:23:49.086Z"
   },
   {
    "duration": 22,
    "start_time": "2024-07-22T22:23:49.133Z"
   },
   {
    "duration": 159,
    "start_time": "2024-07-22T22:23:49.160Z"
   },
   {
    "duration": 3,
    "start_time": "2024-07-22T22:23:49.331Z"
   },
   {
    "duration": 6,
    "start_time": "2024-07-22T22:23:49.337Z"
   },
   {
    "duration": 427,
    "start_time": "2024-07-22T22:23:49.346Z"
   },
   {
    "duration": 462,
    "start_time": "2024-07-22T22:23:49.775Z"
   },
   {
    "duration": 52,
    "start_time": "2024-07-22T22:23:50.239Z"
   },
   {
    "duration": 3,
    "start_time": "2024-07-22T22:23:50.294Z"
   },
   {
    "duration": 132,
    "start_time": "2024-07-22T22:23:50.300Z"
   },
   {
    "duration": 106,
    "start_time": "2024-07-22T22:23:50.436Z"
   },
   {
    "duration": 473,
    "start_time": "2024-07-22T22:23:50.548Z"
   },
   {
    "duration": 37,
    "start_time": "2024-07-22T22:23:51.024Z"
   },
   {
    "duration": 35,
    "start_time": "2024-07-22T22:23:51.064Z"
   },
   {
    "duration": 42,
    "start_time": "2024-07-22T22:23:51.101Z"
   },
   {
    "duration": 37,
    "start_time": "2024-07-22T22:23:51.146Z"
   },
   {
    "duration": 438,
    "start_time": "2024-07-22T22:23:51.186Z"
   },
   {
    "duration": 43,
    "start_time": "2024-07-22T22:23:51.632Z"
   },
   {
    "duration": 55,
    "start_time": "2024-07-22T22:23:51.678Z"
   },
   {
    "duration": 32,
    "start_time": "2024-07-22T22:23:51.736Z"
   },
   {
    "duration": 122,
    "start_time": "2024-07-22T22:23:51.771Z"
   },
   {
    "duration": 289,
    "start_time": "2024-07-22T22:23:51.896Z"
   },
   {
    "duration": 16,
    "start_time": "2024-07-22T22:23:52.188Z"
   },
   {
    "duration": 110,
    "start_time": "2024-07-22T22:23:52.207Z"
   },
   {
    "duration": 6764,
    "start_time": "2024-07-22T22:23:52.319Z"
   },
   {
    "duration": 0,
    "start_time": "2024-07-22T22:23:59.086Z"
   },
   {
    "duration": 0,
    "start_time": "2024-07-22T22:23:59.089Z"
   },
   {
    "duration": 0,
    "start_time": "2024-07-22T22:23:59.090Z"
   },
   {
    "duration": 0,
    "start_time": "2024-07-22T22:23:59.093Z"
   },
   {
    "duration": 0,
    "start_time": "2024-07-22T22:23:59.095Z"
   },
   {
    "duration": 5389,
    "start_time": "2024-07-22T22:24:35.781Z"
   },
   {
    "duration": 237,
    "start_time": "2024-07-22T22:24:42.482Z"
   },
   {
    "duration": 1379,
    "start_time": "2024-07-22T22:25:28.268Z"
   },
   {
    "duration": 1698,
    "start_time": "2024-07-22T22:25:57.946Z"
   },
   {
    "duration": 719,
    "start_time": "2024-07-22T22:25:59.647Z"
   },
   {
    "duration": 31,
    "start_time": "2024-07-22T22:26:00.369Z"
   },
   {
    "duration": 38,
    "start_time": "2024-07-22T22:26:00.405Z"
   },
   {
    "duration": 164,
    "start_time": "2024-07-22T22:26:00.447Z"
   },
   {
    "duration": 3,
    "start_time": "2024-07-22T22:26:00.614Z"
   },
   {
    "duration": 4,
    "start_time": "2024-07-22T22:26:00.630Z"
   },
   {
    "duration": 425,
    "start_time": "2024-07-22T22:26:00.637Z"
   },
   {
    "duration": 468,
    "start_time": "2024-07-22T22:26:01.065Z"
   },
   {
    "duration": 51,
    "start_time": "2024-07-22T22:26:01.538Z"
   },
   {
    "duration": 4,
    "start_time": "2024-07-22T22:26:01.592Z"
   },
   {
    "duration": 133,
    "start_time": "2024-07-22T22:26:01.599Z"
   },
   {
    "duration": 108,
    "start_time": "2024-07-22T22:26:01.735Z"
   },
   {
    "duration": 484,
    "start_time": "2024-07-22T22:26:01.846Z"
   },
   {
    "duration": 33,
    "start_time": "2024-07-22T22:26:02.339Z"
   },
   {
    "duration": 55,
    "start_time": "2024-07-22T22:26:02.375Z"
   },
   {
    "duration": 21,
    "start_time": "2024-07-22T22:26:02.434Z"
   },
   {
    "duration": 36,
    "start_time": "2024-07-22T22:26:02.458Z"
   },
   {
    "duration": 450,
    "start_time": "2024-07-22T22:26:02.499Z"
   },
   {
    "duration": 44,
    "start_time": "2024-07-22T22:26:02.952Z"
   },
   {
    "duration": 55,
    "start_time": "2024-07-22T22:26:02.998Z"
   },
   {
    "duration": 29,
    "start_time": "2024-07-22T22:26:03.058Z"
   },
   {
    "duration": 120,
    "start_time": "2024-07-22T22:26:03.090Z"
   },
   {
    "duration": 280,
    "start_time": "2024-07-22T22:26:03.213Z"
   },
   {
    "duration": 16,
    "start_time": "2024-07-22T22:26:03.496Z"
   },
   {
    "duration": 127,
    "start_time": "2024-07-22T22:26:03.515Z"
   },
   {
    "duration": 5416,
    "start_time": "2024-07-22T22:26:03.645Z"
   },
   {
    "duration": 1465,
    "start_time": "2024-07-22T22:26:09.068Z"
   },
   {
    "duration": 448,
    "start_time": "2024-07-22T22:26:10.536Z"
   },
   {
    "duration": 0,
    "start_time": "2024-07-22T22:26:10.987Z"
   },
   {
    "duration": 0,
    "start_time": "2024-07-22T22:26:10.989Z"
   },
   {
    "duration": 0,
    "start_time": "2024-07-22T22:26:10.991Z"
   },
   {
    "duration": 0,
    "start_time": "2024-07-22T22:26:10.992Z"
   },
   {
    "duration": 1628,
    "start_time": "2024-07-22T22:28:03.492Z"
   },
   {
    "duration": 744,
    "start_time": "2024-07-22T22:28:05.124Z"
   },
   {
    "duration": 32,
    "start_time": "2024-07-22T22:28:05.870Z"
   },
   {
    "duration": 40,
    "start_time": "2024-07-22T22:28:05.906Z"
   },
   {
    "duration": 154,
    "start_time": "2024-07-22T22:28:05.949Z"
   },
   {
    "duration": 3,
    "start_time": "2024-07-22T22:28:06.106Z"
   },
   {
    "duration": 4,
    "start_time": "2024-07-22T22:28:06.131Z"
   },
   {
    "duration": 413,
    "start_time": "2024-07-22T22:28:06.138Z"
   },
   {
    "duration": 455,
    "start_time": "2024-07-22T22:28:06.555Z"
   },
   {
    "duration": 56,
    "start_time": "2024-07-22T22:28:07.016Z"
   },
   {
    "duration": 3,
    "start_time": "2024-07-22T22:28:07.075Z"
   },
   {
    "duration": 122,
    "start_time": "2024-07-22T22:28:07.081Z"
   },
   {
    "duration": 99,
    "start_time": "2024-07-22T22:28:07.206Z"
   },
   {
    "duration": 495,
    "start_time": "2024-07-22T22:28:07.308Z"
   },
   {
    "duration": 37,
    "start_time": "2024-07-22T22:28:07.806Z"
   },
   {
    "duration": 33,
    "start_time": "2024-07-22T22:28:07.847Z"
   },
   {
    "duration": 49,
    "start_time": "2024-07-22T22:28:07.882Z"
   },
   {
    "duration": 35,
    "start_time": "2024-07-22T22:28:07.935Z"
   },
   {
    "duration": 422,
    "start_time": "2024-07-22T22:28:07.974Z"
   },
   {
    "duration": 57,
    "start_time": "2024-07-22T22:28:08.399Z"
   },
   {
    "duration": 35,
    "start_time": "2024-07-22T22:28:08.459Z"
   },
   {
    "duration": 52,
    "start_time": "2024-07-22T22:28:08.497Z"
   },
   {
    "duration": 102,
    "start_time": "2024-07-22T22:28:08.552Z"
   },
   {
    "duration": 265,
    "start_time": "2024-07-22T22:28:08.657Z"
   },
   {
    "duration": 15,
    "start_time": "2024-07-22T22:28:08.930Z"
   },
   {
    "duration": 115,
    "start_time": "2024-07-22T22:28:08.948Z"
   },
   {
    "duration": 5434,
    "start_time": "2024-07-22T22:28:09.067Z"
   },
   {
    "duration": 1454,
    "start_time": "2024-07-22T22:28:14.508Z"
   },
   {
    "duration": 115605,
    "start_time": "2024-07-22T22:28:15.965Z"
   },
   {
    "duration": 778,
    "start_time": "2024-07-22T22:30:11.573Z"
   },
   {
    "duration": 0,
    "start_time": "2024-07-22T22:30:12.354Z"
   },
   {
    "duration": 0,
    "start_time": "2024-07-22T22:30:12.357Z"
   },
   {
    "duration": 0,
    "start_time": "2024-07-22T22:30:12.359Z"
   },
   {
    "duration": 1681,
    "start_time": "2024-07-22T22:30:35.777Z"
   },
   {
    "duration": 726,
    "start_time": "2024-07-22T22:30:37.462Z"
   },
   {
    "duration": 42,
    "start_time": "2024-07-22T22:30:38.191Z"
   },
   {
    "duration": 22,
    "start_time": "2024-07-22T22:30:38.236Z"
   },
   {
    "duration": 167,
    "start_time": "2024-07-22T22:30:38.263Z"
   },
   {
    "duration": 4,
    "start_time": "2024-07-22T22:30:38.433Z"
   },
   {
    "duration": 6,
    "start_time": "2024-07-22T22:30:38.441Z"
   },
   {
    "duration": 429,
    "start_time": "2024-07-22T22:30:38.451Z"
   },
   {
    "duration": 470,
    "start_time": "2024-07-22T22:30:38.883Z"
   },
   {
    "duration": 53,
    "start_time": "2024-07-22T22:30:39.356Z"
   },
   {
    "duration": 3,
    "start_time": "2024-07-22T22:30:39.432Z"
   },
   {
    "duration": 116,
    "start_time": "2024-07-22T22:30:39.438Z"
   },
   {
    "duration": 100,
    "start_time": "2024-07-22T22:30:39.557Z"
   },
   {
    "duration": 492,
    "start_time": "2024-07-22T22:30:39.664Z"
   },
   {
    "duration": 38,
    "start_time": "2024-07-22T22:30:40.158Z"
   },
   {
    "duration": 54,
    "start_time": "2024-07-22T22:30:40.199Z"
   },
   {
    "duration": 17,
    "start_time": "2024-07-22T22:30:40.256Z"
   },
   {
    "duration": 64,
    "start_time": "2024-07-22T22:30:40.276Z"
   },
   {
    "duration": 426,
    "start_time": "2024-07-22T22:30:40.343Z"
   },
   {
    "duration": 58,
    "start_time": "2024-07-22T22:30:40.772Z"
   },
   {
    "duration": 36,
    "start_time": "2024-07-22T22:30:40.833Z"
   },
   {
    "duration": 30,
    "start_time": "2024-07-22T22:30:40.872Z"
   },
   {
    "duration": 101,
    "start_time": "2024-07-22T22:30:40.931Z"
   },
   {
    "duration": 267,
    "start_time": "2024-07-22T22:30:41.034Z"
   },
   {
    "duration": 426,
    "start_time": "2024-07-22T22:30:41.304Z"
   },
   {
    "duration": 0,
    "start_time": "2024-07-22T22:30:41.733Z"
   },
   {
    "duration": 0,
    "start_time": "2024-07-22T22:30:41.736Z"
   },
   {
    "duration": 0,
    "start_time": "2024-07-22T22:30:41.738Z"
   },
   {
    "duration": 0,
    "start_time": "2024-07-22T22:30:41.740Z"
   },
   {
    "duration": 0,
    "start_time": "2024-07-22T22:30:41.743Z"
   },
   {
    "duration": 0,
    "start_time": "2024-07-22T22:30:41.745Z"
   },
   {
    "duration": 0,
    "start_time": "2024-07-22T22:30:41.751Z"
   },
   {
    "duration": 0,
    "start_time": "2024-07-22T22:30:41.753Z"
   },
   {
    "duration": 75,
    "start_time": "2024-07-22T22:33:42.467Z"
   },
   {
    "duration": 413,
    "start_time": "2024-07-22T22:33:50.165Z"
   },
   {
    "duration": 102,
    "start_time": "2024-07-22T22:34:10.109Z"
   },
   {
    "duration": 984,
    "start_time": "2024-07-22T22:34:12.788Z"
   },
   {
    "duration": 18,
    "start_time": "2024-07-22T22:34:36.743Z"
   },
   {
    "duration": 52,
    "start_time": "2024-07-22T22:34:38.591Z"
   },
   {
    "duration": 5515,
    "start_time": "2024-07-22T22:34:40.188Z"
   },
   {
    "duration": 1449,
    "start_time": "2024-07-22T22:34:45.705Z"
   },
   {
    "duration": 6,
    "start_time": "2024-07-22T22:34:55.911Z"
   },
   {
    "duration": 28,
    "start_time": "2024-07-22T22:34:56.105Z"
   },
   {
    "duration": 242,
    "start_time": "2024-07-22T22:34:56.283Z"
   },
   {
    "duration": 53,
    "start_time": "2024-07-22T22:35:42.738Z"
   },
   {
    "duration": 6,
    "start_time": "2024-07-22T23:08:42.416Z"
   },
   {
    "duration": 1830,
    "start_time": "2024-07-22T23:09:09.113Z"
   },
   {
    "duration": 770,
    "start_time": "2024-07-22T23:09:10.947Z"
   },
   {
    "duration": 35,
    "start_time": "2024-07-22T23:09:11.720Z"
   },
   {
    "duration": 32,
    "start_time": "2024-07-22T23:09:11.761Z"
   },
   {
    "duration": 193,
    "start_time": "2024-07-22T23:09:11.796Z"
   },
   {
    "duration": 5,
    "start_time": "2024-07-22T23:09:11.992Z"
   },
   {
    "duration": 8,
    "start_time": "2024-07-22T23:09:12.001Z"
   },
   {
    "duration": 447,
    "start_time": "2024-07-22T23:09:12.011Z"
   },
   {
    "duration": 471,
    "start_time": "2024-07-22T23:09:12.461Z"
   },
   {
    "duration": 51,
    "start_time": "2024-07-22T23:09:12.938Z"
   },
   {
    "duration": 4,
    "start_time": "2024-07-22T23:09:12.994Z"
   },
   {
    "duration": 133,
    "start_time": "2024-07-22T23:09:13.003Z"
   },
   {
    "duration": 99,
    "start_time": "2024-07-22T23:09:13.139Z"
   },
   {
    "duration": 474,
    "start_time": "2024-07-22T23:09:13.241Z"
   },
   {
    "duration": 40,
    "start_time": "2024-07-22T23:09:13.718Z"
   },
   {
    "duration": 35,
    "start_time": "2024-07-22T23:09:13.761Z"
   },
   {
    "duration": 40,
    "start_time": "2024-07-22T23:09:13.799Z"
   },
   {
    "duration": 37,
    "start_time": "2024-07-22T23:09:13.842Z"
   },
   {
    "duration": 426,
    "start_time": "2024-07-22T23:09:13.881Z"
   },
   {
    "duration": 52,
    "start_time": "2024-07-22T23:09:14.310Z"
   },
   {
    "duration": 37,
    "start_time": "2024-07-22T23:09:14.365Z"
   },
   {
    "duration": 50,
    "start_time": "2024-07-22T23:09:14.404Z"
   },
   {
    "duration": 104,
    "start_time": "2024-07-22T23:09:14.458Z"
   },
   {
    "duration": 260,
    "start_time": "2024-07-22T23:09:14.566Z"
   },
   {
    "duration": 70,
    "start_time": "2024-07-22T23:09:14.832Z"
   },
   {
    "duration": 470,
    "start_time": "2024-07-22T23:09:14.905Z"
   },
   {
    "duration": 20,
    "start_time": "2024-07-22T23:09:15.378Z"
   },
   {
    "duration": 102,
    "start_time": "2024-07-22T23:09:15.404Z"
   },
   {
    "duration": 5647,
    "start_time": "2024-07-22T23:09:15.508Z"
   },
   {
    "duration": 1499,
    "start_time": "2024-07-22T23:09:21.158Z"
   },
   {
    "duration": 7,
    "start_time": "2024-07-22T23:09:22.661Z"
   },
   {
    "duration": 308,
    "start_time": "2024-07-22T23:47:24.339Z"
   },
   {
    "duration": 5347,
    "start_time": "2024-07-22T23:47:36.277Z"
   },
   {
    "duration": 800,
    "start_time": "2024-07-22T23:47:41.628Z"
   },
   {
    "duration": 42,
    "start_time": "2024-07-22T23:47:42.430Z"
   },
   {
    "duration": 23,
    "start_time": "2024-07-22T23:47:42.476Z"
   },
   {
    "duration": 183,
    "start_time": "2024-07-22T23:47:42.502Z"
   },
   {
    "duration": 4,
    "start_time": "2024-07-22T23:47:42.688Z"
   },
   {
    "duration": 4,
    "start_time": "2024-07-22T23:47:42.695Z"
   },
   {
    "duration": 427,
    "start_time": "2024-07-22T23:47:42.702Z"
   },
   {
    "duration": 459,
    "start_time": "2024-07-22T23:47:43.133Z"
   },
   {
    "duration": 52,
    "start_time": "2024-07-22T23:47:43.598Z"
   },
   {
    "duration": 17,
    "start_time": "2024-07-22T23:47:43.652Z"
   },
   {
    "duration": 120,
    "start_time": "2024-07-22T23:47:43.672Z"
   },
   {
    "duration": 99,
    "start_time": "2024-07-22T23:47:43.795Z"
   },
   {
    "duration": 558,
    "start_time": "2024-07-22T23:47:43.897Z"
   },
   {
    "duration": 36,
    "start_time": "2024-07-22T23:47:44.458Z"
   },
   {
    "duration": 35,
    "start_time": "2024-07-22T23:47:44.497Z"
   },
   {
    "duration": 41,
    "start_time": "2024-07-22T23:47:44.535Z"
   },
   {
    "duration": 36,
    "start_time": "2024-07-22T23:47:44.579Z"
   },
   {
    "duration": 423,
    "start_time": "2024-07-22T23:47:44.617Z"
   },
   {
    "duration": 60,
    "start_time": "2024-07-22T23:47:45.043Z"
   },
   {
    "duration": 35,
    "start_time": "2024-07-22T23:47:45.106Z"
   },
   {
    "duration": 46,
    "start_time": "2024-07-22T23:47:45.144Z"
   },
   {
    "duration": 118,
    "start_time": "2024-07-22T23:47:45.193Z"
   },
   {
    "duration": 265,
    "start_time": "2024-07-22T23:47:45.315Z"
   },
   {
    "duration": 86,
    "start_time": "2024-07-22T23:47:45.583Z"
   },
   {
    "duration": 468,
    "start_time": "2024-07-22T23:47:45.672Z"
   },
   {
    "duration": 32,
    "start_time": "2024-07-22T23:47:46.143Z"
   },
   {
    "duration": 110,
    "start_time": "2024-07-22T23:47:46.183Z"
   },
   {
    "duration": 5555,
    "start_time": "2024-07-22T23:47:46.296Z"
   },
   {
    "duration": 1460,
    "start_time": "2024-07-22T23:47:51.853Z"
   },
   {
    "duration": 538,
    "start_time": "2024-07-22T23:47:53.316Z"
   },
   {
    "duration": 1815,
    "start_time": "2024-07-22T23:48:17.747Z"
   },
   {
    "duration": 784,
    "start_time": "2024-07-22T23:48:19.566Z"
   },
   {
    "duration": 35,
    "start_time": "2024-07-22T23:48:20.353Z"
   },
   {
    "duration": 22,
    "start_time": "2024-07-22T23:48:20.392Z"
   },
   {
    "duration": 176,
    "start_time": "2024-07-22T23:48:20.417Z"
   },
   {
    "duration": 4,
    "start_time": "2024-07-22T23:48:20.596Z"
   },
   {
    "duration": 4,
    "start_time": "2024-07-22T23:48:20.604Z"
   },
   {
    "duration": 413,
    "start_time": "2024-07-22T23:48:20.611Z"
   },
   {
    "duration": 476,
    "start_time": "2024-07-22T23:48:21.027Z"
   },
   {
    "duration": 66,
    "start_time": "2024-07-22T23:48:21.510Z"
   },
   {
    "duration": 4,
    "start_time": "2024-07-22T23:48:21.579Z"
   },
   {
    "duration": 127,
    "start_time": "2024-07-22T23:48:21.586Z"
   },
   {
    "duration": 95,
    "start_time": "2024-07-22T23:48:21.716Z"
   },
   {
    "duration": 520,
    "start_time": "2024-07-22T23:48:21.814Z"
   },
   {
    "duration": 36,
    "start_time": "2024-07-22T23:48:22.336Z"
   },
   {
    "duration": 34,
    "start_time": "2024-07-22T23:48:22.375Z"
   },
   {
    "duration": 17,
    "start_time": "2024-07-22T23:48:22.411Z"
   },
   {
    "duration": 64,
    "start_time": "2024-07-22T23:48:22.431Z"
   },
   {
    "duration": 417,
    "start_time": "2024-07-22T23:48:22.498Z"
   },
   {
    "duration": 54,
    "start_time": "2024-07-22T23:48:22.917Z"
   },
   {
    "duration": 35,
    "start_time": "2024-07-22T23:48:22.974Z"
   },
   {
    "duration": 57,
    "start_time": "2024-07-22T23:48:23.012Z"
   },
   {
    "duration": 97,
    "start_time": "2024-07-22T23:48:23.072Z"
   },
   {
    "duration": 262,
    "start_time": "2024-07-22T23:48:23.173Z"
   },
   {
    "duration": 82,
    "start_time": "2024-07-22T23:48:23.438Z"
   },
   {
    "duration": 407,
    "start_time": "2024-07-22T23:48:23.523Z"
   },
   {
    "duration": 36,
    "start_time": "2024-07-22T23:48:23.934Z"
   },
   {
    "duration": 91,
    "start_time": "2024-07-22T23:48:23.976Z"
   },
   {
    "duration": 5688,
    "start_time": "2024-07-22T23:48:24.070Z"
   },
   {
    "duration": 1434,
    "start_time": "2024-07-22T23:48:29.761Z"
   },
   {
    "duration": 335,
    "start_time": "2024-07-23T00:45:31.661Z"
   },
   {
    "duration": 1827,
    "start_time": "2024-07-23T00:45:45.642Z"
   },
   {
    "duration": 878,
    "start_time": "2024-07-23T00:45:47.472Z"
   },
   {
    "duration": 42,
    "start_time": "2024-07-23T00:45:48.354Z"
   },
   {
    "duration": 23,
    "start_time": "2024-07-23T00:45:48.399Z"
   },
   {
    "duration": 178,
    "start_time": "2024-07-23T00:45:48.425Z"
   },
   {
    "duration": 4,
    "start_time": "2024-07-23T00:45:48.606Z"
   },
   {
    "duration": 4,
    "start_time": "2024-07-23T00:45:48.614Z"
   },
   {
    "duration": 452,
    "start_time": "2024-07-23T00:45:48.621Z"
   },
   {
    "duration": 477,
    "start_time": "2024-07-23T00:45:49.076Z"
   },
   {
    "duration": 57,
    "start_time": "2024-07-23T00:45:49.558Z"
   },
   {
    "duration": 3,
    "start_time": "2024-07-23T00:45:49.619Z"
   },
   {
    "duration": 130,
    "start_time": "2024-07-23T00:45:49.625Z"
   },
   {
    "duration": 112,
    "start_time": "2024-07-23T00:45:49.758Z"
   },
   {
    "duration": 471,
    "start_time": "2024-07-23T00:45:49.873Z"
   },
   {
    "duration": 39,
    "start_time": "2024-07-23T00:45:50.347Z"
   },
   {
    "duration": 36,
    "start_time": "2024-07-23T00:45:50.389Z"
   },
   {
    "duration": 46,
    "start_time": "2024-07-23T00:45:50.427Z"
   },
   {
    "duration": 37,
    "start_time": "2024-07-23T00:45:50.476Z"
   },
   {
    "duration": 422,
    "start_time": "2024-07-23T00:45:50.516Z"
   },
   {
    "duration": 53,
    "start_time": "2024-07-23T00:45:50.940Z"
   },
   {
    "duration": 35,
    "start_time": "2024-07-23T00:45:50.996Z"
   },
   {
    "duration": 50,
    "start_time": "2024-07-23T00:45:51.034Z"
   },
   {
    "duration": 110,
    "start_time": "2024-07-23T00:45:51.086Z"
   },
   {
    "duration": 263,
    "start_time": "2024-07-23T00:45:51.199Z"
   },
   {
    "duration": 70,
    "start_time": "2024-07-23T00:45:51.465Z"
   },
   {
    "duration": 480,
    "start_time": "2024-07-23T00:45:51.538Z"
   },
   {
    "duration": 20,
    "start_time": "2024-07-23T00:45:52.021Z"
   },
   {
    "duration": 80,
    "start_time": "2024-07-23T00:45:52.069Z"
   },
   {
    "duration": 5529,
    "start_time": "2024-07-23T00:45:52.151Z"
   },
   {
    "duration": 1505,
    "start_time": "2024-07-23T00:45:57.683Z"
   },
   {
    "duration": 35,
    "start_time": "2024-07-23T00:45:59.192Z"
   },
   {
    "duration": 315,
    "start_time": "2024-07-23T01:04:24.298Z"
   },
   {
    "duration": 1731,
    "start_time": "2024-07-23T01:04:52.845Z"
   },
   {
    "duration": 780,
    "start_time": "2024-07-23T01:04:54.580Z"
   },
   {
    "duration": 29,
    "start_time": "2024-07-23T01:04:55.362Z"
   },
   {
    "duration": 22,
    "start_time": "2024-07-23T01:04:55.395Z"
   },
   {
    "duration": 171,
    "start_time": "2024-07-23T01:04:55.420Z"
   },
   {
    "duration": 3,
    "start_time": "2024-07-23T01:04:55.594Z"
   },
   {
    "duration": 3,
    "start_time": "2024-07-23T01:04:55.601Z"
   },
   {
    "duration": 462,
    "start_time": "2024-07-23T01:04:55.608Z"
   },
   {
    "duration": 473,
    "start_time": "2024-07-23T01:04:56.073Z"
   },
   {
    "duration": 55,
    "start_time": "2024-07-23T01:04:56.552Z"
   },
   {
    "duration": 4,
    "start_time": "2024-07-23T01:04:56.610Z"
   },
   {
    "duration": 124,
    "start_time": "2024-07-23T01:04:56.617Z"
   },
   {
    "duration": 100,
    "start_time": "2024-07-23T01:04:56.744Z"
   },
   {
    "duration": 495,
    "start_time": "2024-07-23T01:04:56.849Z"
   },
   {
    "duration": 42,
    "start_time": "2024-07-23T01:04:57.348Z"
   },
   {
    "duration": 41,
    "start_time": "2024-07-23T01:04:57.393Z"
   },
   {
    "duration": 38,
    "start_time": "2024-07-23T01:04:57.437Z"
   },
   {
    "duration": 36,
    "start_time": "2024-07-23T01:04:57.477Z"
   },
   {
    "duration": 442,
    "start_time": "2024-07-23T01:04:57.517Z"
   },
   {
    "duration": 47,
    "start_time": "2024-07-23T01:04:57.962Z"
   },
   {
    "duration": 58,
    "start_time": "2024-07-23T01:04:58.012Z"
   },
   {
    "duration": 30,
    "start_time": "2024-07-23T01:04:58.077Z"
   },
   {
    "duration": 120,
    "start_time": "2024-07-23T01:04:58.111Z"
   },
   {
    "duration": 271,
    "start_time": "2024-07-23T01:04:58.235Z"
   },
   {
    "duration": 88,
    "start_time": "2024-07-23T01:04:58.509Z"
   },
   {
    "duration": 438,
    "start_time": "2024-07-23T01:04:58.601Z"
   },
   {
    "duration": 31,
    "start_time": "2024-07-23T01:04:59.042Z"
   },
   {
    "duration": 96,
    "start_time": "2024-07-23T01:04:59.081Z"
   },
   {
    "duration": 5620,
    "start_time": "2024-07-23T01:04:59.180Z"
   },
   {
    "duration": 1440,
    "start_time": "2024-07-23T01:05:04.802Z"
   },
   {
    "duration": 41,
    "start_time": "2024-07-23T01:05:06.244Z"
   },
   {
    "duration": 458,
    "start_time": "2024-07-23T01:05:06.287Z"
   },
   {
    "duration": 5496,
    "start_time": "2024-07-23T01:59:47.109Z"
   },
   {
    "duration": 786,
    "start_time": "2024-07-23T01:59:52.608Z"
   },
   {
    "duration": 33,
    "start_time": "2024-07-23T01:59:53.398Z"
   },
   {
    "duration": 24,
    "start_time": "2024-07-23T01:59:53.435Z"
   },
   {
    "duration": 172,
    "start_time": "2024-07-23T01:59:53.462Z"
   },
   {
    "duration": 3,
    "start_time": "2024-07-23T01:59:53.637Z"
   },
   {
    "duration": 4,
    "start_time": "2024-07-23T01:59:53.644Z"
   },
   {
    "duration": 423,
    "start_time": "2024-07-23T01:59:53.651Z"
   },
   {
    "duration": 451,
    "start_time": "2024-07-23T01:59:54.077Z"
   },
   {
    "duration": 54,
    "start_time": "2024-07-23T01:59:54.535Z"
   },
   {
    "duration": 4,
    "start_time": "2024-07-23T01:59:54.608Z"
   },
   {
    "duration": 124,
    "start_time": "2024-07-23T01:59:54.616Z"
   },
   {
    "duration": 98,
    "start_time": "2024-07-23T01:59:54.743Z"
   },
   {
    "duration": 470,
    "start_time": "2024-07-23T01:59:54.844Z"
   },
   {
    "duration": 34,
    "start_time": "2024-07-23T01:59:55.318Z"
   },
   {
    "duration": 62,
    "start_time": "2024-07-23T01:59:55.355Z"
   },
   {
    "duration": 17,
    "start_time": "2024-07-23T01:59:55.420Z"
   },
   {
    "duration": 37,
    "start_time": "2024-07-23T01:59:55.440Z"
   },
   {
    "duration": 428,
    "start_time": "2024-07-23T01:59:55.479Z"
   },
   {
    "duration": 43,
    "start_time": "2024-07-23T01:59:55.909Z"
   },
   {
    "duration": 59,
    "start_time": "2024-07-23T01:59:55.956Z"
   },
   {
    "duration": 28,
    "start_time": "2024-07-23T01:59:56.018Z"
   },
   {
    "duration": 117,
    "start_time": "2024-07-23T01:59:56.049Z"
   },
   {
    "duration": 262,
    "start_time": "2024-07-23T01:59:56.168Z"
   },
   {
    "duration": 86,
    "start_time": "2024-07-23T01:59:56.433Z"
   },
   {
    "duration": 441,
    "start_time": "2024-07-23T01:59:56.522Z"
   },
   {
    "duration": 22,
    "start_time": "2024-07-23T01:59:56.971Z"
   },
   {
    "duration": 101,
    "start_time": "2024-07-23T01:59:57.010Z"
   },
   {
    "duration": 5587,
    "start_time": "2024-07-23T01:59:57.114Z"
   },
   {
    "duration": 1443,
    "start_time": "2024-07-23T02:00:02.704Z"
   },
   {
    "duration": 35,
    "start_time": "2024-07-23T02:00:04.151Z"
   },
   {
    "duration": 430,
    "start_time": "2024-07-23T02:00:04.205Z"
   },
   {
    "duration": 5753,
    "start_time": "2024-07-23T19:09:16.849Z"
   },
   {
    "duration": 908,
    "start_time": "2024-07-23T19:09:22.606Z"
   },
   {
    "duration": 27,
    "start_time": "2024-07-23T19:09:23.517Z"
   },
   {
    "duration": 49,
    "start_time": "2024-07-23T19:09:23.549Z"
   },
   {
    "duration": 175,
    "start_time": "2024-07-23T19:09:23.602Z"
   },
   {
    "duration": 5,
    "start_time": "2024-07-23T19:09:23.792Z"
   },
   {
    "duration": 9,
    "start_time": "2024-07-23T19:09:23.799Z"
   },
   {
    "duration": 436,
    "start_time": "2024-07-23T19:09:23.811Z"
   },
   {
    "duration": 517,
    "start_time": "2024-07-23T19:09:24.249Z"
   },
   {
    "duration": 57,
    "start_time": "2024-07-23T19:09:24.778Z"
   },
   {
    "duration": 4,
    "start_time": "2024-07-23T19:09:24.838Z"
   },
   {
    "duration": 149,
    "start_time": "2024-07-23T19:09:24.845Z"
   },
   {
    "duration": 113,
    "start_time": "2024-07-23T19:09:24.998Z"
   },
   {
    "duration": 528,
    "start_time": "2024-07-23T19:09:25.115Z"
   },
   {
    "duration": 48,
    "start_time": "2024-07-23T19:09:25.647Z"
   },
   {
    "duration": 38,
    "start_time": "2024-07-23T19:09:25.698Z"
   },
   {
    "duration": 43,
    "start_time": "2024-07-23T19:09:25.739Z"
   },
   {
    "duration": 39,
    "start_time": "2024-07-23T19:09:25.785Z"
   },
   {
    "duration": 470,
    "start_time": "2024-07-23T19:09:25.828Z"
   },
   {
    "duration": 47,
    "start_time": "2024-07-23T19:09:26.301Z"
   },
   {
    "duration": 58,
    "start_time": "2024-07-23T19:09:26.352Z"
   },
   {
    "duration": 58,
    "start_time": "2024-07-23T19:09:26.413Z"
   },
   {
    "duration": 121,
    "start_time": "2024-07-23T19:09:26.474Z"
   },
   {
    "duration": 289,
    "start_time": "2024-07-23T19:09:26.598Z"
   },
   {
    "duration": 80,
    "start_time": "2024-07-23T19:09:26.894Z"
   },
   {
    "duration": 466,
    "start_time": "2024-07-23T19:09:26.980Z"
   },
   {
    "duration": 28,
    "start_time": "2024-07-23T19:09:27.449Z"
   },
   {
    "duration": 123,
    "start_time": "2024-07-23T19:09:27.491Z"
   },
   {
    "duration": 6058,
    "start_time": "2024-07-23T19:09:27.617Z"
   },
   {
    "duration": 1557,
    "start_time": "2024-07-23T19:09:33.681Z"
   },
   {
    "duration": 50,
    "start_time": "2024-07-23T19:09:35.240Z"
   },
   {
    "duration": 495,
    "start_time": "2024-07-23T19:09:35.308Z"
   },
   {
    "duration": 0,
    "start_time": "2024-07-23T19:09:35.805Z"
   },
   {
    "duration": 27,
    "start_time": "2024-07-23T19:09:44.632Z"
   },
   {
    "duration": 35,
    "start_time": "2024-07-23T19:09:59.677Z"
   },
   {
    "duration": 1847,
    "start_time": "2024-07-23T19:10:07.088Z"
   },
   {
    "duration": 805,
    "start_time": "2024-07-23T19:10:08.939Z"
   },
   {
    "duration": 52,
    "start_time": "2024-07-23T19:10:09.746Z"
   },
   {
    "duration": 21,
    "start_time": "2024-07-23T19:10:09.802Z"
   },
   {
    "duration": 170,
    "start_time": "2024-07-23T19:10:09.828Z"
   },
   {
    "duration": 4,
    "start_time": "2024-07-23T19:10:10.003Z"
   },
   {
    "duration": 3,
    "start_time": "2024-07-23T19:10:10.010Z"
   },
   {
    "duration": 477,
    "start_time": "2024-07-23T19:10:10.016Z"
   },
   {
    "duration": 519,
    "start_time": "2024-07-23T19:10:10.499Z"
   },
   {
    "duration": 63,
    "start_time": "2024-07-23T19:10:11.021Z"
   },
   {
    "duration": 6,
    "start_time": "2024-07-23T19:10:11.087Z"
   },
   {
    "duration": 125,
    "start_time": "2024-07-23T19:10:11.098Z"
   },
   {
    "duration": 108,
    "start_time": "2024-07-23T19:10:11.226Z"
   },
   {
    "duration": 552,
    "start_time": "2024-07-23T19:10:11.342Z"
   },
   {
    "duration": 35,
    "start_time": "2024-07-23T19:10:11.898Z"
   },
   {
    "duration": 56,
    "start_time": "2024-07-23T19:10:11.937Z"
   },
   {
    "duration": 18,
    "start_time": "2024-07-23T19:10:11.998Z"
   },
   {
    "duration": 57,
    "start_time": "2024-07-23T19:10:12.019Z"
   },
   {
    "duration": 462,
    "start_time": "2024-07-23T19:10:12.079Z"
   },
   {
    "duration": 58,
    "start_time": "2024-07-23T19:10:12.544Z"
   },
   {
    "duration": 35,
    "start_time": "2024-07-23T19:10:12.606Z"
   },
   {
    "duration": 56,
    "start_time": "2024-07-23T19:10:12.644Z"
   },
   {
    "duration": 123,
    "start_time": "2024-07-23T19:10:12.704Z"
   },
   {
    "duration": 297,
    "start_time": "2024-07-23T19:10:12.832Z"
   },
   {
    "duration": 99,
    "start_time": "2024-07-23T19:10:13.132Z"
   },
   {
    "duration": 425,
    "start_time": "2024-07-23T19:10:13.235Z"
   },
   {
    "duration": 26,
    "start_time": "2024-07-23T19:10:13.669Z"
   },
   {
    "duration": 123,
    "start_time": "2024-07-23T19:10:13.698Z"
   },
   {
    "duration": 5918,
    "start_time": "2024-07-23T19:10:13.824Z"
   },
   {
    "duration": 1547,
    "start_time": "2024-07-23T19:10:19.745Z"
   },
   {
    "duration": 37,
    "start_time": "2024-07-23T19:10:21.295Z"
   },
   {
    "duration": 340,
    "start_time": "2024-07-23T19:10:44.617Z"
   },
   {
    "duration": 1861,
    "start_time": "2024-07-23T19:13:07.356Z"
   },
   {
    "duration": 870,
    "start_time": "2024-07-23T19:13:09.221Z"
   },
   {
    "duration": 28,
    "start_time": "2024-07-23T19:13:10.094Z"
   },
   {
    "duration": 24,
    "start_time": "2024-07-23T19:13:10.126Z"
   },
   {
    "duration": 190,
    "start_time": "2024-07-23T19:13:10.153Z"
   },
   {
    "duration": 4,
    "start_time": "2024-07-23T19:13:10.346Z"
   },
   {
    "duration": 10,
    "start_time": "2024-07-23T19:13:10.369Z"
   },
   {
    "duration": 443,
    "start_time": "2024-07-23T19:13:10.384Z"
   },
   {
    "duration": 506,
    "start_time": "2024-07-23T19:13:10.830Z"
   },
   {
    "duration": 59,
    "start_time": "2024-07-23T19:13:11.342Z"
   },
   {
    "duration": 5,
    "start_time": "2024-07-23T19:13:11.405Z"
   },
   {
    "duration": 134,
    "start_time": "2024-07-23T19:13:11.419Z"
   },
   {
    "duration": 125,
    "start_time": "2024-07-23T19:13:11.557Z"
   },
   {
    "duration": 509,
    "start_time": "2024-07-23T19:13:11.686Z"
   },
   {
    "duration": 36,
    "start_time": "2024-07-23T19:13:12.197Z"
   },
   {
    "duration": 61,
    "start_time": "2024-07-23T19:13:12.236Z"
   },
   {
    "duration": 20,
    "start_time": "2024-07-23T19:13:12.300Z"
   },
   {
    "duration": 63,
    "start_time": "2024-07-23T19:13:12.324Z"
   },
   {
    "duration": 446,
    "start_time": "2024-07-23T19:13:12.390Z"
   },
   {
    "duration": 64,
    "start_time": "2024-07-23T19:13:12.839Z"
   },
   {
    "duration": 35,
    "start_time": "2024-07-23T19:13:12.906Z"
   },
   {
    "duration": 46,
    "start_time": "2024-07-23T19:13:12.944Z"
   },
   {
    "duration": 121,
    "start_time": "2024-07-23T19:13:12.993Z"
   },
   {
    "duration": 298,
    "start_time": "2024-07-23T19:13:13.117Z"
   },
   {
    "duration": 96,
    "start_time": "2024-07-23T19:13:13.418Z"
   },
   {
    "duration": 429,
    "start_time": "2024-07-23T19:13:13.517Z"
   },
   {
    "duration": 33,
    "start_time": "2024-07-23T19:13:13.949Z"
   },
   {
    "duration": 97,
    "start_time": "2024-07-23T19:13:13.995Z"
   },
   {
    "duration": 6011,
    "start_time": "2024-07-23T19:13:14.096Z"
   },
   {
    "duration": 1509,
    "start_time": "2024-07-23T19:13:20.110Z"
   },
   {
    "duration": 53,
    "start_time": "2024-07-23T19:13:21.622Z"
   },
   {
    "duration": 467,
    "start_time": "2024-07-23T19:13:21.682Z"
   },
   {
    "duration": 20,
    "start_time": "2024-07-23T19:13:26.936Z"
   },
   {
    "duration": 102,
    "start_time": "2024-07-23T19:14:46.661Z"
   },
   {
    "duration": 1590,
    "start_time": "2024-07-23T19:16:35.857Z"
   },
   {
    "duration": 1781,
    "start_time": "2024-07-23T19:17:01.927Z"
   },
   {
    "duration": 845,
    "start_time": "2024-07-23T19:17:03.713Z"
   },
   {
    "duration": 40,
    "start_time": "2024-07-23T19:17:04.561Z"
   },
   {
    "duration": 23,
    "start_time": "2024-07-23T19:17:04.604Z"
   },
   {
    "duration": 195,
    "start_time": "2024-07-23T19:17:04.631Z"
   },
   {
    "duration": 4,
    "start_time": "2024-07-23T19:17:04.829Z"
   },
   {
    "duration": 32,
    "start_time": "2024-07-23T19:17:04.836Z"
   },
   {
    "duration": 462,
    "start_time": "2024-07-23T19:17:04.885Z"
   },
   {
    "duration": 528,
    "start_time": "2024-07-23T19:17:05.350Z"
   },
   {
    "duration": 54,
    "start_time": "2024-07-23T19:17:05.882Z"
   },
   {
    "duration": 4,
    "start_time": "2024-07-23T19:17:05.939Z"
   },
   {
    "duration": 146,
    "start_time": "2024-07-23T19:17:05.947Z"
   },
   {
    "duration": 115,
    "start_time": "2024-07-23T19:17:06.096Z"
   },
   {
    "duration": 519,
    "start_time": "2024-07-23T19:17:06.219Z"
   },
   {
    "duration": 57,
    "start_time": "2024-07-23T19:17:06.741Z"
   },
   {
    "duration": 35,
    "start_time": "2024-07-23T19:17:06.800Z"
   },
   {
    "duration": 43,
    "start_time": "2024-07-23T19:17:06.838Z"
   },
   {
    "duration": 49,
    "start_time": "2024-07-23T19:17:06.884Z"
   },
   {
    "duration": 451,
    "start_time": "2024-07-23T19:17:06.936Z"
   },
   {
    "duration": 53,
    "start_time": "2024-07-23T19:17:07.390Z"
   },
   {
    "duration": 65,
    "start_time": "2024-07-23T19:17:07.447Z"
   },
   {
    "duration": 28,
    "start_time": "2024-07-23T19:17:07.516Z"
   },
   {
    "duration": 152,
    "start_time": "2024-07-23T19:17:07.547Z"
   },
   {
    "duration": 303,
    "start_time": "2024-07-23T19:17:07.702Z"
   },
   {
    "duration": 21,
    "start_time": "2024-07-23T19:17:08.010Z"
   },
   {
    "duration": 498,
    "start_time": "2024-07-23T19:17:08.035Z"
   },
   {
    "duration": 32,
    "start_time": "2024-07-23T19:17:08.535Z"
   },
   {
    "duration": 128,
    "start_time": "2024-07-23T19:17:08.570Z"
   },
   {
    "duration": 5909,
    "start_time": "2024-07-23T19:17:08.701Z"
   },
   {
    "duration": 2009,
    "start_time": "2024-07-23T19:17:14.613Z"
   },
   {
    "duration": 0,
    "start_time": "2024-07-23T19:17:16.626Z"
   },
   {
    "duration": 0,
    "start_time": "2024-07-23T19:17:16.628Z"
   },
   {
    "duration": 82,
    "start_time": "2024-07-23T19:20:00.576Z"
   },
   {
    "duration": 1805,
    "start_time": "2024-07-23T19:20:42.502Z"
   },
   {
    "duration": 842,
    "start_time": "2024-07-23T19:20:44.311Z"
   },
   {
    "duration": 43,
    "start_time": "2024-07-23T19:20:45.156Z"
   },
   {
    "duration": 25,
    "start_time": "2024-07-23T19:20:45.202Z"
   },
   {
    "duration": 201,
    "start_time": "2024-07-23T19:20:45.233Z"
   },
   {
    "duration": 4,
    "start_time": "2024-07-23T19:20:45.437Z"
   },
   {
    "duration": 25,
    "start_time": "2024-07-23T19:20:45.445Z"
   },
   {
    "duration": 463,
    "start_time": "2024-07-23T19:20:45.474Z"
   },
   {
    "duration": 534,
    "start_time": "2024-07-23T19:20:45.941Z"
   },
   {
    "duration": 57,
    "start_time": "2024-07-23T19:20:46.478Z"
   },
   {
    "duration": 3,
    "start_time": "2024-07-23T19:20:46.540Z"
   },
   {
    "duration": 116,
    "start_time": "2024-07-23T19:20:46.571Z"
   },
   {
    "duration": 122,
    "start_time": "2024-07-23T19:20:46.690Z"
   },
   {
    "duration": 521,
    "start_time": "2024-07-23T19:20:46.820Z"
   },
   {
    "duration": 63,
    "start_time": "2024-07-23T19:20:47.344Z"
   },
   {
    "duration": 43,
    "start_time": "2024-07-23T19:20:47.416Z"
   },
   {
    "duration": 42,
    "start_time": "2024-07-23T19:20:47.462Z"
   },
   {
    "duration": 38,
    "start_time": "2024-07-23T19:20:47.507Z"
   },
   {
    "duration": 480,
    "start_time": "2024-07-23T19:20:47.549Z"
   },
   {
    "duration": 62,
    "start_time": "2024-07-23T19:20:48.032Z"
   },
   {
    "duration": 35,
    "start_time": "2024-07-23T19:20:48.108Z"
   },
   {
    "duration": 50,
    "start_time": "2024-07-23T19:20:48.146Z"
   },
   {
    "duration": 124,
    "start_time": "2024-07-23T19:20:48.199Z"
   },
   {
    "duration": 302,
    "start_time": "2024-07-23T19:20:48.327Z"
   },
   {
    "duration": 20,
    "start_time": "2024-07-23T19:20:48.632Z"
   },
   {
    "duration": 478,
    "start_time": "2024-07-23T19:20:48.670Z"
   },
   {
    "duration": 44,
    "start_time": "2024-07-23T19:20:49.152Z"
   },
   {
    "duration": 118,
    "start_time": "2024-07-23T19:20:49.203Z"
   },
   {
    "duration": 6180,
    "start_time": "2024-07-23T19:20:49.324Z"
   },
   {
    "duration": 1567,
    "start_time": "2024-07-23T19:20:55.507Z"
   },
   {
    "duration": 46,
    "start_time": "2024-07-23T19:20:57.077Z"
   },
   {
    "duration": 495,
    "start_time": "2024-07-23T19:20:57.126Z"
   },
   {
    "duration": 1855,
    "start_time": "2024-07-23T19:21:38.761Z"
   },
   {
    "duration": 884,
    "start_time": "2024-07-23T19:21:40.620Z"
   },
   {
    "duration": 29,
    "start_time": "2024-07-23T19:21:41.508Z"
   },
   {
    "duration": 39,
    "start_time": "2024-07-23T19:21:41.541Z"
   },
   {
    "duration": 166,
    "start_time": "2024-07-23T19:21:41.584Z"
   },
   {
    "duration": 3,
    "start_time": "2024-07-23T19:21:41.754Z"
   },
   {
    "duration": 8,
    "start_time": "2024-07-23T19:21:41.770Z"
   },
   {
    "duration": 473,
    "start_time": "2024-07-23T19:21:41.783Z"
   },
   {
    "duration": 490,
    "start_time": "2024-07-23T19:21:42.259Z"
   },
   {
    "duration": 66,
    "start_time": "2024-07-23T19:21:42.755Z"
   },
   {
    "duration": 3,
    "start_time": "2024-07-23T19:21:42.824Z"
   },
   {
    "duration": 124,
    "start_time": "2024-07-23T19:21:42.831Z"
   },
   {
    "duration": 126,
    "start_time": "2024-07-23T19:21:42.959Z"
   },
   {
    "duration": 515,
    "start_time": "2024-07-23T19:21:43.093Z"
   },
   {
    "duration": 31,
    "start_time": "2024-07-23T19:21:43.612Z"
   },
   {
    "duration": 58,
    "start_time": "2024-07-23T19:21:43.647Z"
   },
   {
    "duration": 17,
    "start_time": "2024-07-23T19:21:43.712Z"
   },
   {
    "duration": 74,
    "start_time": "2024-07-23T19:21:43.732Z"
   },
   {
    "duration": 445,
    "start_time": "2024-07-23T19:21:43.808Z"
   },
   {
    "duration": 57,
    "start_time": "2024-07-23T19:21:44.255Z"
   },
   {
    "duration": 35,
    "start_time": "2024-07-23T19:21:44.316Z"
   },
   {
    "duration": 43,
    "start_time": "2024-07-23T19:21:44.371Z"
   },
   {
    "duration": 125,
    "start_time": "2024-07-23T19:21:44.418Z"
   },
   {
    "duration": 287,
    "start_time": "2024-07-23T19:21:44.546Z"
   },
   {
    "duration": 32,
    "start_time": "2024-07-23T19:21:44.836Z"
   },
   {
    "duration": 468,
    "start_time": "2024-07-23T19:21:44.872Z"
   },
   {
    "duration": 52,
    "start_time": "2024-07-23T19:21:45.343Z"
   },
   {
    "duration": 125,
    "start_time": "2024-07-23T19:21:45.409Z"
   },
   {
    "duration": 5877,
    "start_time": "2024-07-23T19:21:45.536Z"
   },
   {
    "duration": 1589,
    "start_time": "2024-07-23T19:21:51.416Z"
   },
   {
    "duration": 35,
    "start_time": "2024-07-23T19:21:53.008Z"
   },
   {
    "duration": 479,
    "start_time": "2024-07-23T19:21:53.046Z"
   },
   {
    "duration": 1540,
    "start_time": "2024-07-23T19:22:22.674Z"
   },
   {
    "duration": 1848,
    "start_time": "2024-07-23T19:22:34.689Z"
   },
   {
    "duration": 815,
    "start_time": "2024-07-23T19:22:36.540Z"
   },
   {
    "duration": 48,
    "start_time": "2024-07-23T19:22:37.358Z"
   },
   {
    "duration": 28,
    "start_time": "2024-07-23T19:22:37.414Z"
   },
   {
    "duration": 189,
    "start_time": "2024-07-23T19:22:37.445Z"
   },
   {
    "duration": 4,
    "start_time": "2024-07-23T19:22:37.637Z"
   },
   {
    "duration": 39,
    "start_time": "2024-07-23T19:22:37.644Z"
   },
   {
    "duration": 490,
    "start_time": "2024-07-23T19:22:37.685Z"
   },
   {
    "duration": 503,
    "start_time": "2024-07-23T19:22:38.178Z"
   },
   {
    "duration": 56,
    "start_time": "2024-07-23T19:22:38.689Z"
   },
   {
    "duration": 35,
    "start_time": "2024-07-23T19:22:38.748Z"
   },
   {
    "duration": 114,
    "start_time": "2024-07-23T19:22:38.786Z"
   },
   {
    "duration": 111,
    "start_time": "2024-07-23T19:22:38.909Z"
   },
   {
    "duration": 536,
    "start_time": "2024-07-23T19:22:39.023Z"
   },
   {
    "duration": 42,
    "start_time": "2024-07-23T19:22:39.567Z"
   },
   {
    "duration": 34,
    "start_time": "2024-07-23T19:22:39.612Z"
   },
   {
    "duration": 46,
    "start_time": "2024-07-23T19:22:39.649Z"
   },
   {
    "duration": 38,
    "start_time": "2024-07-23T19:22:39.697Z"
   },
   {
    "duration": 465,
    "start_time": "2024-07-23T19:22:39.738Z"
   },
   {
    "duration": 44,
    "start_time": "2024-07-23T19:22:40.206Z"
   },
   {
    "duration": 48,
    "start_time": "2024-07-23T19:22:40.270Z"
   },
   {
    "duration": 28,
    "start_time": "2024-07-23T19:22:40.322Z"
   },
   {
    "duration": 133,
    "start_time": "2024-07-23T19:22:40.353Z"
   },
   {
    "duration": 287,
    "start_time": "2024-07-23T19:22:40.489Z"
   },
   {
    "duration": 29,
    "start_time": "2024-07-23T19:22:40.780Z"
   },
   {
    "duration": 428,
    "start_time": "2024-07-23T19:22:40.812Z"
   },
   {
    "duration": 35,
    "start_time": "2024-07-23T19:22:41.243Z"
   },
   {
    "duration": 117,
    "start_time": "2024-07-23T19:22:41.286Z"
   },
   {
    "duration": 5842,
    "start_time": "2024-07-23T19:22:41.406Z"
   },
   {
    "duration": 1677,
    "start_time": "2024-07-23T19:22:47.251Z"
   },
   {
    "duration": 47,
    "start_time": "2024-07-23T19:22:48.931Z"
   },
   {
    "duration": 488,
    "start_time": "2024-07-23T19:22:48.982Z"
   },
   {
    "duration": 361,
    "start_time": "2024-07-23T19:24:59.436Z"
   },
   {
    "duration": 1828,
    "start_time": "2024-07-23T19:25:05.836Z"
   },
   {
    "duration": 927,
    "start_time": "2024-07-23T19:25:07.668Z"
   },
   {
    "duration": 32,
    "start_time": "2024-07-23T19:25:08.598Z"
   },
   {
    "duration": 33,
    "start_time": "2024-07-23T19:25:08.634Z"
   },
   {
    "duration": 173,
    "start_time": "2024-07-23T19:25:08.679Z"
   },
   {
    "duration": 19,
    "start_time": "2024-07-23T19:25:08.855Z"
   },
   {
    "duration": 8,
    "start_time": "2024-07-23T19:25:08.877Z"
   },
   {
    "duration": 452,
    "start_time": "2024-07-23T19:25:08.890Z"
   },
   {
    "duration": 509,
    "start_time": "2024-07-23T19:25:09.345Z"
   },
   {
    "duration": 62,
    "start_time": "2024-07-23T19:25:09.857Z"
   },
   {
    "duration": 3,
    "start_time": "2024-07-23T19:25:09.922Z"
   },
   {
    "duration": 129,
    "start_time": "2024-07-23T19:25:09.928Z"
   },
   {
    "duration": 124,
    "start_time": "2024-07-23T19:25:10.060Z"
   },
   {
    "duration": 512,
    "start_time": "2024-07-23T19:25:10.192Z"
   },
   {
    "duration": 31,
    "start_time": "2024-07-23T19:25:10.707Z"
   },
   {
    "duration": 52,
    "start_time": "2024-07-23T19:25:10.741Z"
   },
   {
    "duration": 22,
    "start_time": "2024-07-23T19:25:10.797Z"
   },
   {
    "duration": 67,
    "start_time": "2024-07-23T19:25:10.823Z"
   },
   {
    "duration": 426,
    "start_time": "2024-07-23T19:25:10.898Z"
   },
   {
    "duration": 59,
    "start_time": "2024-07-23T19:25:11.326Z"
   },
   {
    "duration": 39,
    "start_time": "2024-07-23T19:25:11.388Z"
   },
   {
    "duration": 62,
    "start_time": "2024-07-23T19:25:11.429Z"
   },
   {
    "duration": 108,
    "start_time": "2024-07-23T19:25:11.493Z"
   },
   {
    "duration": 286,
    "start_time": "2024-07-23T19:25:11.604Z"
   },
   {
    "duration": 25,
    "start_time": "2024-07-23T19:25:11.904Z"
   },
   {
    "duration": 458,
    "start_time": "2024-07-23T19:25:11.932Z"
   },
   {
    "duration": 22,
    "start_time": "2024-07-23T19:25:12.394Z"
   },
   {
    "duration": 122,
    "start_time": "2024-07-23T19:25:12.419Z"
   },
   {
    "duration": 6065,
    "start_time": "2024-07-23T19:25:12.544Z"
   },
   {
    "duration": 1578,
    "start_time": "2024-07-23T19:25:18.612Z"
   },
   {
    "duration": 35,
    "start_time": "2024-07-23T19:25:20.194Z"
   },
   {
    "duration": 358,
    "start_time": "2024-07-23T19:26:05.754Z"
   },
   {
    "duration": 1837,
    "start_time": "2024-07-23T19:26:11.454Z"
   },
   {
    "duration": 865,
    "start_time": "2024-07-23T19:26:13.295Z"
   },
   {
    "duration": 38,
    "start_time": "2024-07-23T19:26:14.162Z"
   },
   {
    "duration": 25,
    "start_time": "2024-07-23T19:26:14.203Z"
   },
   {
    "duration": 192,
    "start_time": "2024-07-23T19:26:14.233Z"
   },
   {
    "duration": 3,
    "start_time": "2024-07-23T19:26:14.428Z"
   },
   {
    "duration": 4,
    "start_time": "2024-07-23T19:26:14.434Z"
   },
   {
    "duration": 448,
    "start_time": "2024-07-23T19:26:14.469Z"
   },
   {
    "duration": 527,
    "start_time": "2024-07-23T19:26:14.919Z"
   },
   {
    "duration": 63,
    "start_time": "2024-07-23T19:26:15.449Z"
   },
   {
    "duration": 4,
    "start_time": "2024-07-23T19:26:15.515Z"
   },
   {
    "duration": 125,
    "start_time": "2024-07-23T19:26:15.522Z"
   },
   {
    "duration": 124,
    "start_time": "2024-07-23T19:26:15.650Z"
   },
   {
    "duration": 525,
    "start_time": "2024-07-23T19:26:15.781Z"
   },
   {
    "duration": 32,
    "start_time": "2024-07-23T19:26:16.309Z"
   },
   {
    "duration": 57,
    "start_time": "2024-07-23T19:26:16.344Z"
   },
   {
    "duration": 21,
    "start_time": "2024-07-23T19:26:16.405Z"
   },
   {
    "duration": 73,
    "start_time": "2024-07-23T19:26:16.429Z"
   },
   {
    "duration": 451,
    "start_time": "2024-07-23T19:26:16.506Z"
   },
   {
    "duration": 55,
    "start_time": "2024-07-23T19:26:16.961Z"
   },
   {
    "duration": 37,
    "start_time": "2024-07-23T19:26:17.018Z"
   },
   {
    "duration": 37,
    "start_time": "2024-07-23T19:26:17.069Z"
   },
   {
    "duration": 130,
    "start_time": "2024-07-23T19:26:17.109Z"
   },
   {
    "duration": 311,
    "start_time": "2024-07-23T19:26:17.242Z"
   },
   {
    "duration": 35,
    "start_time": "2024-07-23T19:26:17.556Z"
   },
   {
    "duration": 468,
    "start_time": "2024-07-23T19:26:17.594Z"
   },
   {
    "duration": 33,
    "start_time": "2024-07-23T19:26:18.070Z"
   },
   {
    "duration": 132,
    "start_time": "2024-07-23T19:26:18.113Z"
   },
   {
    "duration": 6229,
    "start_time": "2024-07-23T19:26:18.249Z"
   },
   {
    "duration": 1556,
    "start_time": "2024-07-23T19:26:24.484Z"
   },
   {
    "duration": 44,
    "start_time": "2024-07-23T19:26:26.043Z"
   },
   {
    "duration": 356,
    "start_time": "2024-07-23T19:27:41.264Z"
   },
   {
    "duration": 1878,
    "start_time": "2024-07-23T19:27:47.245Z"
   },
   {
    "duration": 869,
    "start_time": "2024-07-23T19:27:49.129Z"
   },
   {
    "duration": 30,
    "start_time": "2024-07-23T19:27:50.002Z"
   },
   {
    "duration": 43,
    "start_time": "2024-07-23T19:27:50.036Z"
   },
   {
    "duration": 166,
    "start_time": "2024-07-23T19:27:50.082Z"
   },
   {
    "duration": 3,
    "start_time": "2024-07-23T19:27:50.251Z"
   },
   {
    "duration": 7,
    "start_time": "2024-07-23T19:27:50.274Z"
   },
   {
    "duration": 442,
    "start_time": "2024-07-23T19:27:50.287Z"
   },
   {
    "duration": 493,
    "start_time": "2024-07-23T19:27:50.732Z"
   },
   {
    "duration": 68,
    "start_time": "2024-07-23T19:27:51.230Z"
   },
   {
    "duration": 4,
    "start_time": "2024-07-23T19:27:51.301Z"
   },
   {
    "duration": 119,
    "start_time": "2024-07-23T19:27:51.308Z"
   },
   {
    "duration": 115,
    "start_time": "2024-07-23T19:27:51.430Z"
   },
   {
    "duration": 515,
    "start_time": "2024-07-23T19:27:51.548Z"
   },
   {
    "duration": 38,
    "start_time": "2024-07-23T19:27:52.067Z"
   },
   {
    "duration": 36,
    "start_time": "2024-07-23T19:27:52.109Z"
   },
   {
    "duration": 43,
    "start_time": "2024-07-23T19:27:52.147Z"
   },
   {
    "duration": 49,
    "start_time": "2024-07-23T19:27:52.194Z"
   },
   {
    "duration": 439,
    "start_time": "2024-07-23T19:27:52.246Z"
   },
   {
    "duration": 46,
    "start_time": "2024-07-23T19:27:52.688Z"
   },
   {
    "duration": 70,
    "start_time": "2024-07-23T19:27:52.738Z"
   },
   {
    "duration": 27,
    "start_time": "2024-07-23T19:27:52.812Z"
   },
   {
    "duration": 140,
    "start_time": "2024-07-23T19:27:52.842Z"
   },
   {
    "duration": 303,
    "start_time": "2024-07-23T19:27:52.985Z"
   },
   {
    "duration": 22,
    "start_time": "2024-07-23T19:27:53.291Z"
   },
   {
    "duration": 423,
    "start_time": "2024-07-23T19:27:53.317Z"
   },
   {
    "duration": 33,
    "start_time": "2024-07-23T19:27:53.743Z"
   },
   {
    "duration": 121,
    "start_time": "2024-07-23T19:27:53.784Z"
   },
   {
    "duration": 5977,
    "start_time": "2024-07-23T19:27:53.909Z"
   },
   {
    "duration": 1511,
    "start_time": "2024-07-23T19:27:59.889Z"
   },
   {
    "duration": 37,
    "start_time": "2024-07-23T19:28:01.402Z"
   },
   {
    "duration": 53,
    "start_time": "2024-07-23T19:28:01.441Z"
   },
   {
    "duration": 352,
    "start_time": "2024-07-23T19:30:09.564Z"
   },
   {
    "duration": 1847,
    "start_time": "2024-07-23T19:30:23.647Z"
   },
   {
    "duration": 896,
    "start_time": "2024-07-23T19:30:25.503Z"
   },
   {
    "duration": 29,
    "start_time": "2024-07-23T19:30:26.402Z"
   },
   {
    "duration": 41,
    "start_time": "2024-07-23T19:30:26.433Z"
   },
   {
    "duration": 177,
    "start_time": "2024-07-23T19:30:26.479Z"
   },
   {
    "duration": 4,
    "start_time": "2024-07-23T19:30:26.675Z"
   },
   {
    "duration": 18,
    "start_time": "2024-07-23T19:30:26.682Z"
   },
   {
    "duration": 447,
    "start_time": "2024-07-23T19:30:26.703Z"
   },
   {
    "duration": 536,
    "start_time": "2024-07-23T19:30:27.154Z"
   },
   {
    "duration": 53,
    "start_time": "2024-07-23T19:30:27.696Z"
   },
   {
    "duration": 3,
    "start_time": "2024-07-23T19:30:27.752Z"
   },
   {
    "duration": 135,
    "start_time": "2024-07-23T19:30:27.770Z"
   },
   {
    "duration": 115,
    "start_time": "2024-07-23T19:30:27.909Z"
   },
   {
    "duration": 568,
    "start_time": "2024-07-23T19:30:28.030Z"
   },
   {
    "duration": 33,
    "start_time": "2024-07-23T19:30:28.602Z"
   },
   {
    "duration": 48,
    "start_time": "2024-07-23T19:30:28.638Z"
   },
   {
    "duration": 28,
    "start_time": "2024-07-23T19:30:28.689Z"
   },
   {
    "duration": 59,
    "start_time": "2024-07-23T19:30:28.724Z"
   },
   {
    "duration": 450,
    "start_time": "2024-07-23T19:30:28.786Z"
   },
   {
    "duration": 58,
    "start_time": "2024-07-23T19:30:29.239Z"
   },
   {
    "duration": 38,
    "start_time": "2024-07-23T19:30:29.300Z"
   },
   {
    "duration": 55,
    "start_time": "2024-07-23T19:30:29.341Z"
   },
   {
    "duration": 121,
    "start_time": "2024-07-23T19:30:29.400Z"
   },
   {
    "duration": 303,
    "start_time": "2024-07-23T19:30:29.525Z"
   },
   {
    "duration": 19,
    "start_time": "2024-07-23T19:30:29.831Z"
   },
   {
    "duration": 483,
    "start_time": "2024-07-23T19:30:29.853Z"
   },
   {
    "duration": 18,
    "start_time": "2024-07-23T19:30:30.339Z"
   },
   {
    "duration": 139,
    "start_time": "2024-07-23T19:30:30.360Z"
   },
   {
    "duration": 5824,
    "start_time": "2024-07-23T19:30:30.503Z"
   },
   {
    "duration": 1584,
    "start_time": "2024-07-23T19:30:36.330Z"
   },
   {
    "duration": 54,
    "start_time": "2024-07-23T19:30:37.917Z"
   },
   {
    "duration": 27,
    "start_time": "2024-07-23T19:30:37.990Z"
   },
   {
    "duration": 466,
    "start_time": "2024-07-23T19:30:38.021Z"
   },
   {
    "duration": 1541,
    "start_time": "2024-07-23T19:31:00.078Z"
   },
   {
    "duration": 103,
    "start_time": "2024-07-23T19:32:17.849Z"
   },
   {
    "duration": 1866,
    "start_time": "2024-07-23T19:32:36.664Z"
   },
   {
    "duration": 811,
    "start_time": "2024-07-23T19:32:38.533Z"
   },
   {
    "duration": 50,
    "start_time": "2024-07-23T19:32:39.347Z"
   },
   {
    "duration": 23,
    "start_time": "2024-07-23T19:32:39.400Z"
   },
   {
    "duration": 202,
    "start_time": "2024-07-23T19:32:39.428Z"
   },
   {
    "duration": 3,
    "start_time": "2024-07-23T19:32:39.633Z"
   },
   {
    "duration": 4,
    "start_time": "2024-07-23T19:32:39.639Z"
   },
   {
    "duration": 453,
    "start_time": "2024-07-23T19:32:39.673Z"
   },
   {
    "duration": 532,
    "start_time": "2024-07-23T19:32:40.130Z"
   },
   {
    "duration": 64,
    "start_time": "2024-07-23T19:32:40.668Z"
   },
   {
    "duration": 4,
    "start_time": "2024-07-23T19:32:40.735Z"
   },
   {
    "duration": 127,
    "start_time": "2024-07-23T19:32:40.742Z"
   },
   {
    "duration": 120,
    "start_time": "2024-07-23T19:32:40.877Z"
   },
   {
    "duration": 501,
    "start_time": "2024-07-23T19:32:41.004Z"
   },
   {
    "duration": 32,
    "start_time": "2024-07-23T19:32:41.508Z"
   },
   {
    "duration": 59,
    "start_time": "2024-07-23T19:32:41.543Z"
   },
   {
    "duration": 23,
    "start_time": "2024-07-23T19:32:41.606Z"
   },
   {
    "duration": 65,
    "start_time": "2024-07-23T19:32:41.633Z"
   },
   {
    "duration": 454,
    "start_time": "2024-07-23T19:32:41.707Z"
   },
   {
    "duration": 58,
    "start_time": "2024-07-23T19:32:42.164Z"
   },
   {
    "duration": 67,
    "start_time": "2024-07-23T19:32:42.225Z"
   },
   {
    "duration": 30,
    "start_time": "2024-07-23T19:32:42.297Z"
   },
   {
    "duration": 126,
    "start_time": "2024-07-23T19:32:42.330Z"
   },
   {
    "duration": 295,
    "start_time": "2024-07-23T19:32:42.459Z"
   },
   {
    "duration": 38,
    "start_time": "2024-07-23T19:32:42.757Z"
   },
   {
    "duration": 450,
    "start_time": "2024-07-23T19:32:42.798Z"
   },
   {
    "duration": 33,
    "start_time": "2024-07-23T19:32:43.252Z"
   },
   {
    "duration": 116,
    "start_time": "2024-07-23T19:32:43.293Z"
   },
   {
    "duration": 13,
    "start_time": "2024-07-23T19:32:43.411Z"
   },
   {
    "duration": 6091,
    "start_time": "2024-07-23T19:32:43.426Z"
   },
   {
    "duration": 1563,
    "start_time": "2024-07-23T19:32:49.523Z"
   },
   {
    "duration": 40,
    "start_time": "2024-07-23T19:32:51.089Z"
   },
   {
    "duration": 41,
    "start_time": "2024-07-23T19:32:51.134Z"
   },
   {
    "duration": 470,
    "start_time": "2024-07-23T19:32:51.181Z"
   },
   {
    "duration": 1835,
    "start_time": "2024-07-23T19:33:10.056Z"
   },
   {
    "duration": 817,
    "start_time": "2024-07-23T19:33:11.896Z"
   },
   {
    "duration": 29,
    "start_time": "2024-07-23T19:33:12.716Z"
   },
   {
    "duration": 40,
    "start_time": "2024-07-23T19:33:12.748Z"
   },
   {
    "duration": 176,
    "start_time": "2024-07-23T19:33:12.793Z"
   },
   {
    "duration": 6,
    "start_time": "2024-07-23T19:33:12.973Z"
   },
   {
    "duration": 10,
    "start_time": "2024-07-23T19:33:12.985Z"
   },
   {
    "duration": 438,
    "start_time": "2024-07-23T19:33:12.999Z"
   },
   {
    "duration": 507,
    "start_time": "2024-07-23T19:33:13.440Z"
   },
   {
    "duration": 64,
    "start_time": "2024-07-23T19:33:13.950Z"
   },
   {
    "duration": 4,
    "start_time": "2024-07-23T19:33:14.018Z"
   },
   {
    "duration": 129,
    "start_time": "2024-07-23T19:33:14.025Z"
   },
   {
    "duration": 129,
    "start_time": "2024-07-23T19:33:14.157Z"
   },
   {
    "duration": 523,
    "start_time": "2024-07-23T19:33:14.293Z"
   },
   {
    "duration": 32,
    "start_time": "2024-07-23T19:33:14.819Z"
   },
   {
    "duration": 54,
    "start_time": "2024-07-23T19:33:14.854Z"
   },
   {
    "duration": 18,
    "start_time": "2024-07-23T19:33:14.910Z"
   },
   {
    "duration": 81,
    "start_time": "2024-07-23T19:33:14.930Z"
   },
   {
    "duration": 447,
    "start_time": "2024-07-23T19:33:15.015Z"
   },
   {
    "duration": 47,
    "start_time": "2024-07-23T19:33:15.465Z"
   },
   {
    "duration": 59,
    "start_time": "2024-07-23T19:33:15.515Z"
   },
   {
    "duration": 35,
    "start_time": "2024-07-23T19:33:15.579Z"
   },
   {
    "duration": 130,
    "start_time": "2024-07-23T19:33:15.616Z"
   },
   {
    "duration": 299,
    "start_time": "2024-07-23T19:33:15.749Z"
   },
   {
    "duration": 35,
    "start_time": "2024-07-23T19:33:16.051Z"
   },
   {
    "duration": 456,
    "start_time": "2024-07-23T19:33:16.090Z"
   },
   {
    "duration": 34,
    "start_time": "2024-07-23T19:33:16.549Z"
   },
   {
    "duration": 126,
    "start_time": "2024-07-23T19:33:16.586Z"
   },
   {
    "duration": 23,
    "start_time": "2024-07-23T19:33:16.715Z"
   },
   {
    "duration": 5975,
    "start_time": "2024-07-23T19:33:16.741Z"
   },
   {
    "duration": 1534,
    "start_time": "2024-07-23T19:33:22.718Z"
   },
   {
    "duration": 48,
    "start_time": "2024-07-23T19:33:24.254Z"
   },
   {
    "duration": 28,
    "start_time": "2024-07-23T19:33:24.305Z"
   },
   {
    "duration": 496,
    "start_time": "2024-07-23T19:33:24.336Z"
   },
   {
    "duration": 1614,
    "start_time": "2024-07-23T19:34:22.263Z"
   },
   {
    "duration": 1874,
    "start_time": "2024-07-23T19:34:32.513Z"
   },
   {
    "duration": 894,
    "start_time": "2024-07-23T19:34:34.390Z"
   },
   {
    "duration": 46,
    "start_time": "2024-07-23T19:34:35.288Z"
   },
   {
    "duration": 45,
    "start_time": "2024-07-23T19:34:35.338Z"
   },
   {
    "duration": 199,
    "start_time": "2024-07-23T19:34:35.390Z"
   },
   {
    "duration": 12,
    "start_time": "2024-07-23T19:34:35.596Z"
   },
   {
    "duration": 3,
    "start_time": "2024-07-23T19:34:35.611Z"
   },
   {
    "duration": 522,
    "start_time": "2024-07-23T19:34:35.619Z"
   },
   {
    "duration": 563,
    "start_time": "2024-07-23T19:34:36.144Z"
   },
   {
    "duration": 60,
    "start_time": "2024-07-23T19:34:36.712Z"
   },
   {
    "duration": 5,
    "start_time": "2024-07-23T19:34:36.778Z"
   },
   {
    "duration": 132,
    "start_time": "2024-07-23T19:34:36.787Z"
   },
   {
    "duration": 120,
    "start_time": "2024-07-23T19:34:36.924Z"
   },
   {
    "duration": 621,
    "start_time": "2024-07-23T19:34:37.051Z"
   },
   {
    "duration": 37,
    "start_time": "2024-07-23T19:34:37.676Z"
   },
   {
    "duration": 67,
    "start_time": "2024-07-23T19:34:37.716Z"
   },
   {
    "duration": 23,
    "start_time": "2024-07-23T19:34:37.787Z"
   },
   {
    "duration": 63,
    "start_time": "2024-07-23T19:34:37.820Z"
   },
   {
    "duration": 530,
    "start_time": "2024-07-23T19:34:37.894Z"
   },
   {
    "duration": 58,
    "start_time": "2024-07-23T19:34:38.431Z"
   },
   {
    "duration": 56,
    "start_time": "2024-07-23T19:34:38.499Z"
   },
   {
    "duration": 64,
    "start_time": "2024-07-23T19:34:38.558Z"
   },
   {
    "duration": 129,
    "start_time": "2024-07-23T19:34:38.626Z"
   },
   {
    "duration": 314,
    "start_time": "2024-07-23T19:34:38.758Z"
   },
   {
    "duration": 22,
    "start_time": "2024-07-23T19:34:39.075Z"
   },
   {
    "duration": 439,
    "start_time": "2024-07-23T19:34:39.100Z"
   },
   {
    "duration": 37,
    "start_time": "2024-07-23T19:34:39.544Z"
   },
   {
    "duration": 151,
    "start_time": "2024-07-23T19:34:39.584Z"
   },
   {
    "duration": 67,
    "start_time": "2024-07-23T19:34:39.738Z"
   },
   {
    "duration": 6227,
    "start_time": "2024-07-23T19:34:39.808Z"
   },
   {
    "duration": 1598,
    "start_time": "2024-07-23T19:34:46.038Z"
   },
   {
    "duration": 46,
    "start_time": "2024-07-23T19:34:47.638Z"
   },
   {
    "duration": 32,
    "start_time": "2024-07-23T19:34:47.688Z"
   },
   {
    "duration": 502,
    "start_time": "2024-07-23T19:34:47.723Z"
   },
   {
    "duration": 347,
    "start_time": "2024-07-23T19:35:29.898Z"
   },
   {
    "duration": 1847,
    "start_time": "2024-07-23T19:35:36.340Z"
   },
   {
    "duration": 870,
    "start_time": "2024-07-23T19:35:38.192Z"
   },
   {
    "duration": 35,
    "start_time": "2024-07-23T19:35:39.065Z"
   },
   {
    "duration": 25,
    "start_time": "2024-07-23T19:35:39.103Z"
   },
   {
    "duration": 212,
    "start_time": "2024-07-23T19:35:39.133Z"
   },
   {
    "duration": 3,
    "start_time": "2024-07-23T19:35:39.348Z"
   },
   {
    "duration": 20,
    "start_time": "2024-07-23T19:35:39.355Z"
   },
   {
    "duration": 456,
    "start_time": "2024-07-23T19:35:39.381Z"
   },
   {
    "duration": 523,
    "start_time": "2024-07-23T19:35:39.840Z"
   },
   {
    "duration": 54,
    "start_time": "2024-07-23T19:35:40.375Z"
   },
   {
    "duration": 5,
    "start_time": "2024-07-23T19:35:40.434Z"
   },
   {
    "duration": 118,
    "start_time": "2024-07-23T19:35:40.442Z"
   },
   {
    "duration": 129,
    "start_time": "2024-07-23T19:35:40.567Z"
   },
   {
    "duration": 518,
    "start_time": "2024-07-23T19:35:40.703Z"
   },
   {
    "duration": 46,
    "start_time": "2024-07-23T19:35:41.224Z"
   },
   {
    "duration": 45,
    "start_time": "2024-07-23T19:35:41.273Z"
   },
   {
    "duration": 18,
    "start_time": "2024-07-23T19:35:41.320Z"
   },
   {
    "duration": 70,
    "start_time": "2024-07-23T19:35:41.341Z"
   },
   {
    "duration": 465,
    "start_time": "2024-07-23T19:35:41.414Z"
   },
   {
    "duration": 52,
    "start_time": "2024-07-23T19:35:41.882Z"
   },
   {
    "duration": 66,
    "start_time": "2024-07-23T19:35:41.937Z"
   },
   {
    "duration": 28,
    "start_time": "2024-07-23T19:35:42.006Z"
   },
   {
    "duration": 132,
    "start_time": "2024-07-23T19:35:42.037Z"
   },
   {
    "duration": 304,
    "start_time": "2024-07-23T19:35:42.172Z"
   },
   {
    "duration": 25,
    "start_time": "2024-07-23T19:35:42.482Z"
   },
   {
    "duration": 439,
    "start_time": "2024-07-23T19:35:42.510Z"
   },
   {
    "duration": 42,
    "start_time": "2024-07-23T19:35:42.952Z"
   },
   {
    "duration": 118,
    "start_time": "2024-07-23T19:35:42.997Z"
   },
   {
    "duration": 30,
    "start_time": "2024-07-23T19:35:43.119Z"
   },
   {
    "duration": 5196,
    "start_time": "2024-07-23T19:35:43.168Z"
   },
   {
    "duration": 590,
    "start_time": "2024-07-23T19:35:48.377Z"
   },
   {
    "duration": 49,
    "start_time": "2024-07-23T19:35:48.973Z"
   },
   {
    "duration": 59,
    "start_time": "2024-07-23T19:35:49.026Z"
   },
   {
    "duration": 460,
    "start_time": "2024-07-23T19:35:49.087Z"
   },
   {
    "duration": 2213,
    "start_time": "2024-07-23T19:35:55.556Z"
   },
   {
    "duration": 1814,
    "start_time": "2024-07-23T19:36:17.429Z"
   },
   {
    "duration": 833,
    "start_time": "2024-07-23T19:36:19.249Z"
   },
   {
    "duration": 33,
    "start_time": "2024-07-23T19:36:20.085Z"
   },
   {
    "duration": 24,
    "start_time": "2024-07-23T19:36:20.121Z"
   },
   {
    "duration": 193,
    "start_time": "2024-07-23T19:36:20.149Z"
   },
   {
    "duration": 4,
    "start_time": "2024-07-23T19:36:20.345Z"
   },
   {
    "duration": 23,
    "start_time": "2024-07-23T19:36:20.353Z"
   },
   {
    "duration": 444,
    "start_time": "2024-07-23T19:36:20.380Z"
   },
   {
    "duration": 527,
    "start_time": "2024-07-23T19:36:20.827Z"
   },
   {
    "duration": 62,
    "start_time": "2024-07-23T19:36:21.356Z"
   },
   {
    "duration": 5,
    "start_time": "2024-07-23T19:36:21.421Z"
   },
   {
    "duration": 136,
    "start_time": "2024-07-23T19:36:21.430Z"
   },
   {
    "duration": 118,
    "start_time": "2024-07-23T19:36:21.569Z"
   },
   {
    "duration": 509,
    "start_time": "2024-07-23T19:36:21.695Z"
   },
   {
    "duration": 45,
    "start_time": "2024-07-23T19:36:22.207Z"
   },
   {
    "duration": 49,
    "start_time": "2024-07-23T19:36:22.255Z"
   },
   {
    "duration": 18,
    "start_time": "2024-07-23T19:36:22.309Z"
   },
   {
    "duration": 72,
    "start_time": "2024-07-23T19:36:22.329Z"
   },
   {
    "duration": 436,
    "start_time": "2024-07-23T19:36:22.403Z"
   },
   {
    "duration": 63,
    "start_time": "2024-07-23T19:36:22.842Z"
   },
   {
    "duration": 36,
    "start_time": "2024-07-23T19:36:22.908Z"
   },
   {
    "duration": 53,
    "start_time": "2024-07-23T19:36:22.947Z"
   },
   {
    "duration": 127,
    "start_time": "2024-07-23T19:36:23.003Z"
   },
   {
    "duration": 305,
    "start_time": "2024-07-23T19:36:23.133Z"
   },
   {
    "duration": 37,
    "start_time": "2024-07-23T19:36:23.441Z"
   },
   {
    "duration": 442,
    "start_time": "2024-07-23T19:36:23.481Z"
   },
   {
    "duration": 19,
    "start_time": "2024-07-23T19:36:23.926Z"
   },
   {
    "duration": 146,
    "start_time": "2024-07-23T19:36:23.948Z"
   },
   {
    "duration": 36,
    "start_time": "2024-07-23T19:36:24.100Z"
   },
   {
    "duration": 5685,
    "start_time": "2024-07-23T19:36:24.139Z"
   },
   {
    "duration": 1557,
    "start_time": "2024-07-23T19:36:29.827Z"
   },
   {
    "duration": 35,
    "start_time": "2024-07-23T19:36:31.396Z"
   },
   {
    "duration": 37,
    "start_time": "2024-07-23T19:36:31.434Z"
   },
   {
    "duration": 1867,
    "start_time": "2024-07-23T19:39:06.230Z"
   },
   {
    "duration": 917,
    "start_time": "2024-07-23T19:39:08.101Z"
   },
   {
    "duration": 29,
    "start_time": "2024-07-23T19:39:09.021Z"
   },
   {
    "duration": 49,
    "start_time": "2024-07-23T19:39:09.052Z"
   },
   {
    "duration": 180,
    "start_time": "2024-07-23T19:39:09.105Z"
   },
   {
    "duration": 4,
    "start_time": "2024-07-23T19:39:09.288Z"
   },
   {
    "duration": 10,
    "start_time": "2024-07-23T19:39:09.295Z"
   },
   {
    "duration": 465,
    "start_time": "2024-07-23T19:39:09.310Z"
   },
   {
    "duration": 528,
    "start_time": "2024-07-23T19:39:09.778Z"
   },
   {
    "duration": 69,
    "start_time": "2024-07-23T19:39:10.309Z"
   },
   {
    "duration": 13,
    "start_time": "2024-07-23T19:39:10.382Z"
   },
   {
    "duration": 113,
    "start_time": "2024-07-23T19:39:10.398Z"
   },
   {
    "duration": 119,
    "start_time": "2024-07-23T19:39:10.514Z"
   },
   {
    "duration": 513,
    "start_time": "2024-07-23T19:39:10.640Z"
   },
   {
    "duration": 42,
    "start_time": "2024-07-23T19:39:11.156Z"
   },
   {
    "duration": 37,
    "start_time": "2024-07-23T19:39:11.201Z"
   },
   {
    "duration": 42,
    "start_time": "2024-07-23T19:39:11.241Z"
   },
   {
    "duration": 44,
    "start_time": "2024-07-23T19:39:11.286Z"
   },
   {
    "duration": 471,
    "start_time": "2024-07-23T19:39:11.333Z"
   },
   {
    "duration": 43,
    "start_time": "2024-07-23T19:39:11.806Z"
   },
   {
    "duration": 67,
    "start_time": "2024-07-23T19:39:11.852Z"
   },
   {
    "duration": 28,
    "start_time": "2024-07-23T19:39:11.921Z"
   },
   {
    "duration": 132,
    "start_time": "2024-07-23T19:39:11.952Z"
   },
   {
    "duration": 301,
    "start_time": "2024-07-23T19:39:12.089Z"
   },
   {
    "duration": 23,
    "start_time": "2024-07-23T19:39:12.398Z"
   },
   {
    "duration": 2199,
    "start_time": "2024-07-23T19:39:12.424Z"
   },
   {
    "duration": 0,
    "start_time": "2024-07-23T19:39:14.626Z"
   },
   {
    "duration": 0,
    "start_time": "2024-07-23T19:39:14.628Z"
   },
   {
    "duration": 0,
    "start_time": "2024-07-23T19:39:14.631Z"
   },
   {
    "duration": 0,
    "start_time": "2024-07-23T19:39:14.632Z"
   },
   {
    "duration": 0,
    "start_time": "2024-07-23T19:39:14.635Z"
   },
   {
    "duration": 0,
    "start_time": "2024-07-23T19:39:14.638Z"
   },
   {
    "duration": 0,
    "start_time": "2024-07-23T19:39:14.640Z"
   },
   {
    "duration": 0,
    "start_time": "2024-07-23T19:39:14.671Z"
   },
   {
    "duration": 1778,
    "start_time": "2024-07-23T19:39:25.429Z"
   },
   {
    "duration": 830,
    "start_time": "2024-07-23T19:39:27.212Z"
   },
   {
    "duration": 42,
    "start_time": "2024-07-23T19:39:28.045Z"
   },
   {
    "duration": 31,
    "start_time": "2024-07-23T19:39:28.092Z"
   },
   {
    "duration": 196,
    "start_time": "2024-07-23T19:39:28.130Z"
   },
   {
    "duration": 4,
    "start_time": "2024-07-23T19:39:28.329Z"
   },
   {
    "duration": 3,
    "start_time": "2024-07-23T19:39:28.337Z"
   },
   {
    "duration": 485,
    "start_time": "2024-07-23T19:39:28.343Z"
   },
   {
    "duration": 510,
    "start_time": "2024-07-23T19:39:28.831Z"
   },
   {
    "duration": 66,
    "start_time": "2024-07-23T19:39:29.344Z"
   },
   {
    "duration": 4,
    "start_time": "2024-07-23T19:39:29.413Z"
   },
   {
    "duration": 118,
    "start_time": "2024-07-23T19:39:29.420Z"
   },
   {
    "duration": 146,
    "start_time": "2024-07-23T19:39:29.541Z"
   },
   {
    "duration": 510,
    "start_time": "2024-07-23T19:39:29.693Z"
   },
   {
    "duration": 32,
    "start_time": "2024-07-23T19:39:30.206Z"
   },
   {
    "duration": 59,
    "start_time": "2024-07-23T19:39:30.244Z"
   },
   {
    "duration": 17,
    "start_time": "2024-07-23T19:39:30.306Z"
   },
   {
    "duration": 61,
    "start_time": "2024-07-23T19:39:30.326Z"
   },
   {
    "duration": 442,
    "start_time": "2024-07-23T19:39:30.391Z"
   },
   {
    "duration": 59,
    "start_time": "2024-07-23T19:39:30.835Z"
   },
   {
    "duration": 35,
    "start_time": "2024-07-23T19:39:30.898Z"
   },
   {
    "duration": 59,
    "start_time": "2024-07-23T19:39:30.937Z"
   },
   {
    "duration": 105,
    "start_time": "2024-07-23T19:39:31.000Z"
   },
   {
    "duration": 285,
    "start_time": "2024-07-23T19:39:31.108Z"
   },
   {
    "duration": 21,
    "start_time": "2024-07-23T19:39:31.395Z"
   },
   {
    "duration": 2227,
    "start_time": "2024-07-23T19:39:31.419Z"
   },
   {
    "duration": 0,
    "start_time": "2024-07-23T19:39:33.650Z"
   },
   {
    "duration": 0,
    "start_time": "2024-07-23T19:39:33.652Z"
   },
   {
    "duration": 0,
    "start_time": "2024-07-23T19:39:33.654Z"
   },
   {
    "duration": 0,
    "start_time": "2024-07-23T19:39:33.655Z"
   },
   {
    "duration": 0,
    "start_time": "2024-07-23T19:39:33.656Z"
   },
   {
    "duration": 0,
    "start_time": "2024-07-23T19:39:33.657Z"
   },
   {
    "duration": 0,
    "start_time": "2024-07-23T19:39:33.658Z"
   },
   {
    "duration": 0,
    "start_time": "2024-07-23T19:39:33.677Z"
   },
   {
    "duration": 86,
    "start_time": "2024-07-23T19:40:09.699Z"
   },
   {
    "duration": 1854,
    "start_time": "2024-07-23T19:40:27.678Z"
   },
   {
    "duration": 800,
    "start_time": "2024-07-23T19:40:29.536Z"
   },
   {
    "duration": 44,
    "start_time": "2024-07-23T19:40:30.339Z"
   },
   {
    "duration": 26,
    "start_time": "2024-07-23T19:40:30.387Z"
   },
   {
    "duration": 174,
    "start_time": "2024-07-23T19:40:30.417Z"
   },
   {
    "duration": 7,
    "start_time": "2024-07-23T19:40:30.596Z"
   },
   {
    "duration": 4,
    "start_time": "2024-07-23T19:40:30.606Z"
   },
   {
    "duration": 467,
    "start_time": "2024-07-23T19:40:30.613Z"
   },
   {
    "duration": 487,
    "start_time": "2024-07-23T19:40:31.086Z"
   },
   {
    "duration": 55,
    "start_time": "2024-07-23T19:40:31.588Z"
   },
   {
    "duration": 3,
    "start_time": "2024-07-23T19:40:31.646Z"
   },
   {
    "duration": 144,
    "start_time": "2024-07-23T19:40:31.652Z"
   },
   {
    "duration": 103,
    "start_time": "2024-07-23T19:40:31.799Z"
   },
   {
    "duration": 504,
    "start_time": "2024-07-23T19:40:31.910Z"
   },
   {
    "duration": 33,
    "start_time": "2024-07-23T19:40:32.420Z"
   },
   {
    "duration": 54,
    "start_time": "2024-07-23T19:40:32.456Z"
   },
   {
    "duration": 17,
    "start_time": "2024-07-23T19:40:32.515Z"
   },
   {
    "duration": 67,
    "start_time": "2024-07-23T19:40:32.535Z"
   },
   {
    "duration": 447,
    "start_time": "2024-07-23T19:40:32.608Z"
   },
   {
    "duration": 49,
    "start_time": "2024-07-23T19:40:33.058Z"
   },
   {
    "duration": 72,
    "start_time": "2024-07-23T19:40:33.110Z"
   },
   {
    "duration": 32,
    "start_time": "2024-07-23T19:40:33.186Z"
   },
   {
    "duration": 113,
    "start_time": "2024-07-23T19:40:33.221Z"
   },
   {
    "duration": 300,
    "start_time": "2024-07-23T19:40:33.338Z"
   },
   {
    "duration": 100,
    "start_time": "2024-07-23T19:40:33.641Z"
   },
   {
    "duration": 2242,
    "start_time": "2024-07-23T19:40:33.744Z"
   },
   {
    "duration": 0,
    "start_time": "2024-07-23T19:40:35.996Z"
   },
   {
    "duration": 0,
    "start_time": "2024-07-23T19:40:35.999Z"
   },
   {
    "duration": 0,
    "start_time": "2024-07-23T19:40:36.003Z"
   },
   {
    "duration": 0,
    "start_time": "2024-07-23T19:40:36.006Z"
   },
   {
    "duration": 0,
    "start_time": "2024-07-23T19:40:36.008Z"
   },
   {
    "duration": 0,
    "start_time": "2024-07-23T19:40:36.010Z"
   },
   {
    "duration": 1,
    "start_time": "2024-07-23T19:40:36.012Z"
   },
   {
    "duration": 0,
    "start_time": "2024-07-23T19:40:36.015Z"
   },
   {
    "duration": 1840,
    "start_time": "2024-07-23T19:40:43.492Z"
   },
   {
    "duration": 847,
    "start_time": "2024-07-23T19:40:45.336Z"
   },
   {
    "duration": 32,
    "start_time": "2024-07-23T19:40:46.191Z"
   },
   {
    "duration": 22,
    "start_time": "2024-07-23T19:40:46.226Z"
   },
   {
    "duration": 183,
    "start_time": "2024-07-23T19:40:46.255Z"
   },
   {
    "duration": 4,
    "start_time": "2024-07-23T19:40:46.441Z"
   },
   {
    "duration": 22,
    "start_time": "2024-07-23T19:40:46.449Z"
   },
   {
    "duration": 464,
    "start_time": "2024-07-23T19:40:46.476Z"
   },
   {
    "duration": 549,
    "start_time": "2024-07-23T19:40:46.943Z"
   },
   {
    "duration": 52,
    "start_time": "2024-07-23T19:40:47.495Z"
   },
   {
    "duration": 4,
    "start_time": "2024-07-23T19:40:47.550Z"
   },
   {
    "duration": 128,
    "start_time": "2024-07-23T19:40:47.557Z"
   },
   {
    "duration": 118,
    "start_time": "2024-07-23T19:40:47.688Z"
   },
   {
    "duration": 534,
    "start_time": "2024-07-23T19:40:47.813Z"
   },
   {
    "duration": 48,
    "start_time": "2024-07-23T19:40:48.350Z"
   },
   {
    "duration": 36,
    "start_time": "2024-07-23T19:40:48.406Z"
   },
   {
    "duration": 32,
    "start_time": "2024-07-23T19:40:48.445Z"
   },
   {
    "duration": 45,
    "start_time": "2024-07-23T19:40:48.481Z"
   },
   {
    "duration": 471,
    "start_time": "2024-07-23T19:40:48.528Z"
   },
   {
    "duration": 46,
    "start_time": "2024-07-23T19:40:49.005Z"
   },
   {
    "duration": 54,
    "start_time": "2024-07-23T19:40:49.054Z"
   },
   {
    "duration": 27,
    "start_time": "2024-07-23T19:40:49.112Z"
   },
   {
    "duration": 132,
    "start_time": "2024-07-23T19:40:49.142Z"
   },
   {
    "duration": 312,
    "start_time": "2024-07-23T19:40:49.277Z"
   },
   {
    "duration": 73,
    "start_time": "2024-07-23T19:40:49.593Z"
   },
   {
    "duration": 2243,
    "start_time": "2024-07-23T19:40:49.679Z"
   },
   {
    "duration": 0,
    "start_time": "2024-07-23T19:40:51.969Z"
   },
   {
    "duration": 0,
    "start_time": "2024-07-23T19:40:51.971Z"
   },
   {
    "duration": 0,
    "start_time": "2024-07-23T19:40:51.973Z"
   },
   {
    "duration": 1,
    "start_time": "2024-07-23T19:40:51.974Z"
   },
   {
    "duration": 0,
    "start_time": "2024-07-23T19:40:51.976Z"
   },
   {
    "duration": 0,
    "start_time": "2024-07-23T19:40:51.978Z"
   },
   {
    "duration": 0,
    "start_time": "2024-07-23T19:40:51.980Z"
   },
   {
    "duration": 0,
    "start_time": "2024-07-23T19:40:51.982Z"
   },
   {
    "duration": 1819,
    "start_time": "2024-07-23T19:41:31.766Z"
   },
   {
    "duration": 806,
    "start_time": "2024-07-23T19:41:33.590Z"
   },
   {
    "duration": 30,
    "start_time": "2024-07-23T19:41:34.400Z"
   },
   {
    "duration": 40,
    "start_time": "2024-07-23T19:41:34.433Z"
   },
   {
    "duration": 179,
    "start_time": "2024-07-23T19:41:34.477Z"
   },
   {
    "duration": 5,
    "start_time": "2024-07-23T19:41:34.668Z"
   },
   {
    "duration": 10,
    "start_time": "2024-07-23T19:41:34.676Z"
   },
   {
    "duration": 441,
    "start_time": "2024-07-23T19:41:34.698Z"
   },
   {
    "duration": 518,
    "start_time": "2024-07-23T19:41:35.143Z"
   },
   {
    "duration": 54,
    "start_time": "2024-07-23T19:41:35.668Z"
   },
   {
    "duration": 4,
    "start_time": "2024-07-23T19:41:35.726Z"
   },
   {
    "duration": 148,
    "start_time": "2024-07-23T19:41:35.734Z"
   },
   {
    "duration": 112,
    "start_time": "2024-07-23T19:41:35.885Z"
   },
   {
    "duration": 521,
    "start_time": "2024-07-23T19:41:36.001Z"
   },
   {
    "duration": 32,
    "start_time": "2024-07-23T19:41:36.525Z"
   },
   {
    "duration": 44,
    "start_time": "2024-07-23T19:41:36.572Z"
   },
   {
    "duration": 18,
    "start_time": "2024-07-23T19:41:36.619Z"
   },
   {
    "duration": 48,
    "start_time": "2024-07-23T19:41:36.671Z"
   },
   {
    "duration": 430,
    "start_time": "2024-07-23T19:41:36.721Z"
   },
   {
    "duration": 59,
    "start_time": "2024-07-23T19:41:37.154Z"
   },
   {
    "duration": 55,
    "start_time": "2024-07-23T19:41:37.215Z"
   },
   {
    "duration": 41,
    "start_time": "2024-07-23T19:41:37.274Z"
   },
   {
    "duration": 128,
    "start_time": "2024-07-23T19:41:37.318Z"
   },
   {
    "duration": 304,
    "start_time": "2024-07-23T19:41:37.450Z"
   },
   {
    "duration": 89,
    "start_time": "2024-07-23T19:41:37.760Z"
   },
   {
    "duration": 738,
    "start_time": "2024-07-23T19:41:37.854Z"
   },
   {
    "duration": 0,
    "start_time": "2024-07-23T19:41:38.602Z"
   },
   {
    "duration": 0,
    "start_time": "2024-07-23T19:41:38.605Z"
   },
   {
    "duration": 0,
    "start_time": "2024-07-23T19:41:38.608Z"
   },
   {
    "duration": 0,
    "start_time": "2024-07-23T19:41:38.616Z"
   },
   {
    "duration": 0,
    "start_time": "2024-07-23T19:41:38.618Z"
   },
   {
    "duration": 0,
    "start_time": "2024-07-23T19:41:38.621Z"
   },
   {
    "duration": 0,
    "start_time": "2024-07-23T19:41:38.626Z"
   },
   {
    "duration": 0,
    "start_time": "2024-07-23T19:41:38.629Z"
   },
   {
    "duration": 1867,
    "start_time": "2024-07-23T19:42:06.554Z"
   },
   {
    "duration": 29,
    "start_time": "2024-07-23T19:42:17.953Z"
   },
   {
    "duration": 304,
    "start_time": "2024-07-23T19:42:28.893Z"
   },
   {
    "duration": 544,
    "start_time": "2024-07-23T19:42:45.037Z"
   },
   {
    "duration": 307,
    "start_time": "2024-07-23T19:43:35.340Z"
   },
   {
    "duration": 371,
    "start_time": "2024-07-23T19:43:59.749Z"
   },
   {
    "duration": 1806,
    "start_time": "2024-07-23T19:44:09.377Z"
   },
   {
    "duration": 802,
    "start_time": "2024-07-23T19:44:11.187Z"
   },
   {
    "duration": 29,
    "start_time": "2024-07-23T19:44:11.998Z"
   },
   {
    "duration": 21,
    "start_time": "2024-07-23T19:44:12.031Z"
   },
   {
    "duration": 206,
    "start_time": "2024-07-23T19:44:12.072Z"
   },
   {
    "duration": 9,
    "start_time": "2024-07-23T19:44:12.285Z"
   },
   {
    "duration": 3,
    "start_time": "2024-07-23T19:44:12.299Z"
   },
   {
    "duration": 442,
    "start_time": "2024-07-23T19:44:12.306Z"
   },
   {
    "duration": 508,
    "start_time": "2024-07-23T19:44:12.751Z"
   },
   {
    "duration": 65,
    "start_time": "2024-07-23T19:44:13.261Z"
   },
   {
    "duration": 4,
    "start_time": "2024-07-23T19:44:13.328Z"
   },
   {
    "duration": 130,
    "start_time": "2024-07-23T19:44:13.335Z"
   },
   {
    "duration": 113,
    "start_time": "2024-07-23T19:44:13.470Z"
   },
   {
    "duration": 521,
    "start_time": "2024-07-23T19:44:13.590Z"
   },
   {
    "duration": 31,
    "start_time": "2024-07-23T19:44:14.115Z"
   },
   {
    "duration": 61,
    "start_time": "2024-07-23T19:44:14.150Z"
   },
   {
    "duration": 18,
    "start_time": "2024-07-23T19:44:14.213Z"
   },
   {
    "duration": 70,
    "start_time": "2024-07-23T19:44:14.233Z"
   },
   {
    "duration": 435,
    "start_time": "2024-07-23T19:44:14.306Z"
   },
   {
    "duration": 62,
    "start_time": "2024-07-23T19:44:14.744Z"
   },
   {
    "duration": 35,
    "start_time": "2024-07-23T19:44:14.811Z"
   },
   {
    "duration": 57,
    "start_time": "2024-07-23T19:44:14.848Z"
   },
   {
    "duration": 124,
    "start_time": "2024-07-23T19:44:14.908Z"
   },
   {
    "duration": 305,
    "start_time": "2024-07-23T19:44:15.036Z"
   },
   {
    "duration": 31,
    "start_time": "2024-07-23T19:44:15.345Z"
   },
   {
    "duration": 1428,
    "start_time": "2024-07-23T19:44:15.379Z"
   },
   {
    "duration": 0,
    "start_time": "2024-07-23T19:44:16.811Z"
   },
   {
    "duration": 0,
    "start_time": "2024-07-23T19:44:16.814Z"
   },
   {
    "duration": 0,
    "start_time": "2024-07-23T19:44:16.816Z"
   },
   {
    "duration": 0,
    "start_time": "2024-07-23T19:44:16.818Z"
   },
   {
    "duration": 0,
    "start_time": "2024-07-23T19:44:16.820Z"
   },
   {
    "duration": 0,
    "start_time": "2024-07-23T19:44:16.821Z"
   },
   {
    "duration": 0,
    "start_time": "2024-07-23T19:44:16.823Z"
   },
   {
    "duration": 0,
    "start_time": "2024-07-23T19:44:16.824Z"
   },
   {
    "duration": 480,
    "start_time": "2024-07-23T19:44:48.773Z"
   },
   {
    "duration": 19,
    "start_time": "2024-07-23T19:44:57.317Z"
   },
   {
    "duration": 114,
    "start_time": "2024-07-23T19:44:57.508Z"
   },
   {
    "duration": 22,
    "start_time": "2024-07-23T19:44:57.796Z"
   },
   {
    "duration": 5720,
    "start_time": "2024-07-23T19:44:58.296Z"
   },
   {
    "duration": 1588,
    "start_time": "2024-07-23T19:45:04.020Z"
   },
   {
    "duration": 34,
    "start_time": "2024-07-23T19:45:05.611Z"
   },
   {
    "duration": 44,
    "start_time": "2024-07-23T19:45:08.261Z"
   },
   {
    "duration": 363,
    "start_time": "2024-07-23T19:45:27.157Z"
   },
   {
    "duration": 1931,
    "start_time": "2024-07-23T19:45:33.331Z"
   },
   {
    "duration": 887,
    "start_time": "2024-07-23T19:45:35.265Z"
   },
   {
    "duration": 42,
    "start_time": "2024-07-23T19:45:36.155Z"
   },
   {
    "duration": 27,
    "start_time": "2024-07-23T19:45:36.206Z"
   },
   {
    "duration": 200,
    "start_time": "2024-07-23T19:45:36.237Z"
   },
   {
    "duration": 3,
    "start_time": "2024-07-23T19:45:36.440Z"
   },
   {
    "duration": 8,
    "start_time": "2024-07-23T19:45:36.471Z"
   },
   {
    "duration": 457,
    "start_time": "2024-07-23T19:45:36.482Z"
   },
   {
    "duration": 538,
    "start_time": "2024-07-23T19:45:36.943Z"
   },
   {
    "duration": 50,
    "start_time": "2024-07-23T19:45:37.494Z"
   },
   {
    "duration": 4,
    "start_time": "2024-07-23T19:45:37.548Z"
   },
   {
    "duration": 124,
    "start_time": "2024-07-23T19:45:37.569Z"
   },
   {
    "duration": 123,
    "start_time": "2024-07-23T19:45:37.697Z"
   },
   {
    "duration": 548,
    "start_time": "2024-07-23T19:45:37.823Z"
   },
   {
    "duration": 40,
    "start_time": "2024-07-23T19:45:38.375Z"
   },
   {
    "duration": 52,
    "start_time": "2024-07-23T19:45:38.424Z"
   },
   {
    "duration": 22,
    "start_time": "2024-07-23T19:45:38.488Z"
   },
   {
    "duration": 36,
    "start_time": "2024-07-23T19:45:38.513Z"
   },
   {
    "duration": 459,
    "start_time": "2024-07-23T19:45:38.552Z"
   },
   {
    "duration": 55,
    "start_time": "2024-07-23T19:45:39.013Z"
   },
   {
    "duration": 48,
    "start_time": "2024-07-23T19:45:39.072Z"
   },
   {
    "duration": 67,
    "start_time": "2024-07-23T19:45:39.123Z"
   },
   {
    "duration": 102,
    "start_time": "2024-07-23T19:45:39.194Z"
   },
   {
    "duration": 290,
    "start_time": "2024-07-23T19:45:39.298Z"
   },
   {
    "duration": 25,
    "start_time": "2024-07-23T19:45:39.591Z"
   },
   {
    "duration": 427,
    "start_time": "2024-07-23T19:45:39.619Z"
   },
   {
    "duration": 45,
    "start_time": "2024-07-23T19:45:40.049Z"
   },
   {
    "duration": 119,
    "start_time": "2024-07-23T19:45:40.104Z"
   },
   {
    "duration": 54,
    "start_time": "2024-07-23T19:45:40.226Z"
   },
   {
    "duration": 5632,
    "start_time": "2024-07-23T19:45:40.284Z"
   },
   {
    "duration": 1512,
    "start_time": "2024-07-23T19:45:45.920Z"
   },
   {
    "duration": 46,
    "start_time": "2024-07-23T19:45:47.435Z"
   },
   {
    "duration": 34,
    "start_time": "2024-07-23T19:45:47.484Z"
   },
   {
    "duration": 345,
    "start_time": "2024-07-23T19:46:40.453Z"
   },
   {
    "duration": 1948,
    "start_time": "2024-07-23T19:46:51.294Z"
   },
   {
    "duration": 862,
    "start_time": "2024-07-23T19:46:53.247Z"
   },
   {
    "duration": 29,
    "start_time": "2024-07-23T19:46:54.112Z"
   },
   {
    "duration": 52,
    "start_time": "2024-07-23T19:46:54.144Z"
   },
   {
    "duration": 173,
    "start_time": "2024-07-23T19:46:54.202Z"
   },
   {
    "duration": 7,
    "start_time": "2024-07-23T19:46:54.385Z"
   },
   {
    "duration": 4,
    "start_time": "2024-07-23T19:46:54.399Z"
   },
   {
    "duration": 476,
    "start_time": "2024-07-23T19:46:54.406Z"
   },
   {
    "duration": 509,
    "start_time": "2024-07-23T19:46:54.885Z"
   },
   {
    "duration": 48,
    "start_time": "2024-07-23T19:46:55.398Z"
   },
   {
    "duration": 3,
    "start_time": "2024-07-23T19:46:55.450Z"
   },
   {
    "duration": 123,
    "start_time": "2024-07-23T19:46:55.472Z"
   },
   {
    "duration": 113,
    "start_time": "2024-07-23T19:46:55.599Z"
   },
   {
    "duration": 564,
    "start_time": "2024-07-23T19:46:55.720Z"
   },
   {
    "duration": 35,
    "start_time": "2024-07-23T19:46:56.287Z"
   },
   {
    "duration": 57,
    "start_time": "2024-07-23T19:46:56.326Z"
   },
   {
    "duration": 23,
    "start_time": "2024-07-23T19:46:56.385Z"
   },
   {
    "duration": 63,
    "start_time": "2024-07-23T19:46:56.412Z"
   },
   {
    "duration": 442,
    "start_time": "2024-07-23T19:46:56.477Z"
   },
   {
    "duration": 64,
    "start_time": "2024-07-23T19:46:56.922Z"
   },
   {
    "duration": 36,
    "start_time": "2024-07-23T19:46:56.998Z"
   },
   {
    "duration": 50,
    "start_time": "2024-07-23T19:46:57.037Z"
   },
   {
    "duration": 105,
    "start_time": "2024-07-23T19:46:57.095Z"
   },
   {
    "duration": 291,
    "start_time": "2024-07-23T19:46:57.203Z"
   },
   {
    "duration": 21,
    "start_time": "2024-07-23T19:46:57.499Z"
   },
   {
    "duration": 469,
    "start_time": "2024-07-23T19:46:57.523Z"
   },
   {
    "duration": 21,
    "start_time": "2024-07-23T19:46:57.996Z"
   },
   {
    "duration": 129,
    "start_time": "2024-07-23T19:46:58.020Z"
   },
   {
    "duration": 50,
    "start_time": "2024-07-23T19:46:58.152Z"
   },
   {
    "duration": 5047,
    "start_time": "2024-07-23T19:46:58.206Z"
   },
   {
    "duration": 599,
    "start_time": "2024-07-23T19:47:03.256Z"
   },
   {
    "duration": 57,
    "start_time": "2024-07-23T19:47:03.858Z"
   },
   {
    "duration": 25,
    "start_time": "2024-07-23T19:47:03.918Z"
   },
   {
    "duration": 2123,
    "start_time": "2024-07-23T19:47:03.946Z"
   },
   {
    "duration": 1791,
    "start_time": "2024-07-23T19:49:50.098Z"
   },
   {
    "duration": 810,
    "start_time": "2024-07-23T19:49:51.902Z"
   },
   {
    "duration": 30,
    "start_time": "2024-07-23T19:49:52.715Z"
   },
   {
    "duration": 43,
    "start_time": "2024-07-23T19:49:52.748Z"
   },
   {
    "duration": 171,
    "start_time": "2024-07-23T19:49:52.798Z"
   },
   {
    "duration": 3,
    "start_time": "2024-07-23T19:49:52.972Z"
   },
   {
    "duration": 24,
    "start_time": "2024-07-23T19:49:52.978Z"
   },
   {
    "duration": 457,
    "start_time": "2024-07-23T19:49:53.008Z"
   },
   {
    "duration": 518,
    "start_time": "2024-07-23T19:49:53.477Z"
   },
   {
    "duration": 53,
    "start_time": "2024-07-23T19:49:53.998Z"
   },
   {
    "duration": 15,
    "start_time": "2024-07-23T19:49:54.054Z"
   },
   {
    "duration": 123,
    "start_time": "2024-07-23T19:49:54.071Z"
   },
   {
    "duration": 124,
    "start_time": "2024-07-23T19:49:54.197Z"
   },
   {
    "duration": 528,
    "start_time": "2024-07-23T19:49:54.327Z"
   },
   {
    "duration": 51,
    "start_time": "2024-07-23T19:49:54.858Z"
   },
   {
    "duration": 33,
    "start_time": "2024-07-23T19:49:54.912Z"
   },
   {
    "duration": 31,
    "start_time": "2024-07-23T19:49:54.948Z"
   },
   {
    "duration": 41,
    "start_time": "2024-07-23T19:49:54.984Z"
   },
   {
    "duration": 453,
    "start_time": "2024-07-23T19:49:55.032Z"
   },
   {
    "duration": 54,
    "start_time": "2024-07-23T19:49:55.488Z"
   },
   {
    "duration": 56,
    "start_time": "2024-07-23T19:49:55.546Z"
   },
   {
    "duration": 27,
    "start_time": "2024-07-23T19:49:55.605Z"
   },
   {
    "duration": 127,
    "start_time": "2024-07-23T19:49:55.635Z"
   },
   {
    "duration": 335,
    "start_time": "2024-07-23T19:49:55.765Z"
   },
   {
    "duration": 22,
    "start_time": "2024-07-23T19:49:56.103Z"
   },
   {
    "duration": 459,
    "start_time": "2024-07-23T19:49:56.128Z"
   },
   {
    "duration": 21,
    "start_time": "2024-07-23T19:49:56.596Z"
   },
   {
    "duration": 125,
    "start_time": "2024-07-23T19:49:56.619Z"
   },
   {
    "duration": 49,
    "start_time": "2024-07-23T19:49:56.747Z"
   },
   {
    "duration": 5173,
    "start_time": "2024-07-23T19:49:56.801Z"
   },
   {
    "duration": 586,
    "start_time": "2024-07-23T19:50:01.978Z"
   },
   {
    "duration": 52,
    "start_time": "2024-07-23T19:50:02.566Z"
   },
   {
    "duration": 26,
    "start_time": "2024-07-23T19:50:02.621Z"
   },
   {
    "duration": 2203,
    "start_time": "2024-07-23T19:50:02.671Z"
   },
   {
    "duration": 144528,
    "start_time": "2024-07-23T19:50:04.878Z"
   },
   {
    "duration": 40,
    "start_time": "2024-07-23T20:23:43.323Z"
   },
   {
    "duration": 335,
    "start_time": "2024-07-23T20:29:55.383Z"
   },
   {
    "duration": 35,
    "start_time": "2024-07-23T20:29:58.223Z"
   },
   {
    "duration": 28,
    "start_time": "2024-07-23T20:30:00.390Z"
   },
   {
    "duration": 459,
    "start_time": "2024-07-23T20:30:13.193Z"
   },
   {
    "duration": 19,
    "start_time": "2024-07-23T20:30:28.168Z"
   },
   {
    "duration": 4,
    "start_time": "2024-07-23T20:31:46.439Z"
   },
   {
    "duration": 6,
    "start_time": "2024-07-23T20:32:17.709Z"
   },
   {
    "duration": 28554,
    "start_time": "2024-07-23T20:32:42.449Z"
   },
   {
    "duration": 9,
    "start_time": "2024-07-23T20:33:32.550Z"
   },
   {
    "duration": 11,
    "start_time": "2024-07-23T20:40:06.888Z"
   },
   {
    "duration": 21540,
    "start_time": "2024-07-23T20:40:21.742Z"
   },
   {
    "duration": 32,
    "start_time": "2024-07-23T20:41:09.051Z"
   },
   {
    "duration": 25,
    "start_time": "2024-07-23T20:43:57.741Z"
   },
   {
    "duration": 26,
    "start_time": "2024-07-23T20:44:04.426Z"
   },
   {
    "duration": 22821,
    "start_time": "2024-07-23T20:44:08.491Z"
   },
   {
    "duration": 8,
    "start_time": "2024-07-23T20:44:31.315Z"
   },
   {
    "duration": 27,
    "start_time": "2024-07-23T20:49:45.212Z"
   },
   {
    "duration": 24102,
    "start_time": "2024-07-23T20:49:49.392Z"
   },
   {
    "duration": 14,
    "start_time": "2024-07-23T20:50:13.497Z"
   },
   {
    "duration": 142720,
    "start_time": "2024-07-23T20:50:43.083Z"
   },
   {
    "duration": 142279,
    "start_time": "2024-07-23T20:53:59.435Z"
   },
   {
    "duration": 2208,
    "start_time": "2024-07-23T20:56:31.910Z"
   },
   {
    "duration": 1882,
    "start_time": "2024-07-23T20:56:59.397Z"
   },
   {
    "duration": 1330965,
    "start_time": "2024-07-23T21:00:19.940Z"
   },
   {
    "duration": 314,
    "start_time": "2024-07-24T02:26:15.603Z"
   },
   {
    "duration": 5369,
    "start_time": "2024-07-24T02:27:02.027Z"
   },
   {
    "duration": 770,
    "start_time": "2024-07-24T02:27:07.400Z"
   },
   {
    "duration": 28,
    "start_time": "2024-07-24T02:27:08.174Z"
   },
   {
    "duration": 34,
    "start_time": "2024-07-24T02:27:08.206Z"
   },
   {
    "duration": 158,
    "start_time": "2024-07-24T02:27:08.242Z"
   },
   {
    "duration": 410,
    "start_time": "2024-07-24T02:27:08.403Z"
   },
   {
    "duration": 447,
    "start_time": "2024-07-24T02:27:08.824Z"
   },
   {
    "duration": 58,
    "start_time": "2024-07-24T02:27:09.275Z"
   },
   {
    "duration": 115,
    "start_time": "2024-07-24T02:27:09.336Z"
   },
   {
    "duration": 100,
    "start_time": "2024-07-24T02:27:09.457Z"
   },
   {
    "duration": 517,
    "start_time": "2024-07-24T02:27:09.560Z"
   },
   {
    "duration": 46,
    "start_time": "2024-07-24T02:27:10.080Z"
   },
   {
    "duration": 35,
    "start_time": "2024-07-24T02:27:10.130Z"
   },
   {
    "duration": 17,
    "start_time": "2024-07-24T02:27:10.167Z"
   },
   {
    "duration": 70,
    "start_time": "2024-07-24T02:27:10.187Z"
   },
   {
    "duration": 431,
    "start_time": "2024-07-24T02:27:10.262Z"
   },
   {
    "duration": 51,
    "start_time": "2024-07-24T02:27:10.696Z"
   },
   {
    "duration": 36,
    "start_time": "2024-07-24T02:27:10.751Z"
   },
   {
    "duration": 50,
    "start_time": "2024-07-24T02:27:10.791Z"
   },
   {
    "duration": 109,
    "start_time": "2024-07-24T02:27:10.844Z"
   },
   {
    "duration": 268,
    "start_time": "2024-07-24T02:27:10.956Z"
   },
   {
    "duration": 20,
    "start_time": "2024-07-24T02:27:11.227Z"
   },
   {
    "duration": 436,
    "start_time": "2024-07-24T02:27:11.250Z"
   },
   {
    "duration": 33,
    "start_time": "2024-07-24T02:27:11.689Z"
   },
   {
    "duration": 135,
    "start_time": "2024-07-24T02:27:11.725Z"
   },
   {
    "duration": 31,
    "start_time": "2024-07-24T02:27:11.863Z"
   },
   {
    "duration": 4763,
    "start_time": "2024-07-24T02:27:11.898Z"
   },
   {
    "duration": 539,
    "start_time": "2024-07-24T02:27:16.670Z"
   },
   {
    "duration": 313,
    "start_time": "2024-07-24T02:27:17.213Z"
   },
   {
    "duration": 35,
    "start_time": "2024-07-24T02:27:17.529Z"
   },
   {
    "duration": 6,
    "start_time": "2024-07-24T02:27:17.567Z"
   },
   {
    "duration": 1951,
    "start_time": "2024-07-24T02:27:17.576Z"
   },
   {
    "duration": 110012,
    "start_time": "2024-07-24T02:27:19.531Z"
   },
   {
    "duration": 1849,
    "start_time": "2024-07-24T02:29:09.545Z"
   },
   {
    "duration": 0,
    "start_time": "2024-07-24T02:29:11.397Z"
   },
   {
    "duration": 0,
    "start_time": "2024-07-24T02:29:11.399Z"
   },
   {
    "duration": 0,
    "start_time": "2024-07-24T02:29:11.401Z"
   },
   {
    "duration": 414,
    "start_time": "2024-07-24T02:33:12.468Z"
   },
   {
    "duration": 72,
    "start_time": "2024-07-24T02:35:09.888Z"
   },
   {
    "duration": 256,
    "start_time": "2024-07-24T02:35:47.810Z"
   },
   {
    "duration": 1196887,
    "start_time": "2024-07-24T02:36:40.100Z"
   },
   {
    "duration": 125,
    "start_time": "2024-07-24T02:56:36.991Z"
   },
   {
    "duration": 10044,
    "start_time": "2024-07-24T02:58:28.091Z"
   },
   {
    "duration": 8,
    "start_time": "2024-07-24T02:58:57.658Z"
   },
   {
    "duration": 26216,
    "start_time": "2024-07-24T03:07:08.508Z"
   },
   {
    "duration": 100623,
    "start_time": "2024-07-24T03:11:21.609Z"
   },
   {
    "duration": 110924,
    "start_time": "2024-07-24T03:15:45.712Z"
   },
   {
    "duration": 114377,
    "start_time": "2024-07-24T03:19:13.865Z"
   },
   {
    "duration": 110413,
    "start_time": "2024-07-24T03:23:06.722Z"
   },
   {
    "duration": 311,
    "start_time": "2024-07-24T04:23:52.570Z"
   },
   {
    "duration": 26,
    "start_time": "2024-07-24T04:24:40.948Z"
   },
   {
    "duration": 5419,
    "start_time": "2024-07-24T04:24:56.757Z"
   },
   {
    "duration": 773,
    "start_time": "2024-07-24T04:25:02.180Z"
   },
   {
    "duration": 29,
    "start_time": "2024-07-24T04:25:02.956Z"
   },
   {
    "duration": 44,
    "start_time": "2024-07-24T04:25:02.990Z"
   },
   {
    "duration": 156,
    "start_time": "2024-07-24T04:25:03.036Z"
   },
   {
    "duration": 419,
    "start_time": "2024-07-24T04:25:03.195Z"
   },
   {
    "duration": 472,
    "start_time": "2024-07-24T04:25:03.617Z"
   },
   {
    "duration": 58,
    "start_time": "2024-07-24T04:25:04.092Z"
   },
   {
    "duration": 115,
    "start_time": "2024-07-24T04:25:04.154Z"
   },
   {
    "duration": 97,
    "start_time": "2024-07-24T04:25:04.276Z"
   },
   {
    "duration": 481,
    "start_time": "2024-07-24T04:25:04.376Z"
   },
   {
    "duration": 33,
    "start_time": "2024-07-24T04:25:04.861Z"
   },
   {
    "duration": 57,
    "start_time": "2024-07-24T04:25:04.897Z"
   },
   {
    "duration": 18,
    "start_time": "2024-07-24T04:25:04.957Z"
   },
   {
    "duration": 63,
    "start_time": "2024-07-24T04:25:04.978Z"
   },
   {
    "duration": 424,
    "start_time": "2024-07-24T04:25:05.045Z"
   },
   {
    "duration": 66,
    "start_time": "2024-07-24T04:25:05.475Z"
   },
   {
    "duration": 35,
    "start_time": "2024-07-24T04:25:05.545Z"
   },
   {
    "duration": 57,
    "start_time": "2024-07-24T04:25:05.583Z"
   },
   {
    "duration": 103,
    "start_time": "2024-07-24T04:25:05.643Z"
   },
   {
    "duration": 273,
    "start_time": "2024-07-24T04:25:05.748Z"
   },
   {
    "duration": 28,
    "start_time": "2024-07-24T04:25:06.024Z"
   },
   {
    "duration": 94,
    "start_time": "2024-07-24T04:25:06.056Z"
   },
   {
    "duration": 461,
    "start_time": "2024-07-24T04:25:06.153Z"
   },
   {
    "duration": 28,
    "start_time": "2024-07-24T04:25:06.618Z"
   },
   {
    "duration": 117,
    "start_time": "2024-07-24T04:25:06.649Z"
   },
   {
    "duration": 36,
    "start_time": "2024-07-24T04:25:06.770Z"
   },
   {
    "duration": 4695,
    "start_time": "2024-07-24T04:25:06.833Z"
   },
   {
    "duration": 551,
    "start_time": "2024-07-24T04:25:11.531Z"
   },
   {
    "duration": 307,
    "start_time": "2024-07-24T04:25:12.084Z"
   },
   {
    "duration": 44,
    "start_time": "2024-07-24T04:25:12.394Z"
   },
   {
    "duration": 5,
    "start_time": "2024-07-24T04:25:12.442Z"
   },
   {
    "duration": 2084,
    "start_time": "2024-07-24T04:25:12.450Z"
   },
   {
    "duration": 0,
    "start_time": "2024-07-24T04:25:14.543Z"
   },
   {
    "duration": 0,
    "start_time": "2024-07-24T04:25:14.550Z"
   },
   {
    "duration": 0,
    "start_time": "2024-07-24T04:25:14.554Z"
   },
   {
    "duration": 0,
    "start_time": "2024-07-24T04:25:14.559Z"
   },
   {
    "duration": 0,
    "start_time": "2024-07-24T04:25:14.560Z"
   },
   {
    "duration": 684,
    "start_time": "2024-07-24T04:28:11.211Z"
   },
   {
    "duration": 10,
    "start_time": "2024-07-24T04:28:26.571Z"
   },
   {
    "duration": 1912,
    "start_time": "2024-07-24T04:34:00.829Z"
   },
   {
    "duration": 1952,
    "start_time": "2024-07-24T04:34:37.594Z"
   },
   {
    "duration": 110136,
    "start_time": "2024-07-24T04:34:53.113Z"
   },
   {
    "duration": 1734,
    "start_time": "2024-07-24T04:38:15.586Z"
   },
   {
    "duration": 711,
    "start_time": "2024-07-24T04:38:17.324Z"
   },
   {
    "duration": 30,
    "start_time": "2024-07-24T04:38:18.038Z"
   },
   {
    "duration": 26,
    "start_time": "2024-07-24T04:38:18.070Z"
   },
   {
    "duration": 146,
    "start_time": "2024-07-24T04:38:18.134Z"
   },
   {
    "duration": 413,
    "start_time": "2024-07-24T04:38:18.282Z"
   },
   {
    "duration": 467,
    "start_time": "2024-07-24T04:38:18.698Z"
   },
   {
    "duration": 55,
    "start_time": "2024-07-24T04:38:19.169Z"
   },
   {
    "duration": 111,
    "start_time": "2024-07-24T04:38:19.236Z"
   },
   {
    "duration": 98,
    "start_time": "2024-07-24T04:38:19.350Z"
   },
   {
    "duration": 487,
    "start_time": "2024-07-24T04:38:19.453Z"
   },
   {
    "duration": 35,
    "start_time": "2024-07-24T04:38:19.943Z"
   },
   {
    "duration": 58,
    "start_time": "2024-07-24T04:38:19.981Z"
   },
   {
    "duration": 18,
    "start_time": "2024-07-24T04:38:20.045Z"
   },
   {
    "duration": 37,
    "start_time": "2024-07-24T04:38:20.066Z"
   },
   {
    "duration": 410,
    "start_time": "2024-07-24T04:38:20.134Z"
   },
   {
    "duration": 42,
    "start_time": "2024-07-24T04:38:20.547Z"
   },
   {
    "duration": 55,
    "start_time": "2024-07-24T04:38:20.592Z"
   },
   {
    "duration": 29,
    "start_time": "2024-07-24T04:38:20.651Z"
   },
   {
    "duration": 122,
    "start_time": "2024-07-24T04:38:20.683Z"
   },
   {
    "duration": 255,
    "start_time": "2024-07-24T04:38:20.810Z"
   },
   {
    "duration": 19,
    "start_time": "2024-07-24T04:38:21.068Z"
   },
   {
    "duration": 97,
    "start_time": "2024-07-24T04:38:21.091Z"
   },
   {
    "duration": 414,
    "start_time": "2024-07-24T04:38:21.191Z"
   },
   {
    "duration": 27,
    "start_time": "2024-07-24T04:38:21.608Z"
   },
   {
    "duration": 122,
    "start_time": "2024-07-24T04:38:21.638Z"
   },
   {
    "duration": 30,
    "start_time": "2024-07-24T04:38:21.764Z"
   },
   {
    "duration": 4753,
    "start_time": "2024-07-24T04:38:21.797Z"
   },
   {
    "duration": 559,
    "start_time": "2024-07-24T04:38:26.554Z"
   },
   {
    "duration": 305,
    "start_time": "2024-07-24T04:38:27.115Z"
   },
   {
    "duration": 43,
    "start_time": "2024-07-24T04:38:27.422Z"
   },
   {
    "duration": 6,
    "start_time": "2024-07-24T04:38:27.468Z"
   },
   {
    "duration": 1972,
    "start_time": "2024-07-24T04:38:27.477Z"
   },
   {
    "duration": 307,
    "start_time": "2024-07-24T05:25:00.879Z"
   },
   {
    "duration": 5300,
    "start_time": "2024-07-24T05:25:14.738Z"
   },
   {
    "duration": 758,
    "start_time": "2024-07-24T05:25:20.043Z"
   },
   {
    "duration": 29,
    "start_time": "2024-07-24T05:25:20.804Z"
   },
   {
    "duration": 23,
    "start_time": "2024-07-24T05:25:20.836Z"
   },
   {
    "duration": 185,
    "start_time": "2024-07-24T05:25:20.865Z"
   },
   {
    "duration": 427,
    "start_time": "2024-07-24T05:25:21.054Z"
   },
   {
    "duration": 465,
    "start_time": "2024-07-24T05:25:21.485Z"
   },
   {
    "duration": 58,
    "start_time": "2024-07-24T05:25:21.952Z"
   },
   {
    "duration": 123,
    "start_time": "2024-07-24T05:25:22.012Z"
   },
   {
    "duration": 100,
    "start_time": "2024-07-24T05:25:22.138Z"
   },
   {
    "duration": 535,
    "start_time": "2024-07-24T05:25:22.241Z"
   },
   {
    "duration": 41,
    "start_time": "2024-07-24T05:25:22.780Z"
   },
   {
    "duration": 33,
    "start_time": "2024-07-24T05:25:22.824Z"
   },
   {
    "duration": 46,
    "start_time": "2024-07-24T05:25:22.864Z"
   },
   {
    "duration": 38,
    "start_time": "2024-07-24T05:25:22.912Z"
   },
   {
    "duration": 422,
    "start_time": "2024-07-24T05:25:22.955Z"
   },
   {
    "duration": 60,
    "start_time": "2024-07-24T05:25:23.380Z"
   },
   {
    "duration": 35,
    "start_time": "2024-07-24T05:25:23.443Z"
   },
   {
    "duration": 46,
    "start_time": "2024-07-24T05:25:23.481Z"
   },
   {
    "duration": 109,
    "start_time": "2024-07-24T05:25:23.529Z"
   },
   {
    "duration": 258,
    "start_time": "2024-07-24T05:25:23.641Z"
   },
   {
    "duration": 23,
    "start_time": "2024-07-24T05:25:23.902Z"
   },
   {
    "duration": 89,
    "start_time": "2024-07-24T05:25:23.928Z"
   },
   {
    "duration": 449,
    "start_time": "2024-07-24T05:25:24.021Z"
   },
   {
    "duration": 19,
    "start_time": "2024-07-24T05:25:24.473Z"
   },
   {
    "duration": 126,
    "start_time": "2024-07-24T05:25:24.508Z"
   },
   {
    "duration": 31,
    "start_time": "2024-07-24T05:25:24.637Z"
   },
   {
    "duration": 4755,
    "start_time": "2024-07-24T05:25:24.671Z"
   },
   {
    "duration": 536,
    "start_time": "2024-07-24T05:25:29.428Z"
   },
   {
    "duration": 304,
    "start_time": "2024-07-24T05:25:29.966Z"
   },
   {
    "duration": 40,
    "start_time": "2024-07-24T05:25:30.273Z"
   },
   {
    "duration": 6,
    "start_time": "2024-07-24T05:25:30.316Z"
   },
   {
    "duration": 1806,
    "start_time": "2024-07-24T05:25:30.326Z"
   },
   {
    "duration": 110719,
    "start_time": "2024-07-24T05:25:32.210Z"
   },
   {
    "duration": 1156645,
    "start_time": "2024-07-24T05:27:22.933Z"
   },
   {
    "duration": 10229,
    "start_time": "2024-07-24T05:46:39.581Z"
   },
   {
    "duration": 11,
    "start_time": "2024-07-24T05:46:49.813Z"
   },
   {
    "duration": 25522,
    "start_time": "2024-07-24T05:46:49.828Z"
   },
   {
    "duration": 109225,
    "start_time": "2024-07-24T05:51:21.394Z"
   },
   {
    "duration": 11,
    "start_time": "2024-07-24T05:54:08.945Z"
   },
   {
    "duration": 10444,
    "start_time": "2024-07-24T05:54:30.176Z"
   },
   {
    "duration": 11,
    "start_time": "2024-07-24T05:59:00.573Z"
   },
   {
    "duration": 32684,
    "start_time": "2024-07-24T06:00:11.332Z"
   },
   {
    "duration": 11,
    "start_time": "2024-07-24T06:00:44.019Z"
   },
   {
    "duration": 10125,
    "start_time": "2024-07-24T06:00:55.101Z"
   },
   {
    "duration": 11,
    "start_time": "2024-07-24T06:01:05.230Z"
   },
   {
    "duration": 1778,
    "start_time": "2024-07-25T20:33:07.034Z"
   },
   {
    "duration": 802,
    "start_time": "2024-07-25T20:33:08.815Z"
   },
   {
    "duration": 32,
    "start_time": "2024-07-25T20:33:09.622Z"
   },
   {
    "duration": 48,
    "start_time": "2024-07-25T20:33:09.658Z"
   },
   {
    "duration": 166,
    "start_time": "2024-07-25T20:33:09.710Z"
   },
   {
    "duration": 401,
    "start_time": "2024-07-25T20:33:09.879Z"
   },
   {
    "duration": 472,
    "start_time": "2024-07-25T20:33:10.283Z"
   },
   {
    "duration": 65,
    "start_time": "2024-07-25T20:33:10.758Z"
   },
   {
    "duration": 117,
    "start_time": "2024-07-25T20:33:10.825Z"
   },
   {
    "duration": 100,
    "start_time": "2024-07-25T20:33:10.944Z"
   },
   {
    "duration": 506,
    "start_time": "2024-07-25T20:33:11.049Z"
   },
   {
    "duration": 47,
    "start_time": "2024-07-25T20:33:11.559Z"
   },
   {
    "duration": 35,
    "start_time": "2024-07-25T20:33:11.609Z"
   },
   {
    "duration": 21,
    "start_time": "2024-07-25T20:33:11.655Z"
   },
   {
    "duration": 49,
    "start_time": "2024-07-25T20:33:11.706Z"
   },
   {
    "duration": 404,
    "start_time": "2024-07-25T20:33:11.758Z"
   },
   {
    "duration": 52,
    "start_time": "2024-07-25T20:33:12.165Z"
   },
   {
    "duration": 36,
    "start_time": "2024-07-25T20:33:12.220Z"
   },
   {
    "duration": 53,
    "start_time": "2024-07-25T20:33:12.260Z"
   },
   {
    "duration": 148,
    "start_time": "2024-07-25T20:33:12.316Z"
   },
   {
    "duration": 261,
    "start_time": "2024-07-25T20:33:12.470Z"
   },
   {
    "duration": 23,
    "start_time": "2024-07-25T20:33:12.736Z"
   },
   {
    "duration": 98,
    "start_time": "2024-07-25T20:33:12.762Z"
   },
   {
    "duration": 420,
    "start_time": "2024-07-25T20:33:12.864Z"
   },
   {
    "duration": 31,
    "start_time": "2024-07-25T20:33:13.288Z"
   },
   {
    "duration": 138,
    "start_time": "2024-07-25T20:33:13.322Z"
   },
   {
    "duration": 44,
    "start_time": "2024-07-25T20:33:13.463Z"
   },
   {
    "duration": 5026,
    "start_time": "2024-07-25T20:33:13.511Z"
   },
   {
    "duration": 559,
    "start_time": "2024-07-25T20:33:18.539Z"
   },
   {
    "duration": 318,
    "start_time": "2024-07-25T20:33:19.105Z"
   },
   {
    "duration": 37,
    "start_time": "2024-07-25T20:33:19.426Z"
   },
   {
    "duration": 9,
    "start_time": "2024-07-25T20:33:19.466Z"
   },
   {
    "duration": 2130,
    "start_time": "2024-07-25T20:33:19.478Z"
   },
   {
    "duration": 129361,
    "start_time": "2024-07-25T20:33:21.611Z"
   },
   {
    "duration": 1850,
    "start_time": "2024-07-25T20:54:07.184Z"
   },
   {
    "duration": 845,
    "start_time": "2024-07-25T20:54:09.038Z"
   },
   {
    "duration": 39,
    "start_time": "2024-07-25T20:54:09.885Z"
   },
   {
    "duration": 23,
    "start_time": "2024-07-25T20:54:09.929Z"
   },
   {
    "duration": 176,
    "start_time": "2024-07-25T20:54:09.955Z"
   },
   {
    "duration": 433,
    "start_time": "2024-07-25T20:54:10.134Z"
   },
   {
    "duration": 460,
    "start_time": "2024-07-25T20:54:10.574Z"
   },
   {
    "duration": 69,
    "start_time": "2024-07-25T20:54:11.037Z"
   },
   {
    "duration": 108,
    "start_time": "2024-07-25T20:54:11.109Z"
   },
   {
    "duration": 103,
    "start_time": "2024-07-25T20:54:11.223Z"
   },
   {
    "duration": 511,
    "start_time": "2024-07-25T20:54:11.329Z"
   },
   {
    "duration": 32,
    "start_time": "2024-07-25T20:54:11.844Z"
   },
   {
    "duration": 48,
    "start_time": "2024-07-25T20:54:11.879Z"
   },
   {
    "duration": 20,
    "start_time": "2024-07-25T20:54:11.930Z"
   },
   {
    "duration": 64,
    "start_time": "2024-07-25T20:54:11.952Z"
   },
   {
    "duration": 410,
    "start_time": "2024-07-25T20:54:12.019Z"
   },
   {
    "duration": 43,
    "start_time": "2024-07-25T20:54:12.432Z"
   },
   {
    "duration": 56,
    "start_time": "2024-07-25T20:54:12.478Z"
   },
   {
    "duration": 29,
    "start_time": "2024-07-25T20:54:12.537Z"
   },
   {
    "duration": 120,
    "start_time": "2024-07-25T20:54:12.569Z"
   },
   {
    "duration": 296,
    "start_time": "2024-07-25T20:54:12.692Z"
   },
   {
    "duration": 31,
    "start_time": "2024-07-25T20:54:12.990Z"
   },
   {
    "duration": 86,
    "start_time": "2024-07-25T20:54:13.025Z"
   },
   {
    "duration": 446,
    "start_time": "2024-07-25T20:54:13.113Z"
   },
   {
    "duration": 19,
    "start_time": "2024-07-25T20:54:13.561Z"
   },
   {
    "duration": 94,
    "start_time": "2024-07-25T20:54:13.605Z"
   },
   {
    "duration": 33,
    "start_time": "2024-07-25T20:54:13.706Z"
   },
   {
    "duration": 4890,
    "start_time": "2024-07-25T20:54:13.747Z"
   },
   {
    "duration": 572,
    "start_time": "2024-07-25T20:54:18.639Z"
   },
   {
    "duration": 325,
    "start_time": "2024-07-25T20:54:19.215Z"
   },
   {
    "duration": 35,
    "start_time": "2024-07-25T20:54:19.543Z"
   },
   {
    "duration": 5,
    "start_time": "2024-07-25T20:54:19.581Z"
   },
   {
    "duration": 1698,
    "start_time": "2024-07-25T20:54:19.607Z"
   },
   {
    "duration": 322,
    "start_time": "2024-07-29T20:46:38.304Z"
   },
   {
    "duration": 5388,
    "start_time": "2024-07-29T20:46:47.184Z"
   },
   {
    "duration": 785,
    "start_time": "2024-07-29T20:46:52.576Z"
   },
   {
    "duration": 27,
    "start_time": "2024-07-29T20:46:53.365Z"
   },
   {
    "duration": 36,
    "start_time": "2024-07-29T20:46:53.395Z"
   },
   {
    "duration": 162,
    "start_time": "2024-07-29T20:46:53.435Z"
   },
   {
    "duration": 412,
    "start_time": "2024-07-29T20:46:53.609Z"
   },
   {
    "duration": 477,
    "start_time": "2024-07-29T20:46:54.025Z"
   },
   {
    "duration": 51,
    "start_time": "2024-07-29T20:46:54.508Z"
   },
   {
    "duration": 137,
    "start_time": "2024-07-29T20:46:54.563Z"
   },
   {
    "duration": 96,
    "start_time": "2024-07-29T20:46:54.708Z"
   },
   {
    "duration": 502,
    "start_time": "2024-07-29T20:46:54.810Z"
   },
   {
    "duration": 34,
    "start_time": "2024-07-29T20:46:55.318Z"
   },
   {
    "duration": 59,
    "start_time": "2024-07-29T20:46:55.356Z"
   },
   {
    "duration": 16,
    "start_time": "2024-07-29T20:46:55.425Z"
   },
   {
    "duration": 36,
    "start_time": "2024-07-29T20:46:55.445Z"
   },
   {
    "duration": 404,
    "start_time": "2024-07-29T20:46:55.510Z"
   },
   {
    "duration": 44,
    "start_time": "2024-07-29T20:46:55.917Z"
   },
   {
    "duration": 59,
    "start_time": "2024-07-29T20:46:55.965Z"
   },
   {
    "duration": 30,
    "start_time": "2024-07-29T20:46:56.026Z"
   },
   {
    "duration": 118,
    "start_time": "2024-07-29T20:46:56.060Z"
   },
   {
    "duration": 270,
    "start_time": "2024-07-29T20:46:56.181Z"
   },
   {
    "duration": 19,
    "start_time": "2024-07-29T20:46:56.454Z"
   },
   {
    "duration": 94,
    "start_time": "2024-07-29T20:46:56.477Z"
   },
   {
    "duration": 779,
    "start_time": "2024-07-29T20:46:56.575Z"
   },
   {
    "duration": 23,
    "start_time": "2024-07-29T20:46:57.358Z"
   },
   {
    "duration": 102,
    "start_time": "2024-07-29T20:46:57.385Z"
   },
   {
    "duration": 43,
    "start_time": "2024-07-29T20:46:57.490Z"
   },
   {
    "duration": 4743,
    "start_time": "2024-07-29T20:46:57.537Z"
   },
   {
    "duration": 558,
    "start_time": "2024-07-29T20:47:02.282Z"
   },
   {
    "duration": 312,
    "start_time": "2024-07-29T20:47:02.842Z"
   },
   {
    "duration": 34,
    "start_time": "2024-07-29T20:47:03.157Z"
   },
   {
    "duration": 5,
    "start_time": "2024-07-29T20:47:03.210Z"
   },
   {
    "duration": 2102,
    "start_time": "2024-07-29T20:47:03.219Z"
   },
   {
    "duration": 113201,
    "start_time": "2024-07-29T20:47:05.323Z"
   },
   {
    "duration": 1715,
    "start_time": "2024-07-29T20:53:58.574Z"
   },
   {
    "duration": 744,
    "start_time": "2024-07-29T20:54:00.294Z"
   },
   {
    "duration": 32,
    "start_time": "2024-07-29T20:54:01.041Z"
   },
   {
    "duration": 45,
    "start_time": "2024-07-29T20:54:01.076Z"
   },
   {
    "duration": 159,
    "start_time": "2024-07-29T20:54:01.124Z"
   },
   {
    "duration": 444,
    "start_time": "2024-07-29T20:54:01.286Z"
   },
   {
    "duration": 459,
    "start_time": "2024-07-29T20:54:01.733Z"
   },
   {
    "duration": 58,
    "start_time": "2024-07-29T20:54:02.194Z"
   },
   {
    "duration": 121,
    "start_time": "2024-07-29T20:54:02.255Z"
   },
   {
    "duration": 99,
    "start_time": "2024-07-29T20:54:02.382Z"
   },
   {
    "duration": 491,
    "start_time": "2024-07-29T20:54:02.484Z"
   },
   {
    "duration": 41,
    "start_time": "2024-07-29T20:54:02.978Z"
   },
   {
    "duration": 35,
    "start_time": "2024-07-29T20:54:03.022Z"
   },
   {
    "duration": 49,
    "start_time": "2024-07-29T20:54:03.061Z"
   },
   {
    "duration": 36,
    "start_time": "2024-07-29T20:54:03.113Z"
   },
   {
    "duration": 410,
    "start_time": "2024-07-29T20:54:03.153Z"
   },
   {
    "duration": 54,
    "start_time": "2024-07-29T20:54:03.567Z"
   },
   {
    "duration": 40,
    "start_time": "2024-07-29T20:54:03.624Z"
   },
   {
    "duration": 61,
    "start_time": "2024-07-29T20:54:03.667Z"
   },
   {
    "duration": 111,
    "start_time": "2024-07-29T20:54:03.731Z"
   },
   {
    "duration": 263,
    "start_time": "2024-07-29T20:54:03.845Z"
   },
   {
    "duration": 22,
    "start_time": "2024-07-29T20:54:04.111Z"
   },
   {
    "duration": 96,
    "start_time": "2024-07-29T20:54:04.136Z"
   },
   {
    "duration": 798,
    "start_time": "2024-07-29T20:54:04.235Z"
   },
   {
    "duration": 19,
    "start_time": "2024-07-29T20:54:05.038Z"
   },
   {
    "duration": 111,
    "start_time": "2024-07-29T20:54:05.064Z"
   },
   {
    "duration": 48,
    "start_time": "2024-07-29T20:54:05.178Z"
   },
   {
    "duration": 4927,
    "start_time": "2024-07-29T20:54:05.234Z"
   },
   {
    "duration": 549,
    "start_time": "2024-07-29T20:54:10.164Z"
   },
   {
    "duration": 319,
    "start_time": "2024-07-29T20:54:10.716Z"
   },
   {
    "duration": 34,
    "start_time": "2024-07-29T20:54:11.038Z"
   },
   {
    "duration": 7,
    "start_time": "2024-07-29T20:54:11.075Z"
   },
   {
    "duration": 1906,
    "start_time": "2024-07-29T20:54:11.110Z"
   },
   {
    "duration": 112810,
    "start_time": "2024-07-29T20:54:13.020Z"
   },
   {
    "duration": 1817,
    "start_time": "2024-07-29T21:04:45.966Z"
   },
   {
    "duration": 723,
    "start_time": "2024-07-29T21:04:47.786Z"
   },
   {
    "duration": 30,
    "start_time": "2024-07-29T21:04:48.511Z"
   },
   {
    "duration": 22,
    "start_time": "2024-07-29T21:04:48.545Z"
   },
   {
    "duration": 181,
    "start_time": "2024-07-29T21:04:48.569Z"
   },
   {
    "duration": 422,
    "start_time": "2024-07-29T21:04:48.753Z"
   },
   {
    "duration": 471,
    "start_time": "2024-07-29T21:04:49.178Z"
   },
   {
    "duration": 65,
    "start_time": "2024-07-29T21:04:49.653Z"
   },
   {
    "duration": 117,
    "start_time": "2024-07-29T21:04:49.721Z"
   },
   {
    "duration": 99,
    "start_time": "2024-07-29T21:04:49.845Z"
   },
   {
    "duration": 484,
    "start_time": "2024-07-29T21:04:49.948Z"
   },
   {
    "duration": 34,
    "start_time": "2024-07-29T21:04:50.435Z"
   },
   {
    "duration": 51,
    "start_time": "2024-07-29T21:04:50.473Z"
   },
   {
    "duration": 18,
    "start_time": "2024-07-29T21:04:50.527Z"
   },
   {
    "duration": 73,
    "start_time": "2024-07-29T21:04:50.548Z"
   },
   {
    "duration": 440,
    "start_time": "2024-07-29T21:04:50.625Z"
   },
   {
    "duration": 53,
    "start_time": "2024-07-29T21:04:51.068Z"
   },
   {
    "duration": 37,
    "start_time": "2024-07-29T21:04:51.124Z"
   },
   {
    "duration": 52,
    "start_time": "2024-07-29T21:04:51.165Z"
   },
   {
    "duration": 107,
    "start_time": "2024-07-29T21:04:51.220Z"
   },
   {
    "duration": 263,
    "start_time": "2024-07-29T21:04:51.331Z"
   },
   {
    "duration": 20,
    "start_time": "2024-07-29T21:04:51.608Z"
   },
   {
    "duration": 86,
    "start_time": "2024-07-29T21:04:51.631Z"
   },
   {
    "duration": 728,
    "start_time": "2024-07-29T21:04:51.721Z"
   },
   {
    "duration": 20,
    "start_time": "2024-07-29T21:04:52.452Z"
   },
   {
    "duration": 118,
    "start_time": "2024-07-29T21:04:52.475Z"
   },
   {
    "duration": 31,
    "start_time": "2024-07-29T21:04:52.608Z"
   },
   {
    "duration": 4770,
    "start_time": "2024-07-29T21:04:52.647Z"
   },
   {
    "duration": 541,
    "start_time": "2024-07-29T21:04:57.419Z"
   },
   {
    "duration": 314,
    "start_time": "2024-07-29T21:04:57.962Z"
   },
   {
    "duration": 39,
    "start_time": "2024-07-29T21:04:58.280Z"
   },
   {
    "duration": 6,
    "start_time": "2024-07-29T21:04:58.322Z"
   },
   {
    "duration": 1896,
    "start_time": "2024-07-29T21:04:58.332Z"
   },
   {
    "duration": 114800,
    "start_time": "2024-07-29T21:05:00.309Z"
   },
   {
    "duration": 471,
    "start_time": "2024-07-29T21:06:55.112Z"
   },
   {
    "duration": 0,
    "start_time": "2024-07-29T21:06:55.585Z"
   },
   {
    "duration": 0,
    "start_time": "2024-07-29T21:06:55.587Z"
   },
   {
    "duration": 0,
    "start_time": "2024-07-29T21:06:55.588Z"
   },
   {
    "duration": 1776,
    "start_time": "2024-07-29T21:16:20.914Z"
   },
   {
    "duration": 731,
    "start_time": "2024-07-29T21:16:22.694Z"
   },
   {
    "duration": 35,
    "start_time": "2024-07-29T21:16:23.428Z"
   },
   {
    "duration": 48,
    "start_time": "2024-07-29T21:16:23.469Z"
   },
   {
    "duration": 166,
    "start_time": "2024-07-29T21:16:23.520Z"
   },
   {
    "duration": 423,
    "start_time": "2024-07-29T21:16:23.690Z"
   },
   {
    "duration": 480,
    "start_time": "2024-07-29T21:16:24.115Z"
   },
   {
    "duration": 58,
    "start_time": "2024-07-29T21:16:24.598Z"
   },
   {
    "duration": 126,
    "start_time": "2024-07-29T21:16:24.659Z"
   },
   {
    "duration": 104,
    "start_time": "2024-07-29T21:16:24.791Z"
   },
   {
    "duration": 485,
    "start_time": "2024-07-29T21:16:24.909Z"
   },
   {
    "duration": 44,
    "start_time": "2024-07-29T21:16:25.398Z"
   },
   {
    "duration": 35,
    "start_time": "2024-07-29T21:16:25.445Z"
   },
   {
    "duration": 39,
    "start_time": "2024-07-29T21:16:25.483Z"
   },
   {
    "duration": 35,
    "start_time": "2024-07-29T21:16:25.525Z"
   },
   {
    "duration": 428,
    "start_time": "2024-07-29T21:16:25.563Z"
   },
   {
    "duration": 53,
    "start_time": "2024-07-29T21:16:25.994Z"
   },
   {
    "duration": 36,
    "start_time": "2024-07-29T21:16:26.050Z"
   },
   {
    "duration": 30,
    "start_time": "2024-07-29T21:16:26.108Z"
   },
   {
    "duration": 123,
    "start_time": "2024-07-29T21:16:26.141Z"
   },
   {
    "duration": 269,
    "start_time": "2024-07-29T21:16:26.268Z"
   },
   {
    "duration": 19,
    "start_time": "2024-07-29T21:16:26.541Z"
   },
   {
    "duration": 98,
    "start_time": "2024-07-29T21:16:26.563Z"
   },
   {
    "duration": 702,
    "start_time": "2024-07-29T21:16:26.664Z"
   },
   {
    "duration": 22,
    "start_time": "2024-07-29T21:16:27.368Z"
   },
   {
    "duration": 116,
    "start_time": "2024-07-29T21:16:27.394Z"
   },
   {
    "duration": 32,
    "start_time": "2024-07-29T21:16:27.513Z"
   },
   {
    "duration": 4778,
    "start_time": "2024-07-29T21:16:27.551Z"
   },
   {
    "duration": 541,
    "start_time": "2024-07-29T21:16:32.332Z"
   },
   {
    "duration": 319,
    "start_time": "2024-07-29T21:16:32.876Z"
   },
   {
    "duration": 45,
    "start_time": "2024-07-29T21:16:33.198Z"
   },
   {
    "duration": 6,
    "start_time": "2024-07-29T21:16:33.246Z"
   },
   {
    "duration": 2053,
    "start_time": "2024-07-29T21:16:33.256Z"
   },
   {
    "duration": 114618,
    "start_time": "2024-07-29T21:16:35.313Z"
   },
   {
    "duration": 1203690,
    "start_time": "2024-07-29T21:18:29.934Z"
   },
   {
    "duration": 0,
    "start_time": "2024-07-29T21:38:33.627Z"
   },
   {
    "duration": 0,
    "start_time": "2024-07-29T21:38:33.628Z"
   },
   {
    "duration": 0,
    "start_time": "2024-07-29T21:38:33.631Z"
   },
   {
    "duration": 1725,
    "start_time": "2024-07-29T21:48:57.161Z"
   },
   {
    "duration": 722,
    "start_time": "2024-07-29T21:48:58.889Z"
   },
   {
    "duration": 31,
    "start_time": "2024-07-29T21:48:59.614Z"
   },
   {
    "duration": 22,
    "start_time": "2024-07-29T21:48:59.648Z"
   },
   {
    "duration": 144,
    "start_time": "2024-07-29T21:48:59.708Z"
   },
   {
    "duration": 407,
    "start_time": "2024-07-29T21:48:59.855Z"
   },
   {
    "duration": 458,
    "start_time": "2024-07-29T21:49:00.265Z"
   },
   {
    "duration": 53,
    "start_time": "2024-07-29T21:49:00.726Z"
   },
   {
    "duration": 116,
    "start_time": "2024-07-29T21:49:00.782Z"
   },
   {
    "duration": 105,
    "start_time": "2024-07-29T21:49:00.909Z"
   },
   {
    "duration": 471,
    "start_time": "2024-07-29T21:49:01.017Z"
   },
   {
    "duration": 42,
    "start_time": "2024-07-29T21:49:01.491Z"
   },
   {
    "duration": 36,
    "start_time": "2024-07-29T21:49:01.538Z"
   },
   {
    "duration": 40,
    "start_time": "2024-07-29T21:49:01.582Z"
   },
   {
    "duration": 37,
    "start_time": "2024-07-29T21:49:01.626Z"
   },
   {
    "duration": 429,
    "start_time": "2024-07-29T21:49:01.666Z"
   },
   {
    "duration": 51,
    "start_time": "2024-07-29T21:49:02.097Z"
   },
   {
    "duration": 59,
    "start_time": "2024-07-29T21:49:02.150Z"
   },
   {
    "duration": 29,
    "start_time": "2024-07-29T21:49:02.212Z"
   },
   {
    "duration": 110,
    "start_time": "2024-07-29T21:49:02.245Z"
   },
   {
    "duration": 267,
    "start_time": "2024-07-29T21:49:02.358Z"
   },
   {
    "duration": 23,
    "start_time": "2024-07-29T21:49:02.628Z"
   },
   {
    "duration": 100,
    "start_time": "2024-07-29T21:49:02.655Z"
   },
   {
    "duration": 714,
    "start_time": "2024-07-29T21:49:02.759Z"
   },
   {
    "duration": 19,
    "start_time": "2024-07-29T21:49:03.479Z"
   },
   {
    "duration": 108,
    "start_time": "2024-07-29T21:49:03.500Z"
   },
   {
    "duration": 31,
    "start_time": "2024-07-29T21:49:03.611Z"
   },
   {
    "duration": 5007,
    "start_time": "2024-07-29T21:49:03.645Z"
   },
   {
    "duration": 546,
    "start_time": "2024-07-29T21:49:08.654Z"
   },
   {
    "duration": 307,
    "start_time": "2024-07-29T21:49:09.202Z"
   },
   {
    "duration": 36,
    "start_time": "2024-07-29T21:49:09.512Z"
   },
   {
    "duration": 5,
    "start_time": "2024-07-29T21:49:09.551Z"
   },
   {
    "duration": 1953,
    "start_time": "2024-07-29T21:49:09.558Z"
   },
   {
    "duration": 114298,
    "start_time": "2024-07-29T21:49:11.514Z"
   },
   {
    "duration": 1198633,
    "start_time": "2024-07-29T21:51:05.817Z"
   },
   {
    "duration": 10270,
    "start_time": "2024-07-29T22:11:04.453Z"
   },
   {
    "duration": 4,
    "start_time": "2024-07-29T22:11:14.726Z"
   },
   {
    "duration": 27014,
    "start_time": "2024-07-29T22:11:14.733Z"
   },
   {
    "duration": 127986,
    "start_time": "2024-07-29T22:32:00.145Z"
   },
   {
    "duration": 27056,
    "start_time": "2024-07-29T22:34:08.135Z"
   },
   {
    "duration": 10131,
    "start_time": "2024-07-29T22:34:35.195Z"
   },
   {
    "duration": 12082,
    "start_time": "2024-07-29T22:38:30.327Z"
   },
   {
    "duration": 7750,
    "start_time": "2024-07-29T22:40:30.573Z"
   },
   {
    "duration": 348,
    "start_time": "2024-08-08T20:05:38.735Z"
   },
   {
    "duration": 162,
    "start_time": "2024-10-14T21:34:38.477Z"
   },
   {
    "duration": 2664,
    "start_time": "2024-10-14T21:34:47.241Z"
   },
   {
    "duration": 472,
    "start_time": "2024-10-14T21:34:49.907Z"
   },
   {
    "duration": 27,
    "start_time": "2024-10-14T21:34:50.380Z"
   },
   {
    "duration": 14,
    "start_time": "2024-10-14T21:34:50.409Z"
   },
   {
    "duration": 100,
    "start_time": "2024-10-14T21:34:50.424Z"
   },
   {
    "duration": 251,
    "start_time": "2024-10-14T21:34:50.526Z"
   },
   {
    "duration": 259,
    "start_time": "2024-10-14T21:34:50.778Z"
   },
   {
    "duration": 29,
    "start_time": "2024-10-14T21:34:51.039Z"
   },
   {
    "duration": 66,
    "start_time": "2024-10-14T21:34:51.069Z"
   },
   {
    "duration": 72,
    "start_time": "2024-10-14T21:34:51.138Z"
   },
   {
    "duration": 228,
    "start_time": "2024-10-14T21:34:51.211Z"
   },
   {
    "duration": 18,
    "start_time": "2024-10-14T21:34:51.440Z"
   },
   {
    "duration": 19,
    "start_time": "2024-10-14T21:34:51.461Z"
   },
   {
    "duration": 25,
    "start_time": "2024-10-14T21:34:51.482Z"
   },
   {
    "duration": 23,
    "start_time": "2024-10-14T21:34:51.508Z"
   },
   {
    "duration": 248,
    "start_time": "2024-10-14T21:34:51.532Z"
   },
   {
    "duration": 25,
    "start_time": "2024-10-14T21:34:51.782Z"
   },
   {
    "duration": 30,
    "start_time": "2024-10-14T21:34:51.809Z"
   },
   {
    "duration": 16,
    "start_time": "2024-10-14T21:34:51.840Z"
   },
   {
    "duration": 72,
    "start_time": "2024-10-14T21:34:51.858Z"
   },
   {
    "duration": 150,
    "start_time": "2024-10-14T21:34:51.932Z"
   },
   {
    "duration": 11,
    "start_time": "2024-10-14T21:34:52.083Z"
   },
   {
    "duration": 43,
    "start_time": "2024-10-14T21:34:52.096Z"
   },
   {
    "duration": 432,
    "start_time": "2024-10-14T21:34:52.141Z"
   },
   {
    "duration": 14,
    "start_time": "2024-10-14T21:34:52.575Z"
   },
   {
    "duration": 73,
    "start_time": "2024-10-14T21:34:52.590Z"
   },
   {
    "duration": 98,
    "start_time": "2024-10-14T21:34:52.665Z"
   },
   {
    "duration": 2013,
    "start_time": "2024-10-14T21:34:52.767Z"
   },
   {
    "duration": 345,
    "start_time": "2024-10-14T21:34:54.782Z"
   },
   {
    "duration": 173,
    "start_time": "2024-10-14T21:34:55.129Z"
   },
   {
    "duration": 23,
    "start_time": "2024-10-14T21:34:55.305Z"
   },
   {
    "duration": 3,
    "start_time": "2024-10-14T21:34:55.331Z"
   },
   {
    "duration": 969,
    "start_time": "2024-10-14T21:34:55.336Z"
   },
   {
    "duration": 89427,
    "start_time": "2024-10-14T21:34:56.308Z"
   },
   {
    "duration": 588842,
    "start_time": "2024-10-14T21:36:25.737Z"
   },
   {
    "duration": 16763,
    "start_time": "2024-10-14T21:46:14.582Z"
   },
   {
    "duration": 14643,
    "start_time": "2024-10-14T21:46:31.346Z"
   }
  ],
  "kernelspec": {
   "display_name": "Python 3 (ipykernel)",
   "language": "python",
   "name": "python3"
  },
  "language_info": {
   "codemirror_mode": {
    "name": "ipython",
    "version": 3
   },
   "file_extension": ".py",
   "mimetype": "text/x-python",
   "name": "python",
   "nbconvert_exporter": "python",
   "pygments_lexer": "ipython3",
   "version": "3.9.19"
  },
  "toc": {
   "base_numbering": 1,
   "nav_menu": {},
   "number_sections": true,
   "sideBar": true,
   "skip_h1_title": true,
   "title_cell": "Table of Contents",
   "title_sidebar": "Contents",
   "toc_cell": false,
   "toc_position": {},
   "toc_section_display": true,
   "toc_window_display": false
  }
 },
 "nbformat": 4,
 "nbformat_minor": 2
}
